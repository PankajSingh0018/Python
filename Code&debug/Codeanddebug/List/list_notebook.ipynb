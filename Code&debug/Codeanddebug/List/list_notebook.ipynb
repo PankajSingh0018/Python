{
 "cells": [
  {
   "cell_type": "code",
   "execution_count": 38,
   "metadata": {},
   "outputs": [
    {
     "name": "stdout",
     "output_type": "stream",
     "text": [
      "Pankaj\n",
      "32.56\n",
      "89\n",
      "56\n",
      "45\n"
     ]
    }
   ],
   "source": [
    "#Make your own list by taking. Print the list in reverse.\n",
    "my_list= [45,56,89,32.56,\"Pankaj\"]\n",
    "\n",
    "for i in range(4, -1, -1):\n",
    "    print(my_list[i])"
   ]
  },
  {
   "cell_type": "code",
   "execution_count": 39,
   "metadata": {},
   "outputs": [
    {
     "name": "stdout",
     "output_type": "stream",
     "text": [
      "74\n",
      "52\n",
      "44\n"
     ]
    }
   ],
   "source": [
    "#Make your own list. Print all the even numbers present in the list.\n",
    "\n",
    "my_list = [51,74,85,91,52,44]\n",
    "\n",
    "for element in my_list:\n",
    "    if element%2==0:\n",
    "        print(element)"
   ]
  },
  {
   "cell_type": "code",
   "execution_count": 40,
   "metadata": {},
   "outputs": [
    {
     "name": "stdout",
     "output_type": "stream",
     "text": [
      "51\n",
      "85\n",
      "91\n"
     ]
    }
   ],
   "source": [
    "# Make your own list. Print all the odd numbers present in the list.\n",
    "my_list = [51,74,85,91,52,44]\n",
    "for i in range(0, len(my_list)):\n",
    "    if my_list[i]%2 !=0:\n",
    "        print(my_list[i])"
   ]
  },
  {
   "cell_type": "code",
   "execution_count": 41,
   "metadata": {},
   "outputs": [
    {
     "name": "stdout",
     "output_type": "stream",
     "text": [
      "51\n",
      "85\n",
      "44\n",
      "22.0\n"
     ]
    }
   ],
   "source": [
    "#Make your own list. Print all the elements present at even index position.\n",
    "\n",
    "my_list= [51, \"Pankaj\", 85,95,44,100, 22.0]\n",
    "\n",
    "for i in range(0, len(my_list),2):\n",
    "    print(my_list[i])"
   ]
  },
  {
   "cell_type": "code",
   "execution_count": 42,
   "metadata": {},
   "outputs": [
    {
     "name": "stdout",
     "output_type": "stream",
     "text": [
      "The sum of the elements in the list is 397\n"
     ]
    }
   ],
   "source": [
    "#Make your own list. Print the sum of all elements present in that list.\n",
    "my_list = [51,74,85,91,52,44]\n",
    "sum = 0\n",
    "for element in my_list:\n",
    "    sum = sum+ element\n",
    "\n",
    "print(f\"The sum of the elements in the list is {sum}\")\n"
   ]
  },
  {
   "cell_type": "code",
   "execution_count": 43,
   "metadata": {},
   "outputs": [
    {
     "name": "stdout",
     "output_type": "stream",
     "text": [
      "The total number of Even number in the list is 3\n"
     ]
    }
   ],
   "source": [
    "# Make your own list. Count the number of even numbers present in that list \n",
    "my_list = [51,74,85,91,52,44]\n",
    "counter =0\n",
    "for element in my_list:\n",
    "    if element %2==0:\n",
    "        counter +=1\n",
    "\n",
    "print(f\"The total number of Even number in the list is {counter}\")"
   ]
  },
  {
   "cell_type": "code",
   "execution_count": 44,
   "metadata": {},
   "outputs": [
    {
     "name": "stdout",
     "output_type": "stream",
     "text": [
      "The total number divisible by 2 and 5 are 1\n"
     ]
    }
   ],
   "source": [
    "#Make your own list. Count how many numbers are divisible by both 2 and 5 in that list.\n",
    "my_list = [51,74,85,91,52,44,50]\n",
    "counter =0\n",
    "for element in my_list:\n",
    "    if element%2 ==0 and element%5==0:\n",
    "        counter +=1\n",
    "\n",
    "print(f\"The total number divisible by 2 and 5 are {counter}\")\n",
    "\n"
   ]
  },
  {
   "cell_type": "code",
   "execution_count": 45,
   "metadata": {},
   "outputs": [
    {
     "name": "stdout",
     "output_type": "stream",
     "text": [
      "The sum of all the even numbers in the list is 220\n"
     ]
    }
   ],
   "source": [
    "# Make your own list. Find the sum of all even numbers present in that lsit\n",
    "my_list = [51,74,85,91,52,44,50]\n",
    "sum = 0\n",
    "\n",
    "for element in my_list:\n",
    "    if element %2==0:\n",
    "        sum = sum +element\n",
    "\n",
    "print(f\"The sum of all the even numbers in the list is {sum}\")\n",
    "\n"
   ]
  },
  {
   "cell_type": "code",
   "execution_count": 47,
   "metadata": {},
   "outputs": [
    {
     "name": "stdout",
     "output_type": "stream",
     "text": [
      "The total positive numbers are 8 \n",
      "The total negative numbers are 2\n"
     ]
    }
   ],
   "source": [
    "# Make your own list. Print how many positive and negative numbers are here. (Do on your own)\n",
    "\n",
    "my_list= [0,25 ,-65,35,89,-98741,56,878,222,64.0]\n",
    "positive_counter= 0\n",
    "negative_counter =0\n",
    "for element in my_list:\n",
    "    if element >=0:\n",
    "        positive_counter+=1\n",
    "    else:\n",
    "        negative_counter+=1\n",
    "\n",
    "print(f\"The total positive numbers are {positive_counter} \\nThe total negative numbers are {negative_counter}\")"
   ]
  },
  {
   "cell_type": "code",
   "execution_count": 49,
   "metadata": {},
   "outputs": [
    {
     "name": "stdout",
     "output_type": "stream",
     "text": [
      "-98741 878\n"
     ]
    }
   ],
   "source": [
    "#Make your own list. Print the largest  and smallest number present in that list.\n",
    "\n",
    "my_list= [0,25,-65,35,89,-98741,56,878,222,64.0]\n",
    "largest_number = 0\n",
    "smallest_number =0\n",
    "for element in my_list:\n",
    "    if element > largest_number:\n",
    "        largest_number= element\n",
    "\n",
    "for element in my_list:\n",
    "    if element< smallest_number:\n",
    "        smallest_number= element\n",
    "\n",
    "\n",
    "print(smallest_number, largest_number)\n",
    "    "
   ]
  },
  {
   "cell_type": "code",
   "execution_count": null,
   "metadata": {},
   "outputs": [],
   "source": []
  }
 ],
 "metadata": {
  "kernelspec": {
   "display_name": "Python 3",
   "language": "python",
   "name": "python3"
  },
  "language_info": {
   "codemirror_mode": {
    "name": "ipython",
    "version": 3
   },
   "file_extension": ".py",
   "mimetype": "text/x-python",
   "name": "python",
   "nbconvert_exporter": "python",
   "pygments_lexer": "ipython3",
   "version": "3.11.8"
  }
 },
 "nbformat": 4,
 "nbformat_minor": 2
}
