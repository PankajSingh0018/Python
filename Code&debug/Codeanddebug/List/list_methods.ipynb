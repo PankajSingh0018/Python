{
 "cells": [
  {
   "cell_type": "markdown",
   "metadata": {},
   "source": [
    "Write a program that prompts the user to specify the length of a list\n",
    "and then requests numbers to populate that list. Display the final list as\n",
    "the output.\n"
   ]
  },
  {
   "cell_type": "code",
   "execution_count": 7,
   "metadata": {},
   "outputs": [],
   "source": [
    "# user input for the length of the list \n",
    "\n",
    "list_length = int (input(\"Enter the length of the list containing the elements:\"))"
   ]
  },
  {
   "cell_type": "code",
   "execution_count": 13,
   "metadata": {},
   "outputs": [
    {
     "name": "stdout",
     "output_type": "stream",
     "text": [
      "my_list = [88, 45, 96, 756, 123, 259, 7896321456]\n"
     ]
    }
   ],
   "source": [
    "# take the input for the elements of the list \n",
    "my_list = []\n",
    "for i in range(list_length):\n",
    "    number = int(input(\"Enter the number = \"))\n",
    "    my_list.append(number)\n",
    "\n",
    "print(f\"my_list = {my_list}\")"
   ]
  },
  {
   "cell_type": "markdown",
   "metadata": {},
   "source": [
    "Create a list and prompt the user for an 'old number' followed by a 'new number.\n",
    "If the 'old number' exists in the list, replace it with the 'new number' provided by the user."
   ]
  },
  {
   "cell_type": "code",
   "execution_count": 30,
   "metadata": {},
   "outputs": [
    {
     "name": "stdout",
     "output_type": "stream",
     "text": [
      "Number not found in the list\n"
     ]
    }
   ],
   "source": [
    "# already initialized list \n",
    "my_list= [5,10,15,20,25,30,35,65,50]\n",
    "\n",
    "# user input for the old number \n",
    "old_number = int(input(\"Enter the old number to check in the list :\"))\n",
    "\n",
    "# user input for the new number\n",
    "new_number = int(input(\"Enter the new number to update :\"))\n",
    "\n",
    "# search for the old number in the list using index method \n",
    "try:\n",
    "    old_number_index = my_list.index(old_number)\n",
    "\n",
    "    #update the list wtih the new number \n",
    "    my_list[old_number_index]= new_number\n",
    "    print(\"Number updated successfully\")\n",
    "\n",
    "except ValueError:\n",
    "    print(\"Number not found in the list\")\n",
    "\n"
   ]
  },
  {
   "cell_type": "markdown",
   "metadata": {},
   "source": [
    "## Sort method "
   ]
  },
  {
   "cell_type": "code",
   "execution_count": 1,
   "metadata": {},
   "outputs": [],
   "source": [
    "my_list= [500,1040,1089635,200,25,3000,3489215,605,5]\n",
    "my_list.sort(reverse=True)"
   ]
  },
  {
   "cell_type": "code",
   "execution_count": 2,
   "metadata": {},
   "outputs": [
    {
     "data": {
      "text/plain": [
       "[3489215, 1089635, 3000, 1040, 605, 500, 200, 25, 5]"
      ]
     },
     "execution_count": 2,
     "metadata": {},
     "output_type": "execute_result"
    }
   ],
   "source": [
    "my_list"
   ]
  },
  {
   "cell_type": "markdown",
   "metadata": {},
   "source": [
    "## Index method "
   ]
  },
  {
   "cell_type": "code",
   "execution_count": 3,
   "metadata": {},
   "outputs": [
    {
     "name": "stdout",
     "output_type": "stream",
     "text": [
      "[3489215, 1089635, 3000, 1040, 605, 500, 200, 25, 5]\n"
     ]
    },
    {
     "data": {
      "text/plain": [
       "5"
      ]
     },
     "execution_count": 3,
     "metadata": {},
     "output_type": "execute_result"
    }
   ],
   "source": [
    "print(my_list)\n",
    "my_list.index(500)"
   ]
  },
  {
   "cell_type": "code",
   "execution_count": 4,
   "metadata": {},
   "outputs": [
    {
     "name": "stdout",
     "output_type": "stream",
     "text": [
      "32\n",
      "74\n",
      "4\n",
      "2\n"
     ]
    }
   ],
   "source": [
    "#Remove all the even numbers from the list.\n",
    "my_list= [2,4,59,74,13,55,19,27,32]\n",
    "x= len(my_list)\n",
    "\n",
    "for i in range(len(my_list)-1, -1, -1):\n",
    "    if my_list[i]%2==0:\n",
    "        print(my_list[i])"
   ]
  },
  {
   "cell_type": "code",
   "execution_count": 5,
   "metadata": {},
   "outputs": [],
   "source": [
    "def remove_even_elements_from_list(li):\n",
    "    my_list= li\n",
    "    x= len(my_list)\n",
    "\n",
    "    for i in range(len(my_list)-1, -1, -1):\n",
    "        if my_list[i]%2==0:\n",
    "            element = my_list[i]\n",
    "            my_list.remove(element)\n",
    "\n",
    "    return my_list\n"
   ]
  },
  {
   "cell_type": "code",
   "execution_count": 6,
   "metadata": {},
   "outputs": [
    {
     "name": "stdout",
     "output_type": "stream",
     "text": [
      "[59, 13, 55, 19, 27]\n"
     ]
    }
   ],
   "source": [
    "my_list= [2,4,59,74,13,55,19,27,32]\n",
    "print(remove_even_elements_from_list(my_list))"
   ]
  },
  {
   "cell_type": "code",
   "execution_count": 8,
   "metadata": {},
   "outputs": [
    {
     "name": "stdout",
     "output_type": "stream",
     "text": [
      "[3, 59, 13, 19, 27, 33]\n"
     ]
    }
   ],
   "source": [
    "my_list= [3,4,59,74,13,256,19,27,33]\n",
    "print(remove_even_elements_from_list(my_list))\n"
   ]
  },
  {
   "cell_type": "code",
   "execution_count": 9,
   "metadata": {},
   "outputs": [],
   "source": [
    "\"\"\"\n",
    "Ask the user for a number. Then, from a list of numbers, remove all\n",
    "the numbers that can be divided by the number the user entered. (Do on\n",
    "your own).\n",
    "\n",
    "\"\"\"\n",
    "def unzip(iterable):\n",
    "    return zip(*iterable)\n",
    "\n",
    "def find_divisibility(number, li):\n",
    "    deleted_numbers =[]\n",
    "    #iterating over the list in the reverse direction to remove the numbers\n",
    "    for i in range(len(li)-1, -1, -1):\n",
    "        if li[i]%number ==0:\n",
    "            element= li[i]\n",
    "            deleted_numbers.append(element)\n",
    "            li.remove(element)\n",
    "\n",
    "\n",
    "    return li, deleted_numbers\n",
    "\n"
   ]
  },
  {
   "cell_type": "code",
   "execution_count": 13,
   "metadata": {},
   "outputs": [
    {
     "name": "stdout",
     "output_type": "stream",
     "text": [
      "<class 'int'>\n",
      "List after removal of divisible numbers: [4, 89, 356, 101]\n",
      "Deleted numbers: [30, 365, 20, 15, 5]\n"
     ]
    }
   ],
   "source": [
    "\n",
    "number = int(input(\"Enter the number to test the divisibilty:\"))\n",
    "# print(type(number))\n",
    "li= [5,15,20,4,89,356,365,30,101]\n",
    "\n",
    "# result = unzip(find_divisibility(number, li))\n",
    "result = find_divisibility(number,li)\n",
    "\n",
    "li, deleted_numbers= result\n",
    "\n",
    "print(\"List after removal of divisible numbers:\", li)\n",
    "print(\"Deleted numbers:\", deleted_numbers)\n"
   ]
  },
  {
   "cell_type": "code",
   "execution_count": 11,
   "metadata": {},
   "outputs": [
    {
     "data": {
      "text/plain": [
       "\"\\nGenerate a list of at least 10 numbers. Then, create two separate\\nlists called 'odd' and 'even.' Put all the odd numbers from the original list\\ninto the 'odd' list, and all the even numbers into the 'even' list.\\n\\n\""
      ]
     },
     "execution_count": 11,
     "metadata": {},
     "output_type": "execute_result"
    }
   ],
   "source": [
    "\"\"\"\n",
    "Generate a list of at least 10 numbers. Then, create two separate\n",
    "lists called 'odd' and 'even.' Put all the odd numbers from the original list\n",
    "into the 'odd' list, and all the even numbers into the 'even' list.\n",
    "\n",
    "\"\"\""
   ]
  },
  {
   "cell_type": "code",
   "execution_count": 22,
   "metadata": {},
   "outputs": [],
   "source": [
    "# generate the list taking user input for 10 numbers\n",
    "\n",
    "def generate_list(number):\n",
    "    li= []\n",
    "    for i in range(number):\n",
    "        list_element =int(input(\"Enter the elements of the list\"))\n",
    "\n",
    "        li.append(list_element)\n",
    "    # li=list(input(\"Enter the elements of the list\").split(\",\"))\n",
    "\n",
    "    return li\n",
    "\n",
    "def list_segregation(li):\n",
    "    odd=[]\n",
    "    even=[]\n",
    "    for element in li:\n",
    "        if element%2==0:\n",
    "            even.append(element)\n",
    "        else:\n",
    "            odd.append(element)\n",
    "\n",
    "    return even, odd"
   ]
  },
  {
   "cell_type": "code",
   "execution_count": 23,
   "metadata": {},
   "outputs": [],
   "source": [
    "# taking user input for the length of the list \n",
    "li =generate_list(int(input(\"Enter the length of the list:\")))\n",
    "results = list_segregation(li)\n",
    "\n",
    "even, odd = results"
   ]
  },
  {
   "cell_type": "code",
   "execution_count": 24,
   "metadata": {},
   "outputs": [
    {
     "data": {
      "text/plain": [
       "[2, 4]"
      ]
     },
     "execution_count": 24,
     "metadata": {},
     "output_type": "execute_result"
    }
   ],
   "source": [
    "even"
   ]
  },
  {
   "cell_type": "code",
   "execution_count": 25,
   "metadata": {},
   "outputs": [
    {
     "data": {
      "text/plain": [
       "[1, 3, 5]"
      ]
     },
     "execution_count": 25,
     "metadata": {},
     "output_type": "execute_result"
    }
   ],
   "source": [
    "odd"
   ]
  },
  {
   "cell_type": "code",
   "execution_count": 56,
   "metadata": {},
   "outputs": [],
   "source": [
    "#Start by creating two separate lists with random numbers. Then, create a third list that merges the two list\n",
    "\n",
    "import random\n",
    "\n",
    "def create_random_list(number):\n",
    "    # creating two random lists\n",
    "    li1=[]\n",
    "    li2=[]\n",
    "    for i in range(number):\n",
    "        li1.append(random.randint(89,25698))\n",
    "        li2.append(random.randint(45,89746562))\n",
    "        result = merge_list(li1, li2)\n",
    "    return result\n",
    "\n",
    "def merge_list(li1, li2):\n",
    "    new_list= li1+li2\n",
    "    return new_list"
   ]
  },
  {
   "cell_type": "code",
   "execution_count": 57,
   "metadata": {},
   "outputs": [
    {
     "data": {
      "text/plain": [
       "[5026,\n",
       " 4700,\n",
       " 23408,\n",
       " 14598,\n",
       " 13584,\n",
       " 3890,\n",
       " 17221,\n",
       " 4828,\n",
       " 3337,\n",
       " 12401,\n",
       " 58802241,\n",
       " 68438883,\n",
       " 58353909,\n",
       " 30465384,\n",
       " 80964190,\n",
       " 22054774,\n",
       " 37498357,\n",
       " 30229643,\n",
       " 88791897,\n",
       " 73473748]"
      ]
     },
     "execution_count": 57,
     "metadata": {},
     "output_type": "execute_result"
    }
   ],
   "source": [
    "result = create_random_list(10)\n",
    "result"
   ]
  },
  {
   "cell_type": "code",
   "execution_count": 1,
   "metadata": {},
   "outputs": [],
   "source": [
    "#Make a list of your own. And remove all the duplicates element from that list.\n",
    "my_list= [5,1,\"code and Debug\", 5,10,20,5,1,1]\n",
    "new_list=[]\n",
    "\n",
    "for element in my_list:\n",
    "    if element not in new_list:\n",
    "        new_list.append(element)\n",
    "    else:\n",
    "        pass"
   ]
  },
  {
   "cell_type": "code",
   "execution_count": 2,
   "metadata": {},
   "outputs": [
    {
     "data": {
      "text/plain": [
       "[5, 1, 'code and Debug', 10, 20]"
      ]
     },
     "execution_count": 2,
     "metadata": {},
     "output_type": "execute_result"
    }
   ],
   "source": [
    "new_list"
   ]
  },
  {
   "cell_type": "code",
   "execution_count": 25,
   "metadata": {},
   "outputs": [
    {
     "name": "stdout",
     "output_type": "stream",
     "text": [
      "The number 100 is located at the -1th index\n"
     ]
    }
   ],
   "source": [
    "# Make a list. Then ask a number from user. If number exists in that list then print the position of the element else print -1.\n",
    "\n",
    "my_list= [1,10565,1,5,10,20,5,1,1,2]\n",
    "number_to_locate= int(input(\"Enter the number whose position is to be located:\"))\n",
    "# print(number_to_locate)\n",
    "index_location=0\n",
    "for i in range(0,len(my_list),1):\n",
    "    if my_list[i] == number_to_locate:\n",
    "        print(i)\n",
    "        index_location = i \n",
    "        break\n",
    "    else:\n",
    "        index_location= -1\n",
    "\n",
    "print(f\"The number {number_to_locate} is located at the {index_location}th index\")"
   ]
  },
  {
   "cell_type": "code",
   "execution_count": 28,
   "metadata": {},
   "outputs": [
    {
     "name": "stdout",
     "output_type": "stream",
     "text": [
      "The new reversed list is [2, 1, 1, 5, 20, 10, 5, 1, 10565, 1]\n"
     ]
    }
   ],
   "source": [
    "#Take 10 integer inputs from user and store them in a list. Now, copy all the elements in another list but in reverse order\n",
    "my_list= [1,10565,1,5,10,20,5,1,1,2]\n",
    "new_list = []\n",
    "\n",
    "for i in range(len(my_list)-1,-1,-1):\n",
    "    # print(my_list[i])\n",
    "    new_list.append(my_list[i])\n",
    "\n",
    "\n",
    "print(f\"The new reversed list is {new_list}\")"
   ]
  },
  {
   "cell_type": "code",
   "execution_count": 37,
   "metadata": {},
   "outputs": [],
   "source": [
    "#Write a program to find the average of all the numbers present in the list. (Do on your own)\n",
    "def average_of_list(my_list,total_elements):\n",
    "\n",
    "    summation = 0\n",
    "\n",
    "    for element in my_list:\n",
    "        summation = summation+ element\n",
    "\n",
    "    average = summation/ total_elements\n",
    "\n",
    "    return average\n"
   ]
  },
  {
   "cell_type": "code",
   "execution_count": 38,
   "metadata": {},
   "outputs": [
    {
     "data": {
      "text/plain": [
       "1061.1"
      ]
     },
     "execution_count": 38,
     "metadata": {},
     "output_type": "execute_result"
    }
   ],
   "source": [
    "my_list= [1,10565,1,5,10,20,5,1,1,2]\n",
    "total_elements= len(my_list)\n",
    "average_of_list(my_list,total_elements)"
   ]
  },
  {
   "cell_type": "code",
   "execution_count": 64,
   "metadata": {},
   "outputs": [
    {
     "name": "stdout",
     "output_type": "stream",
     "text": [
      "The highest occurence of the element 1 is 4 times\n"
     ]
    }
   ],
   "source": [
    "#  Write a Python code to find the occurrence of each element in a list and print the element with the highest occurrence.\n",
    "my_list= [1,10565,1,5,10,20,5,1,1,2]\n",
    "element_count_dict= {}\n",
    "counter=0\n",
    "for element in my_list:\n",
    "    if element not in element_count_dict:\n",
    "        counter =1\n",
    "        element_count_dict[element] = counter\n",
    "    \n",
    "    else:\n",
    "        counter = counter+1\n",
    "        element_count_dict[element] = counter\n",
    "\n",
    "# print(element_count_dict)\n",
    "\n",
    "for key, value in element_count_dict.items():\n",
    "    if value == max(element_count_dict.values()):\n",
    "        print(f\"The highest occurence of the element {key} is {value} times\") "
   ]
  },
  {
   "cell_type": "code",
   "execution_count": 53,
   "metadata": {},
   "outputs": [],
   "source": [
    "D= {1: 4, 10565: 1, 5: 2, 10: 1, 20: 1, 2: 1}\n",
    "\n"
   ]
  },
  {
   "cell_type": "code",
   "execution_count": 54,
   "metadata": {},
   "outputs": [
    {
     "data": {
      "text/plain": [
       "4"
      ]
     },
     "execution_count": 54,
     "metadata": {},
     "output_type": "execute_result"
    }
   ],
   "source": [
    "D[1]"
   ]
  },
  {
   "cell_type": "code",
   "execution_count": 55,
   "metadata": {},
   "outputs": [
    {
     "name": "stdout",
     "output_type": "stream",
     "text": [
      "1 4\n",
      "10565 1\n",
      "5 2\n",
      "10 1\n",
      "20 1\n",
      "2 1\n"
     ]
    }
   ],
   "source": [
    "# access each key and value of the dictionary using for loop and only want to print the keys\n",
    "for key, value in D.items():\n",
    "    print(key, value)"
   ]
  },
  {
   "cell_type": "code",
   "execution_count": 56,
   "metadata": {},
   "outputs": [
    {
     "name": "stdout",
     "output_type": "stream",
     "text": [
      "1\n",
      "10565\n",
      "5\n",
      "10\n",
      "20\n",
      "2\n"
     ]
    }
   ],
   "source": [
    "# access each key and value of the dictionary using for loop and only want to print the keys\n",
    "for key in D.keys():\n",
    "    print(key)\n",
    "    "
   ]
  },
  {
   "cell_type": "code",
   "execution_count": 65,
   "metadata": {},
   "outputs": [
    {
     "name": "stdout",
     "output_type": "stream",
     "text": [
      "4\n",
      "1\n",
      "2\n",
      "1\n",
      "1\n",
      "1\n"
     ]
    }
   ],
   "source": [
    "for key, value in D.items():\n",
    "    print(D[key]) "
   ]
  },
  {
   "cell_type": "code",
   "execution_count": 61,
   "metadata": {},
   "outputs": [
    {
     "name": "stdout",
     "output_type": "stream",
     "text": [
      "1\n"
     ]
    }
   ],
   "source": [
    "#  Write a Python code to find the occurrence of each element in a list and print the element with the highest occurrence.\n",
    "my_list= [1,10565,1,5,10,20,5,1,1,2]\n",
    "element_count_dict= {}\n",
    "counter=0\n",
    "for element in my_list:\n",
    "    if element not in element_count_dict:\n",
    "        counter =1\n",
    "        element_count_dict[element] = counter\n",
    "    \n",
    "    else:\n",
    "        counter = counter+1\n",
    "        element_count_dict[element] = counter\n",
    "\n",
    "# print(element_count_dict)\n",
    "\n",
    "for key, value in element_count_dict.items():\n",
    "    if value == max(element_count_dict.values()):\n",
    "        print(key)"
   ]
  },
  {
   "cell_type": "code",
   "execution_count": 71,
   "metadata": {},
   "outputs": [
    {
     "data": {
      "text/plain": [
       "[7, 8, 9]"
      ]
     },
     "execution_count": 71,
     "metadata": {},
     "output_type": "execute_result"
    }
   ],
   "source": [
    "#Write a program that has two lists and make a new list that contains only the common elements between them without duplicates.\n",
    "list1= [1,2,3,4,5,6,7,8,9]\n",
    "list2= [10,11,9,12,13,8,14,15,7]\n",
    "common_elements_list=[]\n",
    "\n",
    "for element in list1:\n",
    "    for ele in list2:\n",
    "        if ele == element:\n",
    "            common_elements_list.append(element)\n",
    "\n",
    "\n",
    "common_elements_list\n",
    "            "
   ]
  },
  {
   "cell_type": "code",
   "execution_count": 72,
   "metadata": {},
   "outputs": [],
   "source": [
    "# Write a Python code to find the second largest element in a list.\n",
    "list2= [10,11,9,12,13,8,14,15,7]\n",
    "list2.sort()\n",
    "second_largest_number= list2[-2]\n",
    "second_largest_number\n"
   ]
  },
  {
   "cell_type": "code",
   "execution_count": 94,
   "metadata": {},
   "outputs": [],
   "source": [
    "# Write a Python code to find the second largest element in a list without sorting\n",
    "def second_largest_number(li):\n",
    "    li1= li\n",
    "    largest= 0\n",
    "    second_largest_number = 0\n",
    "\n",
    "    for element in li1:\n",
    "        if element> largest:\n",
    "            second_largest_number = largest\n",
    "            largest= element\n",
    "        elif element<largest and element > second_largest_number:\n",
    "            second_largest_number= element\n",
    "\n",
    "    \n",
    "    return second_largest_number, largest"
   ]
  },
  {
   "cell_type": "code",
   "execution_count": 95,
   "metadata": {},
   "outputs": [
    {
     "name": "stdout",
     "output_type": "stream",
     "text": [
      "4510 89\n"
     ]
    }
   ],
   "source": [
    "list2= [4510,11,9,12,13,8,14,15,7,3,89]\n",
    "result = second_largest_number(list2)\n",
    "\n",
    "second_largest, largest = result\n",
    "print(largest, second_largest)"
   ]
  },
  {
   "cell_type": "code",
   "execution_count": 98,
   "metadata": {},
   "outputs": [
    {
     "name": "stdout",
     "output_type": "stream",
     "text": [
      "103 28\n"
     ]
    }
   ],
   "source": [
    "list2= [10,11,9,12,103,8,14,15,7,28]\n",
    "result = second_largest_number(list2)\n",
    "\n",
    "second_largest, largest = result\n",
    "print(largest, second_largest)\n"
   ]
  },
  {
   "cell_type": "code",
   "execution_count": 112,
   "metadata": {},
   "outputs": [
    {
     "data": {
      "text/plain": [
       "[2, 5, 7, 11, 13, 17, 19]"
      ]
     },
     "execution_count": 112,
     "metadata": {},
     "output_type": "execute_result"
    }
   ],
   "source": [
    "# write a program to find the prime numbers from a list \n",
    "\n",
    "# we are using the factorization method here\n",
    "\n",
    "my_list= [2,34,5,6,7,8,9,10,11,13,15,17,19]\n",
    "new_list= []\n",
    "\n",
    "for element in my_list: \n",
    "    # print(f\"The current element in progress is {element}\")\n",
    "    factor = 0\n",
    "\n",
    "    for i in range(1,element+1):\n",
    "        if element%i ==0:\n",
    "            factor = factor+1\n",
    "            # print(f'The current Factor count is {factor}')\n",
    "    \n",
    "    if factor ==2:\n",
    "        new_list.append(element)\n",
    "    # print(new_list)\n",
    "\n",
    "new_list\n",
    "\n"
   ]
  },
  {
   "cell_type": "code",
   "execution_count": 176,
   "metadata": {},
   "outputs": [
    {
     "name": "stdout",
     "output_type": "stream",
     "text": [
      "13\n"
     ]
    }
   ],
   "source": [
    "# Write a program to split a given list into two halves.\n",
    "\n",
    "my_list= [2,34,5,6,7,8,9,10,11,13,15,17,19]\n",
    "len_new_list= len(my_list)\n",
    "print(len_new_list)"
   ]
  },
  {
   "cell_type": "code",
   "execution_count": 177,
   "metadata": {},
   "outputs": [
    {
     "data": {
      "text/plain": [
       "[2, 34, 5, 6, 7, 8]"
      ]
     },
     "execution_count": 177,
     "metadata": {},
     "output_type": "execute_result"
    }
   ],
   "source": [
    "first_half_list=[]\n",
    "second_half_list=[]\n",
    "for i in range(0, (len_new_list//2)):\n",
    "    first_half_list.append(my_list[i])\n",
    "\n",
    "for i in range((len_new_list//2),len_new_list):\n",
    "    second_half_list.append(my_list[i])\n",
    "\n",
    "first_half_list"
   ]
  },
  {
   "cell_type": "code",
   "execution_count": 178,
   "metadata": {},
   "outputs": [
    {
     "data": {
      "text/plain": [
       "[9, 10, 11, 13, 15, 17, 19]"
      ]
     },
     "execution_count": 178,
     "metadata": {},
     "output_type": "execute_result"
    }
   ],
   "source": [
    "second_half_list"
   ]
  }
 ],
 "metadata": {
  "kernelspec": {
   "display_name": "Python 3",
   "language": "python",
   "name": "python3"
  },
  "language_info": {
   "codemirror_mode": {
    "name": "ipython",
    "version": 3
   },
   "file_extension": ".py",
   "mimetype": "text/x-python",
   "name": "python",
   "nbconvert_exporter": "python",
   "pygments_lexer": "ipython3",
   "version": "3.11.8"
  }
 },
 "nbformat": 4,
 "nbformat_minor": 2
}
