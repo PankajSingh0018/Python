{
 "cells": [
  {
   "cell_type": "code",
   "execution_count": 15,
   "metadata": {},
   "outputs": [
    {
     "name": "stdout",
     "output_type": "stream",
     "text": [
      "1 2 3 4 5 6 7 8 9 10 11 12 13 14 15 16 17 18 19 20 21 22 23 24 25 26 27 28 29 30 31 32 33 34 35 36 37 38 39 40 41 42 43 44 45 46 47 48 49 50 51 52 53 54 55 56 57 58 59 60 61 62 63 64 65 66 67 68 69 70 71 72 73 74 75 "
     ]
    }
   ],
   "source": [
    "# Ask a number from user. Print all the numbers from 1 to that numbers\n",
    "# creating function for the problem\n",
    "\n",
    "def get_numbers(number):\n",
    "    i= 1\n",
    "    while i<=number:\n",
    "        print(i,end=\" \")\n",
    "        i= i+1\n",
    "\n",
    "# user input for the number \n",
    "\n",
    "number=int (input(\"Enter the number as of your choice\"))\n",
    "get_numbers(number)"
   ]
  },
  {
   "cell_type": "code",
   "execution_count": 17,
   "metadata": {},
   "outputs": [
    {
     "name": "stdout",
     "output_type": "stream",
     "text": [
      "85 84 83 82 81 80 79 78 77 76 75 74 73 72 71 70 69 68 67 66 65 64 63 62 61 60 59 58 57 56 55 54 53 52 51 50 49 48 47 46 45 44 43 42 41 40 39 38 37 36 35 34 33 32 31 30 29 28 27 26 25 24 23 22 21 20 19 18 17 16 15 14 13 12 11 10 9 8 7 6 5 4 3 2 1 "
     ]
    }
   ],
   "source": [
    "# Ask a Number N from user and print all the numbers from N to 1.\n",
    "\n",
    "def get_reverse_number_line(largest_number):\n",
    "    i =1\n",
    "\n",
    "    while largest_number>=i:\n",
    "        print(largest_number, end = \" \")\n",
    "\n",
    "        largest_number= largest_number-1\n",
    "\n",
    "\n",
    "largest_number = int(input(\"Enter the largest number\"))\n",
    "\n",
    "get_reverse_number_line(largest_number)\n",
    "\n",
    "\n"
   ]
  },
  {
   "cell_type": "code",
   "execution_count": 19,
   "metadata": {},
   "outputs": [
    {
     "name": "stdout",
     "output_type": "stream",
     "text": [
      "25 26 27 28 29 30 31 32 33 34 35 "
     ]
    }
   ],
   "source": [
    "# Ask start number and end number from the user. Print all the number from start to end using while loop.\n",
    "\n",
    "def start_to_end_number_line(start_number, end_number):\n",
    "    pass\n",
    "    i = start_number\n",
    "\n",
    "    while start_number<= end_number:\n",
    "\n",
    "        print(start_number, end=\" \")\n",
    "\n",
    "        start_number+=1\n",
    "\n",
    "# user input for start and end number\n",
    "start, end= map(int, input(\"Enter the start number and end Number\").split(\" \"))\n",
    "start_to_end_number_line(start,end)"
   ]
  },
  {
   "cell_type": "code",
   "execution_count": 21,
   "metadata": {},
   "outputs": [
    {
     "data": {
      "text/plain": [
       "55"
      ]
     },
     "execution_count": 21,
     "metadata": {},
     "output_type": "execute_result"
    }
   ],
   "source": [
    "# calculate the sum of all the numbers from 1 to 10\n",
    "\n",
    "def calculate_sum(number):\n",
    "    i = 1\n",
    "    sum= 0\n",
    "    while i<=number:\n",
    "        sum = sum+i\n",
    "        i= i+1\n",
    "\n",
    "    return sum\n",
    "\n",
    "calculate_sum(int(input(\"Enter the largest number\")))"
   ]
  },
  {
   "cell_type": "code",
   "execution_count": 27,
   "metadata": {},
   "outputs": [
    {
     "data": {
      "text/plain": [
       "3628800"
      ]
     },
     "execution_count": 27,
     "metadata": {},
     "output_type": "execute_result"
    }
   ],
   "source": [
    "#Calculate product of all the numbers from 1 to 10.\n",
    "\n",
    "def calculate_product(number):\n",
    "    i=1\n",
    "    product=1\n",
    "    while i<=number:\n",
    "        product = product*i\n",
    "        i = i+1\n",
    "\n",
    "    return product\n",
    "\n",
    "calculate_product(int(input(\"Enter the number\")))"
   ]
  },
  {
   "cell_type": "code",
   "execution_count": 43,
   "metadata": {},
   "outputs": [
    {
     "name": "stdout",
     "output_type": "stream",
     "text": [
      "7 14 21 28 35 42 49 56 63 70 77 84 91 98 "
     ]
    }
   ],
   "source": [
    "def caluclate_7_number_divisiblity(numbers):\n",
    "    number1, number2 = numbers\n",
    "    i = number1\n",
    "    while i <= number2:\n",
    "        if i % 7 == 0:\n",
    "            print(i, end=\" \")\n",
    "        i = i + 1\n",
    "\n",
    "# calling the function\n",
    "caluclate_7_number_divisiblity(map(int, input(\"Enter the range of numbers: \").split()))\n"
   ]
  },
  {
   "cell_type": "code",
   "execution_count": 40,
   "metadata": {},
   "outputs": [
    {
     "name": "stdout",
     "output_type": "stream",
     "text": [
      "42 84 126 168 "
     ]
    }
   ],
   "source": [
    "#Calculate how many numbers are divisible by both 6 and 7 between 1 to 200.\n",
    "def divisibility_by_6_and_7(number):\n",
    "    i=1\n",
    "    while i<=200:\n",
    "        if i%6 ==0 and i%7 ==0:\n",
    "            print(i, end=\" \")\n",
    "    \n",
    "        i= i+1\n",
    "\n",
    "\n",
    "divisibility_by_6_and_7(200)\n"
   ]
  },
  {
   "cell_type": "code",
   "execution_count": 44,
   "metadata": {},
   "outputs": [
    {
     "name": "stdout",
     "output_type": "stream",
     "text": [
      "20 24 28 32 36 40 44 48 "
     ]
    }
   ],
   "source": [
    "#Write a program to calculate the sum of all the numbers divisible by 4 from 20 to 50.\n",
    "\n",
    "def divisibility_by_4(numbers):\n",
    "    number1, number2 = numbers\n",
    "\n",
    "    i = number1\n",
    "    while i<= number2:\n",
    "        if i%4==0:\n",
    "            print(i, end= \" \")\n",
    "        i= i+1\n",
    "\n",
    "divisibility_by_4(map(int, input(\"Enter the range of numbers: \").split()))\n",
    "\n"
   ]
  },
  {
   "cell_type": "code",
   "execution_count": 45,
   "metadata": {},
   "outputs": [
    {
     "name": "stdout",
     "output_type": "stream",
     "text": [
      "8 X 1= 8\n",
      "8 X 2= 16\n",
      "8 X 3= 24\n",
      "8 X 4= 32\n",
      "8 X 5= 40\n",
      "8 X 6= 48\n",
      "8 X 7= 56\n",
      "8 X 8= 64\n",
      "8 X 9= 72\n",
      "8 X 10= 80\n"
     ]
    }
   ],
   "source": [
    "#Ask a number from user. Print the multiplication table of that number\n",
    "\n",
    "def print_multiplication_table(number):\n",
    "    i= 1\n",
    "    while i<=10:\n",
    "        multi= number *i\n",
    "        print(f\"{number} X {i}= {multi}\")\n",
    "\n",
    "        i = i+1\n",
    "\n",
    "\n",
    "# user input for the number's multiplication table \n",
    "\n",
    "print_multiplication_table(int(input(\"Enter the number :\")))"
   ]
  },
  {
   "cell_type": "code",
   "execution_count": 7,
   "metadata": {},
   "outputs": [
    {
     "data": {
      "text/plain": [
       "120"
      ]
     },
     "execution_count": 7,
     "metadata": {},
     "output_type": "execute_result"
    }
   ],
   "source": [
    "#Calculate factorial of a number entered by user.\n",
    "\n",
    "def calculate_factorial(number):\n",
    "    i = 1\n",
    "    product=1\n",
    "    while i<= number:\n",
    "        product = product*i\n",
    "        i = i+1\n",
    "        \n",
    "    return product\n",
    "\n",
    "# user input for the number to calculate its factorial\n",
    "\n",
    "calculate_factorial(int(input(\"Enter the number whose factorial you want to find :\")))\n"
   ]
  },
  {
   "cell_type": "code",
   "execution_count": 12,
   "metadata": {},
   "outputs": [
    {
     "name": "stdout",
     "output_type": "stream",
     "text": [
      "25, 10\n",
      "10 11 12 13 14 15 16 17 18 19 20 21 22 23 24 25 "
     ]
    }
   ],
   "source": [
    "#Ask to numbers x and y from the user. If x<y then print all the numbers from x to y, but if y<x then print all the numbers from y to x.\n",
    "\n",
    "\n",
    "def calculate_numbers_in_between(numbers):\n",
    "    x,y = numbers\n",
    "    print(f\"{x}, {y}\")\n",
    "    if x<y:\n",
    "        i = x\n",
    "        while i<=y:\n",
    "            print(i, end= \" \")\n",
    "            i=i+1\n",
    "\n",
    "    else:\n",
    "        i=y\n",
    "        while i<=x:\n",
    "            print(i, end= \" \")\n",
    "            i=i+1\n",
    "\n",
    "calculate_numbers_in_between(map(int, input(\"Enter the numbers you want :\").split()))"
   ]
  },
  {
   "cell_type": "code",
   "execution_count": 2,
   "metadata": {},
   "outputs": [
    {
     "name": "stdout",
     "output_type": "stream",
     "text": [
      "10 11 12 13 14 15 16 17 18 19 20 "
     ]
    }
   ],
   "source": [
    "#Ask start number and end number from user. Print all the numbers from start to end using while loop\n",
    "def start_to_end_numbers(numbers):\n",
    "    start, end = numbers\n",
    "    while start<= end:\n",
    "        print(start, end= \" \")\n",
    "        start = start+1\n",
    "start_to_end_numbers(map(int, input(\"Enter the start and end numbers :\").split()))\n"
   ]
  },
  {
   "cell_type": "code",
   "execution_count": 10,
   "metadata": {},
   "outputs": [],
   "source": [
    "#Ask a number from user. Print all the  prime numbers from 1 to that number.\n"
   ]
  },
  {
   "cell_type": "code",
   "execution_count": null,
   "metadata": {},
   "outputs": [],
   "source": []
  }
 ],
 "metadata": {
  "kernelspec": {
   "display_name": "Python 3",
   "language": "python",
   "name": "python3"
  },
  "language_info": {
   "codemirror_mode": {
    "name": "ipython",
    "version": 3
   },
   "file_extension": ".py",
   "mimetype": "text/x-python",
   "name": "python",
   "nbconvert_exporter": "python",
   "pygments_lexer": "ipython3",
   "version": "3.11.8"
  }
 },
 "nbformat": 4,
 "nbformat_minor": 2
}
