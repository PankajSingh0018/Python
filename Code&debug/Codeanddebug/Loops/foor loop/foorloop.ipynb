{
 "cells": [
  {
   "cell_type": "code",
   "execution_count": 7,
   "metadata": {},
   "outputs": [
    {
     "name": "stdout",
     "output_type": "stream",
     "text": [
      "1 2 3 4 5 6 7 8 9 10 11 12 13 14 15 "
     ]
    }
   ],
   "source": [
    "#Ask a number from user. Print all the numbers from 1 to that number.\n",
    "def show_numbers(number):\n",
    "    for i in range(1, number+1):\n",
    "        print(i, end=\" \")\n",
    "        \n",
    "# user input for the number \n",
    "show_numbers(int(input(\"Enter the number till which you find the prime number\")))"
   ]
  },
  {
   "cell_type": "code",
   "execution_count": 3,
   "metadata": {},
   "outputs": [
    {
     "name": "stdout",
     "output_type": "stream",
     "text": [
      "10 9 8 7 6 5 4 3 2 1 "
     ]
    }
   ],
   "source": [
    "#Ask a number from user. Print all the numbers from N to 1.\n",
    "\n",
    "def reverse_number_order(number):\n",
    "    for i in range(number,0,-1):\n",
    "        print(i, end= \" \")\n",
    "\n",
    "\n",
    "reverse_number_order(int(input(\"enter the number: \")))\n",
    "\n"
   ]
  },
  {
   "cell_type": "code",
   "execution_count": 21,
   "metadata": {},
   "outputs": [
    {
     "name": "stdout",
     "output_type": "stream",
     "text": [
      "10 11 12 13 14 15 16 17 18 19 20 21 22 23 24 25 "
     ]
    }
   ],
   "source": [
    "#Ask start number and end number from user. Print all the numbers from start to end using for loop\n",
    "\n",
    "def start_to_end(numbers):\n",
    "    start, end = numbers\n",
    "    for i in range(start, end+1):\n",
    "        print(i, end= \" \")\n",
    "\n",
    "\n",
    "start_to_end(map(int, input(\"Enter the start and the end numbers:\").split()))\n",
    "\n"
   ]
  }
 ],
 "metadata": {
  "kernelspec": {
   "display_name": "Python 3",
   "language": "python",
   "name": "python3"
  },
  "language_info": {
   "codemirror_mode": {
    "name": "ipython",
    "version": 3
   },
   "file_extension": ".py",
   "mimetype": "text/x-python",
   "name": "python",
   "nbconvert_exporter": "python",
   "pygments_lexer": "ipython3",
   "version": "3.11.8"
  }
 },
 "nbformat": 4,
 "nbformat_minor": 2
}
