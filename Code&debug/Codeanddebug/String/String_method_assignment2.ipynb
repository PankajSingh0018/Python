{
 "cells": [
  {
   "cell_type": "code",
   "execution_count": 16,
   "metadata": {},
   "outputs": [
    {
     "data": {
      "text/plain": [
       "['good', 'is', 'Python']"
      ]
     },
     "execution_count": 16,
     "metadata": {},
     "output_type": "execute_result"
    }
   ],
   "source": [
    "#Write a program to reverse the order of words.\n",
    "# simple logic\n",
    "# my_string =\"hello world\" # output - World hello\n",
    "my_string =\"Python is good\"\n",
    "\n",
    "my_list_of_word = my_string.split(\" \")\n",
    "final_list = my_list_of_word[::-1]\n",
    "final_list"
   ]
  },
  {
   "cell_type": "code",
   "execution_count": 17,
   "metadata": {},
   "outputs": [
    {
     "data": {
      "text/plain": [
       "'good is Python'"
      ]
     },
     "execution_count": 17,
     "metadata": {},
     "output_type": "execute_result"
    }
   ],
   "source": [
    "new_string = \" \".join(final_list)\n",
    "new_string"
   ]
  },
  {
   "cell_type": "code",
   "execution_count": 18,
   "metadata": {},
   "outputs": [
    {
     "data": {
      "text/plain": [
       "['Python', 'is', 'good']"
      ]
     },
     "execution_count": 18,
     "metadata": {},
     "output_type": "execute_result"
    }
   ],
   "source": [
    "my_string =\"Python is good\"\n",
    "my_list_of_word = my_string.split(\" \")\n",
    "my_list_of_word"
   ]
  },
  {
   "cell_type": "code",
   "execution_count": 22,
   "metadata": {},
   "outputs": [
    {
     "data": {
      "text/plain": [
       "'world hello'"
      ]
     },
     "execution_count": 22,
     "metadata": {},
     "output_type": "execute_result"
    }
   ],
   "source": [
    "# list comprehension method\n",
    "reversed_result = ' '.join(my_string.split()[::-1])\n",
    "reversed_result"
   ]
  },
  {
   "cell_type": "code",
   "execution_count": 24,
   "metadata": {},
   "outputs": [
    {
     "data": {
      "text/plain": [
       "' \\n\\nWrite a program that accepts a string and capitalizes the first letter\\nof each word while converting all other letters to lowercase.\\n\\nex -  i/p- \"hello WORLD\"\\no/p- Hello World\\n\\n\\n'"
      ]
     },
     "execution_count": 24,
     "metadata": {},
     "output_type": "execute_result"
    }
   ],
   "source": [
    "\"\"\" \n",
    "\n",
    "Write a program that accepts a string and capitalizes the first letter\n",
    "of each word while converting all other letters to lowercase.\n",
    "\n",
    "ex -  i/p- \"hello WORLD\"\n",
    "o/p- Hello World\n",
    "\n",
    "\n",
    "\"\"\""
   ]
  },
  {
   "cell_type": "code",
   "execution_count": 27,
   "metadata": {},
   "outputs": [],
   "source": [
    "# string_1= \"python is gooD\"\n",
    "string_1=\"hello WORLD\"\n",
    "new_string = string_1.title()"
   ]
  },
  {
   "cell_type": "code",
   "execution_count": 28,
   "metadata": {},
   "outputs": [
    {
     "data": {
      "text/plain": [
       "'Hello World'"
      ]
     },
     "execution_count": 28,
     "metadata": {},
     "output_type": "execute_result"
    }
   ],
   "source": [
    "new_string"
   ]
  },
  {
   "cell_type": "code",
   "execution_count": 29,
   "metadata": {},
   "outputs": [
    {
     "data": {
      "text/plain": [
       "' \\nWrite a program that reverses each word in a sentence while\\nmaintaining the word order. For example, \"Hello World\" should become\\n\"olleH dlroW\".\\n\\n'"
      ]
     },
     "execution_count": 29,
     "metadata": {},
     "output_type": "execute_result"
    }
   ],
   "source": [
    "\"\"\" \n",
    "Write a program that reverses each word in a sentence while\n",
    "maintaining the word order. For example, \"Hello World\" should become\n",
    "\"olleH dlroW\".\n",
    "\n",
    "\"\"\""
   ]
  },
  {
   "cell_type": "code",
   "execution_count": 42,
   "metadata": {},
   "outputs": [
    {
     "data": {
      "text/plain": [
       "['h', 'e', 'l', 'l', 'o', ' ', 'W', 'o', 'r', 'l', 'd']"
      ]
     },
     "execution_count": 42,
     "metadata": {},
     "output_type": "execute_result"
    }
   ],
   "source": [
    "# simple logic \n",
    "my_string= \"hello World\"\n",
    "new_word_list = [char for char in my_string]\n",
    "new_word_list"
   ]
  },
  {
   "cell_type": "code",
   "execution_count": 45,
   "metadata": {},
   "outputs": [
    {
     "data": {
      "text/plain": [
       "'h e l l o   W o r l d'"
      ]
     },
     "execution_count": 45,
     "metadata": {},
     "output_type": "execute_result"
    }
   ],
   "source": [
    "c = \" \".join(str(char)[::-1] for char in my_string)\n",
    "c"
   ]
  },
  {
   "cell_type": "code",
   "execution_count": 48,
   "metadata": {},
   "outputs": [
    {
     "data": {
      "text/plain": [
       "'olleh dlroW'"
      ]
     },
     "execution_count": 48,
     "metadata": {},
     "output_type": "execute_result"
    }
   ],
   "source": [
    "my_string= \"hello World\"\n",
    "new_list= my_string.split(\" \")\n",
    "new_list_final = \" \".join(char[::-1]for char in new_list)\n",
    "new_list_final"
   ]
  },
  {
   "cell_type": "code",
   "execution_count": 51,
   "metadata": {},
   "outputs": [],
   "source": [
    "my_string= \"hello World\"\n",
    "final_output = output = ' '.join([word[::-1] for word in my_string.split()])\n"
   ]
  },
  {
   "cell_type": "code",
   "execution_count": 52,
   "metadata": {},
   "outputs": [
    {
     "data": {
      "text/plain": [
       "'olleh dlroW'"
      ]
     },
     "execution_count": 52,
     "metadata": {},
     "output_type": "execute_result"
    }
   ],
   "source": [
    "final_output"
   ]
  },
  {
   "cell_type": "code",
   "execution_count": 53,
   "metadata": {},
   "outputs": [
    {
     "data": {
      "text/plain": [
       "'  \\nWrite a program that converts a string in camelCase to snake_case.\\nFor example, converting \"helloWorldHowAreYou\" should result in\\n\"hello_world_how_are_you\\n\\n'"
      ]
     },
     "execution_count": 53,
     "metadata": {},
     "output_type": "execute_result"
    }
   ],
   "source": [
    "\"\"\"  \n",
    "Write a program that converts a string in camelCase to snake_case.\n",
    "For example, converting \"helloWorldHowAreYou\" should result in\n",
    "\"hello_world_how_are_you\n",
    "\n",
    "\"\"\""
   ]
  },
  {
   "cell_type": "code",
   "execution_count": 85,
   "metadata": {},
   "outputs": [
    {
     "name": "stdout",
     "output_type": "stream",
     "text": [
      "hello_world_how_are_you\n"
     ]
    }
   ],
   "source": [
    "input_string = \"helloWorldHowAreYou\"\n",
    "# Convert camel case to snake case\n",
    "snake_case_string = ''.join(['_' + char.lower() if char.isupper() else char for char in input_string]).lstrip('_')\n",
    "\n",
    "print(snake_case_string)\n"
   ]
  },
  {
   "cell_type": "code",
   "execution_count": 86,
   "metadata": {},
   "outputs": [
    {
     "name": "stdout",
     "output_type": "stream",
     "text": [
      "Snake case result: hello_world_how_are_you\n"
     ]
    }
   ],
   "source": [
    "def camel_to_snake(camel_string):\n",
    "    snake_string = \"\"\n",
    "    prev_char = \"\"\n",
    "\n",
    "    for char in camel_string:\n",
    "        if char.isupper():\n",
    "            snake_string += \"_\" + char.lower()\n",
    "        else:\n",
    "            snake_string += char\n",
    "\n",
    "    # Remove leading underscore if present\n",
    "    if snake_string.startswith(\"_\"):\n",
    "        snake_string = snake_string[1:]\n",
    "\n",
    "    return snake_string\n",
    "\n",
    "# Example usage:\n",
    "input_string = \"helloWorldHowAreYou\"\n",
    "snake_case_result = camel_to_snake(input_string)\n",
    "print(f\"Snake case result: {snake_case_result}\")\n"
   ]
  },
  {
   "cell_type": "code",
   "execution_count": null,
   "metadata": {},
   "outputs": [],
   "source": []
  }
 ],
 "metadata": {
  "kernelspec": {
   "display_name": "Python 3",
   "language": "python",
   "name": "python3"
  },
  "language_info": {
   "codemirror_mode": {
    "name": "ipython",
    "version": 3
   },
   "file_extension": ".py",
   "mimetype": "text/x-python",
   "name": "python",
   "nbconvert_exporter": "python",
   "pygments_lexer": "ipython3",
   "version": "3.11.8"
  }
 },
 "nbformat": 4,
 "nbformat_minor": 2
}
