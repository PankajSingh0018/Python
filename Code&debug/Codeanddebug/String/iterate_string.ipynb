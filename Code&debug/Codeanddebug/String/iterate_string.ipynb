{
 "cells": [
  {
   "cell_type": "code",
   "execution_count": 2,
   "metadata": {},
   "outputs": [
    {
     "name": "stdout",
     "output_type": "stream",
     "text": [
      "P\n",
      "a\n",
      "n\n",
      "k\n",
      "a\n",
      "j\n",
      " \n",
      "S\n",
      "i\n",
      "n\n",
      "g\n",
      "h\n",
      " \n",
      "i\n",
      "s\n",
      " \n",
      "c\n",
      "u\n",
      "r\n",
      "r\n",
      "e\n",
      "n\n",
      "t\n",
      "l\n",
      "y\n",
      " \n",
      "W\n",
      "o\n",
      "r\n",
      "k\n",
      "i\n",
      "n\n",
      "g\n",
      " \n",
      "a\n",
      "s\n",
      " \n",
      "a\n",
      "n\n",
      " \n",
      "A\n",
      "I\n",
      " \n",
      "E\n",
      "n\n",
      "g\n",
      "i\n",
      "n\n",
      "e\n",
      "e\n",
      "r\n"
     ]
    }
   ],
   "source": [
    "# Iterate over each string\n",
    "\n",
    "my_string= \"Pankaj Singh is currently Working as an AI Engineer\"\n",
    "\n",
    "#iteration by index\n",
    "\n",
    "for index  in range(0, len(my_string)):\n",
    "    print(my_string[index])"
   ]
  },
  {
   "cell_type": "code",
   "execution_count": 3,
   "metadata": {},
   "outputs": [
    {
     "name": "stdout",
     "output_type": "stream",
     "text": [
      "P\n",
      "a\n",
      "n\n",
      "k\n",
      "a\n",
      "j\n",
      " \n",
      "S\n",
      "i\n",
      "n\n",
      "g\n",
      "h\n",
      " \n",
      "i\n",
      "s\n",
      " \n",
      "c\n",
      "u\n",
      "r\n",
      "r\n",
      "e\n",
      "n\n",
      "t\n",
      "l\n",
      "y\n",
      " \n",
      "W\n",
      "o\n",
      "r\n",
      "k\n",
      "i\n",
      "n\n",
      "g\n",
      " \n",
      "a\n",
      "s\n",
      " \n",
      "a\n",
      "n\n",
      " \n",
      "A\n",
      "I\n",
      " \n",
      "E\n",
      "n\n",
      "g\n",
      "i\n",
      "n\n",
      "e\n",
      "e\n",
      "r\n"
     ]
    }
   ],
   "source": [
    "# itrate by value \n",
    "\n",
    "for char in my_string:\n",
    "    print(char)"
   ]
  },
  {
   "cell_type": "code",
   "execution_count": 7,
   "metadata": {},
   "outputs": [
    {
     "name": "stdout",
     "output_type": "stream",
     "text": [
      "g\n",
      "u\n",
      "b\n",
      "e\n",
      "D\n",
      " \n",
      "d\n",
      "n\n",
      "a\n",
      " \n",
      "e\n",
      "d\n",
      "o\n",
      "C\n"
     ]
    }
   ],
   "source": [
    "#  reverse string \n",
    "my_string = \"Code and Debug\"\n",
    "for index in range(len(my_string)-1,-1,-1):\n",
    "    print(my_string[index])"
   ]
  },
  {
   "cell_type": "code",
   "execution_count": null,
   "metadata": {},
   "outputs": [],
   "source": []
  }
 ],
 "metadata": {
  "kernelspec": {
   "display_name": "Python 3",
   "language": "python",
   "name": "python3"
  },
  "language_info": {
   "codemirror_mode": {
    "name": "ipython",
    "version": 3
   },
   "file_extension": ".py",
   "mimetype": "text/x-python",
   "name": "python",
   "nbconvert_exporter": "python",
   "pygments_lexer": "ipython3",
   "version": "3.11.8"
  }
 },
 "nbformat": 4,
 "nbformat_minor": 2
}
