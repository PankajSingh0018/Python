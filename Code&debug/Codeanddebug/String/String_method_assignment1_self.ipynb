{
 "cells": [
  {
   "cell_type": "code",
   "execution_count": 2,
   "metadata": {},
   "outputs": [
    {
     "name": "stdout",
     "output_type": "stream",
     "text": [
      "The total number of alphabets within the string is 11\n"
     ]
    }
   ],
   "source": [
    "# Ask a string from the user. COunt how many alphabets are there in that string.\n",
    "\n",
    "string_1 = str(input(\"Enter the string: \"))\n",
    "\n",
    "def alphabet_counter(string_1):\n",
    "    counter = 0\n",
    "\n",
    "    for char in string_1:\n",
    "        if char.isalpha():\n",
    "            counter +=1\n",
    "    \n",
    "    return counter\n",
    "\n",
    "result = alphabet_counter(string_1)\n",
    "\n",
    "print(f\"The total number of alphabets within the string is {result}\")"
   ]
  },
  {
   "cell_type": "code",
   "execution_count": 6,
   "metadata": {},
   "outputs": [
    {
     "name": "stdout",
     "output_type": "stream",
     "text": [
      "The Entered String is PANkaJ SINgH \n",
      "\n",
      "The total number of Uppercase letters are 8 \n",
      "The total number of lower case letters are 3\n"
     ]
    }
   ],
   "source": [
    "# As a string from the user. Count the number of Uppercase and lowercase characters in that String \n",
    "\n",
    "string_1 = str(input(\"Enter the string: \"))\n",
    "print(f\"The Entered String is {string_1} \\n\")\n",
    "\n",
    "def case_counter(string_1):\n",
    "    lower_case_counter= 0\n",
    "    upper_case_counter =0\n",
    "\n",
    "    for char in string_1:\n",
    "        if char.isupper():\n",
    "            upper_case_counter+=1\n",
    "        \n",
    "        elif char.islower():\n",
    "            lower_case_counter+=1\n",
    "\n",
    "    return(upper_case_counter, lower_case_counter)\n",
    "\n",
    "\n",
    "result = case_counter(string_1)\n",
    "\n",
    "upper_case, lower_case = map(int,result)\n",
    "\n",
    "\n",
    "print(f\"The total number of Uppercase letters are {upper_case} \\nThe total number of lower case letters are {lower_case}\")"
   ]
  },
  {
   "cell_type": "code",
   "execution_count": 7,
   "metadata": {},
   "outputs": [
    {
     "name": "stdout",
     "output_type": "stream",
     "text": [
      "PANKAJ SINGH\n"
     ]
    }
   ],
   "source": [
    "#Ask a string from user. Convert all the alphabets to uppercase.\n",
    "string_1 = str(input(\"Enter the string: \"))\n",
    "x= string_1.upper()\n",
    "print(x)"
   ]
  },
  {
   "cell_type": "code",
   "execution_count": 13,
   "metadata": {},
   "outputs": [
    {
     "name": "stdout",
     "output_type": "stream",
     "text": [
      "4\n"
     ]
    }
   ],
   "source": [
    "#Count the number of spaces in a string entered by user.\n",
    "stri= 'PANkaJ    SINgH'\n",
    "\n",
    "counter = 0\n",
    "# result = [ for x in stri if x.isspace()]\n",
    "counter = 0\n",
    "for char in stri:\n",
    "    if char.isspace():\n",
    "        counter +=1\n",
    "\n",
    "print(counter)"
   ]
  },
  {
   "cell_type": "markdown",
   "metadata": {},
   "source": [
    "## Without methods for logic building "
   ]
  },
  {
   "cell_type": "code",
   "execution_count": 15,
   "metadata": {},
   "outputs": [
    {
     "name": "stdout",
     "output_type": "stream",
     "text": [
      "11\n"
     ]
    }
   ],
   "source": [
    "# Ask a string from the user. Count how many alphabets are there in that string.\n",
    "\n",
    "# using the ASCII code \n",
    "\n",
    "stri = str(input(\"Enter the string:\"))\n",
    "counter = 0\n",
    "for char in stri:\n",
    "    ordinal_encoding_char = ord(char)\n",
    "\n",
    "    if ordinal_encoding_char in range(65,91) or ordinal_encoding_char in range(97,123):\n",
    "        counter = counter+1\n",
    "\n",
    "print(counter)\n"
   ]
  },
  {
   "cell_type": "code",
   "execution_count": null,
   "metadata": {},
   "outputs": [],
   "source": []
  }
 ],
 "metadata": {
  "kernelspec": {
   "display_name": "Python 3",
   "language": "python",
   "name": "python3"
  },
  "language_info": {
   "codemirror_mode": {
    "name": "ipython",
    "version": 3
   },
   "file_extension": ".py",
   "mimetype": "text/x-python",
   "name": "python",
   "nbconvert_exporter": "python",
   "pygments_lexer": "ipython3",
   "version": "3.11.8"
  }
 },
 "nbformat": 4,
 "nbformat_minor": 2
}
