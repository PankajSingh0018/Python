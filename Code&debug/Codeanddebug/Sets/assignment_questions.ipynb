{
 "cells": [
  {
   "cell_type": "code",
   "execution_count": 2,
   "metadata": {},
   "outputs": [
    {
     "name": "stdout",
     "output_type": "stream",
     "text": [
      "Yes the list contains common elements\n"
     ]
    }
   ],
   "source": [
    "# Given two lists a, b. Check if two lists have at least one element common in them.\n",
    "\n",
    "a= [11,2,3,4,5,6,78,9]\n",
    "b= [1,2,7,8,10,11,12]\n",
    "\n",
    "c= set(a)\n",
    "d= set(b)\n",
    "\n",
    "common_elements = c.intersection(d)\n",
    "if len(common_elements)> 0:\n",
    "      print(\"Yes the list contains common elements\")\n",
    "else: \n",
    "    print(\"No the list does not have any common elements\")"
   ]
  },
  {
   "cell_type": "code",
   "execution_count": 5,
   "metadata": {},
   "outputs": [
    {
     "data": {
      "text/plain": [
       "{2, 11}"
      ]
     },
     "execution_count": 5,
     "metadata": {},
     "output_type": "execute_result"
    }
   ],
   "source": [
    "# Python program to find common elements in three lists using sets.\n",
    "a= [11,2,3,4,5,6,78,9]\n",
    "b= [1,2,7,8,10,11,12]\n",
    "c= [11,2,78,7,8]\n",
    "\n",
    "# creating sets of each list \n",
    "d = set(a)\n",
    "e= set(b)\n",
    "f= set(c)\n",
    "\n",
    "# intersection of  d, e ,f \n",
    "inter= d.intersection(e,f)\n",
    "inter\n"
   ]
  },
  {
   "cell_type": "code",
   "execution_count": 8,
   "metadata": {},
   "outputs": [
    {
     "data": {
      "text/plain": [
       "'pjnka'"
      ]
     },
     "execution_count": 8,
     "metadata": {},
     "output_type": "execute_result"
    }
   ],
   "source": [
    "# Ask a string from user, remove all the duplicates from that string and print that string again (order does’nt matter)\n",
    "# type casting case \n",
    "\n",
    "st = str(input(\"Enter a string of your choice\"))\n",
    "\n",
    "new_st= set(st)\n",
    "converted_string = \"\".join(new_st)\n",
    "converted_string"
   ]
  }
 ],
 "metadata": {
  "kernelspec": {
   "display_name": "Python 3",
   "language": "python",
   "name": "python3"
  },
  "language_info": {
   "codemirror_mode": {
    "name": "ipython",
    "version": 3
   },
   "file_extension": ".py",
   "mimetype": "text/x-python",
   "name": "python",
   "nbconvert_exporter": "python",
   "pygments_lexer": "ipython3",
   "version": "3.11.8"
  }
 },
 "nbformat": 4,
 "nbformat_minor": 2
}
