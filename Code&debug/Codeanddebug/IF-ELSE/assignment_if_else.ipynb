{
 "cells": [
  {
   "cell_type": "code",
   "execution_count": 1,
   "metadata": {},
   "outputs": [],
   "source": [
    "#write a python program that takes an integer input and prints whethe it's positive , negative consider zero as positive\n",
    "\n",
    "def check_number_positive_negative(number):\n",
    "    if number >=0:\n",
    "        print(f\"The number is positive \")\n",
    "    \n",
    "    else:\n",
    "        print(\"The number is negative\")\n",
    "    "
   ]
  },
  {
   "cell_type": "code",
   "execution_count": 3,
   "metadata": {},
   "outputs": [
    {
     "name": "stdout",
     "output_type": "stream",
     "text": [
      "The number is negative\n"
     ]
    }
   ],
   "source": [
    "check_number_positive_negative(-2)"
   ]
  },
  {
   "cell_type": "code",
   "execution_count": 5,
   "metadata": {},
   "outputs": [],
   "source": [
    "#Write a program that takes a character as input and prints whether it's a vowel or a consonant. (Multiple OR will be used)\n",
    "\n",
    "def check_character(character):\n",
    "    vowels = ['a','e', \"i\",\"o\", \"u\"]\n",
    "    if character.lower() in vowels:\n",
    "        print(\"The character provided is a vowel\")\n",
    "    \n",
    "    else:\n",
    "        print(\"The character is consonant\")"
   ]
  },
  {
   "cell_type": "code",
   "execution_count": 6,
   "metadata": {},
   "outputs": [
    {
     "name": "stdout",
     "output_type": "stream",
     "text": [
      "The character provided is a vowel\n"
     ]
    }
   ],
   "source": [
    "check_character(\"A\")"
   ]
  },
  {
   "cell_type": "code",
   "execution_count": 7,
   "metadata": {},
   "outputs": [
    {
     "name": "stdout",
     "output_type": "stream",
     "text": [
      "The character is consonant\n"
     ]
    }
   ],
   "source": [
    "check_character(\"B\")"
   ]
  },
  {
   "cell_type": "code",
   "execution_count": 10,
   "metadata": {},
   "outputs": [],
   "source": [
    "#Write a program that takes two numbers as input and checks if the first number is divisible by the second\n",
    "\n",
    "def check_visiblity(num1, num2):\n",
    "    if num1 >= num2:\n",
    "        print(f\"The number are divisible and the answer is {num1/num2}\")\n",
    "    \n",
    "    else:\n",
    "        print(\"The number are not divisible\")\n"
   ]
  },
  {
   "cell_type": "code",
   "execution_count": 12,
   "metadata": {},
   "outputs": [
    {
     "name": "stdout",
     "output_type": "stream",
     "text": [
      "The number are divisible and the answer is 10.5\n"
     ]
    }
   ],
   "source": [
    "check_visiblity(21,2)"
   ]
  },
  {
   "cell_type": "code",
   "execution_count": 18,
   "metadata": {},
   "outputs": [],
   "source": [
    "\"\"\"\"\n",
    "A student will not be allowed to sit in exam if his/her attendance is\n",
    "less than 75%.\n",
    "Take following input from user\n",
    "Number of classes held\n",
    "Number of classes attended.\n",
    "1. Print percentage of class attended\n",
    "2. Print Is student is allowed to sit in exam or not.\n",
    "\n",
    "\"\"\"\n",
    "\n",
    "def attendance(classes_held,classes_attended):\n",
    "\n",
    "    attendence_percentage = (classes_attended/classes_held)*100\n",
    "\n",
    "    if attendence_percentage < 75:\n",
    "        print(f\"The student percentage is {attendence_percentage}% and is not allowed to take the exam\")\n",
    "    \n",
    "    else:\n",
    "        print(f\"The student percentage is {attendence_percentage}% and is allowed to take the exam\")\n"
   ]
  },
  {
   "cell_type": "code",
   "execution_count": 20,
   "metadata": {},
   "outputs": [
    {
     "name": "stdout",
     "output_type": "stream",
     "text": [
      "The student percentage is 80.0% and is allowed to take the exam\n"
     ]
    }
   ],
   "source": [
    "attendance(100, 80)"
   ]
  },
  {
   "cell_type": "code",
   "execution_count": null,
   "metadata": {},
   "outputs": [],
   "source": []
  }
 ],
 "metadata": {
  "kernelspec": {
   "display_name": "Python 3",
   "language": "python",
   "name": "python3"
  },
  "language_info": {
   "codemirror_mode": {
    "name": "ipython",
    "version": 3
   },
   "file_extension": ".py",
   "mimetype": "text/x-python",
   "name": "python",
   "nbconvert_exporter": "python",
   "pygments_lexer": "ipython3",
   "version": "3.11.8"
  }
 },
 "nbformat": 4,
 "nbformat_minor": 2
}
