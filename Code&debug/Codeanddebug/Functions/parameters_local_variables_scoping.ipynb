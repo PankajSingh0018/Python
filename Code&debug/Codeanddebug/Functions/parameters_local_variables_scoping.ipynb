{
 "cells": [
  {
   "cell_type": "markdown",
   "metadata": {},
   "source": [
    "Types of Functions\n"
   ]
  },
  {
   "cell_type": "code",
   "execution_count": 1,
   "metadata": {},
   "outputs": [
    {
     "name": "stdout",
     "output_type": "stream",
     "text": [
      "Hello Coder\n"
     ]
    }
   ],
   "source": [
    "def greet():\n",
    "    print(\"Hello Coder\")\n",
    "\n",
    "greet()"
   ]
  },
  {
   "cell_type": "code",
   "execution_count": 3,
   "metadata": {},
   "outputs": [
    {
     "name": "stdout",
     "output_type": "stream",
     "text": [
      "The user input for two number are : 24, 48\n",
      "The addition of the two number is: 72\n"
     ]
    }
   ],
   "source": [
    "# take user input for the addition of the two numbers \n",
    "\n",
    "def addition(num1, num2):\n",
    "    total = num1+num2\n",
    "    print(f\"The addition of the two number is: {total}\")\n",
    "\n",
    "\n",
    "num1, num2 = map(int, input(\"Enter the two number you want to add\").split(\" \"))\n",
    "print(f\"The user input for two number are : {num1}, {num2}\")\n",
    "\n",
    "addition(num1, num2)"
   ]
  },
  {
   "cell_type": "markdown",
   "metadata": {},
   "source": [
    "Scoping"
   ]
  },
  {
   "cell_type": "markdown",
   "metadata": {},
   "source": [
    "Local Variable - Variables that are initialized inside the function has only the scope under the function body and are known as local variable.\n",
    "\n",
    "Gobal Variable - Variables that are initialized under the main function and with holds the scope till the programs end are called gobal variables."
   ]
  }
 ],
 "metadata": {
  "kernelspec": {
   "display_name": "Python 3",
   "language": "python",
   "name": "python3"
  },
  "language_info": {
   "codemirror_mode": {
    "name": "ipython",
    "version": 3
   },
   "file_extension": ".py",
   "mimetype": "text/x-python",
   "name": "python",
   "nbconvert_exporter": "python",
   "pygments_lexer": "ipython3",
   "version": "3.11.8"
  }
 },
 "nbformat": 4,
 "nbformat_minor": 2
}
