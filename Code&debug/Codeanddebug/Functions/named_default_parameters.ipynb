{
 "cells": [
  {
   "cell_type": "code",
   "execution_count": 1,
   "metadata": {},
   "outputs": [],
   "source": [
    "#Named Parameters"
   ]
  },
  {
   "cell_type": "code",
   "execution_count": 2,
   "metadata": {},
   "outputs": [],
   "source": [
    "def total_marks(physics, hindi, maths, english, computers):\n",
    "    print(f\"Your marks in phsyics = {physics}\")\n",
    "    print(f\"Your marks in hindi = {hindi}\")\n",
    "    print(f\"Your marks in maths = {maths}\")\n",
    "    print(f\"Your marks in english = {english}\")\n",
    "    print(f\"Your marks in computers = {computers}\")\n",
    "\n",
    "    total = physics+maths+hindi+english+computers\n",
    "\n",
    "    print(f\"The total marks obtained is {total}\")"
   ]
  },
  {
   "cell_type": "code",
   "execution_count": 3,
   "metadata": {},
   "outputs": [
    {
     "name": "stdout",
     "output_type": "stream",
     "text": [
      "Your marks in phsyics = 85\n",
      "Your marks in hindi = 98\n",
      "Your marks in maths = 56\n",
      "Your marks in english = 89\n",
      "Your marks in computers = 99\n",
      "The total marks obtained is 427\n"
     ]
    }
   ],
   "source": [
    "total_marks(85,98,56,89,99)"
   ]
  },
  {
   "cell_type": "markdown",
   "metadata": {},
   "source": [
    "In the above example the order we set for the subjects remains the same when we send the arguments to the function. "
   ]
  },
  {
   "cell_type": "code",
   "execution_count": 5,
   "metadata": {},
   "outputs": [
    {
     "name": "stdout",
     "output_type": "stream",
     "text": [
      "Your marks in phsyics = 99\n",
      "Your marks in hindi = 88\n",
      "Your marks in maths = 100\n",
      "Your marks in english = 55\n",
      "Your marks in computers = 97\n",
      "The total marks obtained is 439\n"
     ]
    }
   ],
   "source": [
    "# Named parameters\n",
    "\n",
    "total_marks(english=55, hindi=88, computers=97, physics=99, maths=100) # the order can be changed while passing the named parameters"
   ]
  },
  {
   "cell_type": "code",
   "execution_count": 6,
   "metadata": {},
   "outputs": [],
   "source": [
    "# default parameters \n",
    "def total_marks(physics=0, hindi=0, maths=0, english=0, computers=0):\n",
    "    print(f\"Your marks in phsyics = {physics}\")\n",
    "    print(f\"Your marks in hindi = {hindi}\")\n",
    "    print(f\"Your marks in maths = {maths}\")\n",
    "    print(f\"Your marks in english = {english}\")\n",
    "    print(f\"Your marks in computers = {computers}\")\n",
    "\n",
    "    total = physics+maths+hindi+english+computers\n",
    "\n",
    "    print(f\"The total marks obtained is {total}\")\n"
   ]
  },
  {
   "cell_type": "code",
   "execution_count": 7,
   "metadata": {},
   "outputs": [
    {
     "name": "stdout",
     "output_type": "stream",
     "text": [
      "Your marks in phsyics = 100\n",
      "Your marks in hindi = 99\n",
      "Your marks in maths = 0\n",
      "Your marks in english = 0\n",
      "Your marks in computers = 0\n",
      "The total marks obtained is 199\n"
     ]
    }
   ],
   "source": [
    "total_marks(100,99)"
   ]
  },
  {
   "cell_type": "code",
   "execution_count": null,
   "metadata": {},
   "outputs": [],
   "source": []
  }
 ],
 "metadata": {
  "kernelspec": {
   "display_name": "Python 3",
   "language": "python",
   "name": "python3"
  },
  "language_info": {
   "codemirror_mode": {
    "name": "ipython",
    "version": 3
   },
   "file_extension": ".py",
   "mimetype": "text/x-python",
   "name": "python",
   "nbconvert_exporter": "python",
   "pygments_lexer": "ipython3",
   "version": "3.11.8"
  }
 },
 "nbformat": 4,
 "nbformat_minor": 2
}
