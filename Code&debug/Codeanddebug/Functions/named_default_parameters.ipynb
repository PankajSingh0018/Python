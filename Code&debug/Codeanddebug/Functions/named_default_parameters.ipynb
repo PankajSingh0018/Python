{
 "cells": [
  {
   "cell_type": "code",
   "execution_count": 1,
   "metadata": {},
   "outputs": [],
   "source": [
    "#Named Parameters"
   ]
  },
  {
   "cell_type": "code",
   "execution_count": 2,
   "metadata": {},
   "outputs": [],
   "source": [
    "def total_marks(physics, hindi, maths, english, computers):\n",
    "    print(f\"Your marks in phsyics = {physics}\")\n",
    "    print(f\"Your marks in hindi = {hindi}\")\n",
    "    print(f\"Your marks in maths = {maths}\")\n",
    "    print(f\"Your marks in english = {english}\")\n",
    "    print(f\"Your marks in computers = {computers}\")\n",
    "\n",
    "    total = physics+maths+hindi+english+computers\n",
    "\n",
    "    print(f\"The total marks obtained is {total}\")"
   ]
  },
  {
   "cell_type": "code",
   "execution_count": 3,
   "metadata": {},
   "outputs": [
    {
     "name": "stdout",
     "output_type": "stream",
     "text": [
      "Your marks in phsyics = 85\n",
      "Your marks in hindi = 98\n",
      "Your marks in maths = 56\n",
      "Your marks in english = 89\n",
      "Your marks in computers = 99\n",
      "The total marks obtained is 427\n"
     ]
    }
   ],
   "source": [
    "total_marks(85,98,56,89,99)"
   ]
  },
  {
   "cell_type": "markdown",
   "metadata": {},
   "source": [
    "In the above example the order we set for the subjects remains the same when we send the arguments to the function. "
   ]
  },
  {
   "cell_type": "code",
   "execution_count": 5,
   "metadata": {},
   "outputs": [
    {
     "name": "stdout",
     "output_type": "stream",
     "text": [
      "Your marks in phsyics = 99\n",
      "Your marks in hindi = 88\n",
      "Your marks in maths = 100\n",
      "Your marks in english = 55\n",
      "Your marks in computers = 97\n",
      "The total marks obtained is 439\n"
     ]
    }
   ],
   "source": [
    "# Named parameters/ positional arguments\n",
    "total_marks(english=55, hindi=88, computers=97, physics=99, maths=100) # the order can be changed while passing the named parameters"
   ]
  },
  {
   "cell_type": "code",
   "execution_count": 6,
   "metadata": {},
   "outputs": [],
   "source": [
    "# default parameters/arguments\n",
    "def total_marks(physics=0, hindi=0, maths=0, english=0, computers=0):\n",
    "    print(f\"Your marks in phsyics = {physics}\")\n",
    "    print(f\"Your marks in hindi = {hindi}\")\n",
    "    print(f\"Your marks in maths = {maths}\")\n",
    "    print(f\"Your marks in english = {english}\")\n",
    "    print(f\"Your marks in computers = {computers}\")\n",
    "\n",
    "    total = physics+maths+hindi+english+computers\n",
    "\n",
    "    print(f\"The total marks obtained is {total}\")\n"
   ]
  },
  {
   "cell_type": "code",
   "execution_count": 7,
   "metadata": {},
   "outputs": [
    {
     "name": "stdout",
     "output_type": "stream",
     "text": [
      "Your marks in phsyics = 100\n",
      "Your marks in hindi = 99\n",
      "Your marks in maths = 0\n",
      "Your marks in english = 0\n",
      "Your marks in computers = 0\n",
      "The total marks obtained is 199\n"
     ]
    }
   ],
   "source": [
    "total_marks(100,99)"
   ]
  },
  {
   "cell_type": "markdown",
   "metadata": {},
   "source": [
    "**args and kwargs**"
   ]
  },
  {
   "cell_type": "code",
   "execution_count": 3,
   "metadata": {},
   "outputs": [
    {
     "name": "stdout",
     "output_type": "stream",
     "text": [
      "(1, 2, 3, 4)\n",
      "([1, 2, 3], 4)\n",
      "(1,)\n"
     ]
    }
   ],
   "source": [
    "# *args are used when we have arbitary numbers of parameters needs to be sent to the function \n",
    "\n",
    "def add(*args):\n",
    "    print(args)\n",
    "\n",
    "\n",
    "add(1,2,3,4)\n",
    "add([1,2,3],4)\n",
    "add(1)\n",
    "\n",
    "# the result shows us that the arguments that are sent are converted to a tuple"
   ]
  },
  {
   "cell_type": "code",
   "execution_count": 10,
   "metadata": {},
   "outputs": [
    {
     "name": "stdout",
     "output_type": "stream",
     "text": [
      "6\n"
     ]
    }
   ],
   "source": [
    "def add(*args):\n",
    "\n",
    "    print(sum(args))\n",
    "\n",
    "add(1,2,3)\n",
    "# since tuple is iterable we can use mathematical operations on it "
   ]
  },
  {
   "cell_type": "code",
   "execution_count": 12,
   "metadata": {},
   "outputs": [
    {
     "name": "stdout",
     "output_type": "stream",
     "text": [
      "{'name': 'Pankaj', 'age': 27, 'gender': 'male'}\n"
     ]
    }
   ],
   "source": [
    "# Kwargs are the named arguments/parameters\n",
    "def add(*args,**kwargs):\n",
    "    print(kwargs)\n",
    "\n",
    "add(name= \"Pankaj\",age = 27, gender= \"male\")\n",
    "\n",
    "# kwargs returns a dictionary/json format"
   ]
  },
  {
   "cell_type": "code",
   "execution_count": 16,
   "metadata": {},
   "outputs": [],
   "source": [
    "def add(n1,n2,n3,*args,**kwargs):\n",
    "    # print(kwargs)\n",
    "    print(f\"{n1=}\")\n",
    "    print(f\"{n2=}\")\n",
    "    print(f\"{n3=}\")\n",
    "    print(f\"{args=}\")\n",
    "    print(f\"{kwargs=}\")"
   ]
  },
  {
   "cell_type": "code",
   "execution_count": 17,
   "metadata": {},
   "outputs": [
    {
     "name": "stdout",
     "output_type": "stream",
     "text": [
      "n1=5\n",
      "n2=10\n",
      "n3=15\n",
      "args=()\n",
      "kwargs={}\n"
     ]
    }
   ],
   "source": [
    "add(5,10,15) # all the values will be sent to the default parameters\n"
   ]
  },
  {
   "cell_type": "code",
   "execution_count": 18,
   "metadata": {},
   "outputs": [
    {
     "name": "stdout",
     "output_type": "stream",
     "text": [
      "n1=54\n",
      "n2=100\n",
      "n3=45\n",
      "args=(66, 23)\n",
      "kwargs={}\n"
     ]
    }
   ],
   "source": [
    "add(54,100,45,66,23) \n",
    "# the first three will go the default parameters and the others in args"
   ]
  },
  {
   "cell_type": "code",
   "execution_count": 19,
   "metadata": {},
   "outputs": [
    {
     "name": "stdout",
     "output_type": "stream",
     "text": [
      "n1=5\n",
      "n2=10\n",
      "n3=25\n",
      "args=(69,)\n",
      "kwargs={'name': 'pankaj', 'age': 27, 'gender': 'male'}\n"
     ]
    }
   ],
   "source": [
    "add(5,10,25,69,name=\"pankaj\",age=27, gender= \"male\")\n",
    "\n",
    "# the first three into the default parameters\n",
    "# 69 will be into args which will be a tuple \n",
    "# remaining will go into the kwargs"
   ]
  },
  {
   "cell_type": "code",
   "execution_count": null,
   "metadata": {},
   "outputs": [],
   "source": []
  }
 ],
 "metadata": {
  "kernelspec": {
   "display_name": "Python 3",
   "language": "python",
   "name": "python3"
  },
  "language_info": {
   "codemirror_mode": {
    "name": "ipython",
    "version": 3
   },
   "file_extension": ".py",
   "mimetype": "text/x-python",
   "name": "python",
   "nbconvert_exporter": "python",
   "pygments_lexer": "ipython3",
   "version": "3.11.8"
  }
 },
 "nbformat": 4,
 "nbformat_minor": 2
}
