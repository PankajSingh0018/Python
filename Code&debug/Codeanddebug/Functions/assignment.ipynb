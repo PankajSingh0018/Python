{
 "cells": [
  {
   "cell_type": "code",
   "execution_count": 1,
   "metadata": {},
   "outputs": [],
   "source": [
    "#Write a function that accepts an integer and prints the multiplication table for that number up to 10."
   ]
  },
  {
   "cell_type": "code",
   "execution_count": 2,
   "metadata": {},
   "outputs": [
    {
     "name": "stdout",
     "output_type": "stream",
     "text": [
      "1*5 = 5\n",
      "2*5 = 10\n",
      "3*5 = 15\n",
      "4*5 = 20\n",
      "5*5 = 25\n",
      "6*5 = 30\n",
      "7*5 = 35\n",
      "8*5 = 40\n",
      "9*5 = 45\n",
      "10*5 = 50\n"
     ]
    }
   ],
   "source": [
    "# creating the function \n",
    "\n",
    "def multiplication_table(num): \n",
    "    # iterating over the range of 1 to 10 and printing the table \n",
    "    for i in range(1,11):\n",
    "        mul = i * num\n",
    "        print(f\"{i}*{num} = {mul}\")\n",
    "\n",
    "\n",
    "# taking user input\n",
    "num = int(input(\"Enter the number whose table you want to find\"))\n",
    "# calling the funtion \n",
    "\n",
    "multiplication_table(num)"
   ]
  },
  {
   "cell_type": "code",
   "execution_count": 5,
   "metadata": {},
   "outputs": [
    {
     "name": "stdout",
     "output_type": "stream",
     "text": [
      "Odd\n"
     ]
    }
   ],
   "source": [
    "# Write a function that accepts an integer and prints whether it is odd or even.\n",
    "# user input for the number \n",
    "num = int(input(\"Enter the number to check whether it is an even or odd\"))\n",
    "\n",
    "# using lambda function \n",
    "\n",
    "result = lambda num : print(\"Even\") if num%2==0 else print(\"Odd\")\n",
    "\n",
    "result(num)"
   ]
  },
  {
   "cell_type": "code",
   "execution_count": 15,
   "metadata": {},
   "outputs": [],
   "source": [
    "#Write a function that takes three numbers as parameters and prints the largest among them.\n",
    "\n",
    "# def largest_of_the_number(num1, num2, num3)-> int:\n",
    "\n",
    "#     largest = 0 \n",
    "    \n",
    "#     if num1> num2:\n",
    "#         largest = num1\n",
    "#     elif num2> num3:\n",
    "#         largest = num2\n",
    "#     else: \n",
    "#         largest = num3\n",
    "    \n",
    "#     return largest\n",
    "\n"
   ]
  },
  {
   "cell_type": "code",
   "execution_count": 19,
   "metadata": {},
   "outputs": [
    {
     "name": "stdout",
     "output_type": "stream",
     "text": [
      "98\n"
     ]
    }
   ],
   "source": [
    "num1, num2, num3 = map(int,(input(\"Enter the numbers\").split()))\n",
    "result = lambda num1,num2, num3 : max(num1,num2,num3)\n",
    "\n",
    "print(result(num1, num2, num3))"
   ]
  },
  {
   "cell_type": "code",
   "execution_count": 26,
   "metadata": {},
   "outputs": [],
   "source": [
    "#Write a function that takes an integer and prints whether it is a prime number.\n",
    "\n",
    "def prime_or_not(num):\n",
    "    # first check if the number is less than or equal to 1\n",
    "    if num <=1:\n",
    "        print(f\"The {num} is not a prime number\")\n",
    "\n",
    "    # iterating over the range from 2 to the number \n",
    "    for i in range(2, int(num**0.5)+1):\n",
    "        print(int(num**0.5))\n",
    "        if num %i ==0:\n",
    "            print(f\"The {num} is not a prime number\")\n",
    "        \n",
    "            return\n",
    "    \n",
    "    print(f\"The {num} is a prime number\")\n",
    "\n",
    "            "
   ]
  },
  {
   "cell_type": "code",
   "execution_count": 27,
   "metadata": {},
   "outputs": [
    {
     "name": "stdout",
     "output_type": "stream",
     "text": [
      "2\n",
      "The 4 is not a prime number\n"
     ]
    }
   ],
   "source": [
    "prime_or_not(4)"
   ]
  },
  {
   "cell_type": "code",
   "execution_count": 28,
   "metadata": {},
   "outputs": [
    {
     "name": "stdout",
     "output_type": "stream",
     "text": [
      "2\n",
      "The 5 is a prime number\n"
     ]
    }
   ],
   "source": [
    "prime_or_not(5)"
   ]
  },
  {
   "cell_type": "code",
   "execution_count": null,
   "metadata": {},
   "outputs": [],
   "source": []
  }
 ],
 "metadata": {
  "kernelspec": {
   "display_name": "Python 3",
   "language": "python",
   "name": "python3"
  },
  "language_info": {
   "codemirror_mode": {
    "name": "ipython",
    "version": 3
   },
   "file_extension": ".py",
   "mimetype": "text/x-python",
   "name": "python",
   "nbconvert_exporter": "python",
   "pygments_lexer": "ipython3",
   "version": "3.11.8"
  }
 },
 "nbformat": 4,
 "nbformat_minor": 2
}
