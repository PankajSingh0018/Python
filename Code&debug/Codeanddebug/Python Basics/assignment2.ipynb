{
 "cells": [
  {
   "cell_type": "code",
   "execution_count": 1,
   "metadata": {},
   "outputs": [],
   "source": [
    "# write a program to add two numbers entered by the users\n",
    "def addition(a, b):\n",
    "    sum = a+b\n",
    "    return sum"
   ]
  },
  {
   "cell_type": "code",
   "execution_count": 11,
   "metadata": {},
   "outputs": [
    {
     "name": "stdout",
     "output_type": "stream",
     "text": [
      "2\n",
      "56\n",
      "58\n"
     ]
    }
   ],
   "source": [
    "a,b =map(int,input(\"Enter the two numbers that you want to add\").split(\" \"))\n",
    "print(a)\n",
    "print(b)\n",
    "answer = addition(a,b)\n",
    "print(answer)"
   ]
  },
  {
   "cell_type": "code",
   "execution_count": 12,
   "metadata": {},
   "outputs": [],
   "source": [
    "# convert a string to an integer and vice versa \n",
    "\n",
    "def int_to_string(number):\n",
    "    new_string = str(number)\n",
    "    return new_string\n",
    "\n",
    "def string_to_int(string):\n",
    "    number = int(string)\n",
    "    return number"
   ]
  },
  {
   "cell_type": "code",
   "execution_count": 14,
   "metadata": {},
   "outputs": [
    {
     "name": "stdout",
     "output_type": "stream",
     "text": [
      "The original type of num is <class 'int'> and the number is 1236\n",
      "The converted type of num is <class 'str'> and the number is 1236\n"
     ]
    }
   ],
   "source": [
    "# number to string \n",
    "num = 1236\n",
    "answer = int_to_string(num)\n",
    "print(f\"The original type of num is {type(num)} and the number is {num}\")\n",
    "print(f\"The converted type of num is {type(answer)} and the number is {answer}\")"
   ]
  },
  {
   "cell_type": "code",
   "execution_count": 15,
   "metadata": {},
   "outputs": [
    {
     "name": "stdout",
     "output_type": "stream",
     "text": [
      "The original type of num is <class 'str'> and the number is 126\n",
      "The converted type of num is <class 'int'> and the number is 126\n"
     ]
    }
   ],
   "source": [
    "# string to number \n",
    "strings= '126'\n",
    "answer = string_to_int(strings)\n",
    "\n",
    "print(f\"The original type of num is {type(strings)} and the number is {strings}\")\n",
    "print(f\"The converted type of num is {type(answer)} and the number is {answer}\")"
   ]
  },
  {
   "cell_type": "code",
   "execution_count": 16,
   "metadata": {},
   "outputs": [],
   "source": [
    "# calculate the area of rectangle using user input for length and breadth \n",
    "\n",
    "def rectangle_area(l,b):\n",
    "    area= l*b\n",
    "    return area"
   ]
  },
  {
   "cell_type": "code",
   "execution_count": 18,
   "metadata": {},
   "outputs": [
    {
     "name": "stdout",
     "output_type": "stream",
     "text": [
      "6475\n"
     ]
    }
   ],
   "source": [
    "l,b = map(int, input(\"Enter the Length and Breadth of the rectangle\").split(\" \"))\n",
    "answer = rectangle_area(l,b)\n",
    "print(answer)"
   ]
  },
  {
   "cell_type": "code",
   "execution_count": 19,
   "metadata": {},
   "outputs": [],
   "source": [
    "# python to calculate the average of the three numbers\n",
    "def average(n,n1, n2, n3):\n",
    "    avg = (n1+n2+n3)/n\n",
    "\n",
    "    return avg\n"
   ]
  },
  {
   "cell_type": "code",
   "execution_count": 20,
   "metadata": {},
   "outputs": [
    {
     "name": "stdout",
     "output_type": "stream",
     "text": [
      "2.0\n"
     ]
    }
   ],
   "source": [
    "n, n1,n2,n3 = map(int, input(\"Enter the number of terms and the numbers to count their average\").split(\" \"))\n",
    "answer = average(n,n1,n2,n3)\n",
    "print(answer)"
   ]
  },
  {
   "cell_type": "code",
   "execution_count": 4,
   "metadata": {},
   "outputs": [],
   "source": [
    "# Converting a float number to an integer \n",
    "\n",
    "def convert_float_to_int(number):\n",
    "    new_number = int(number)\n",
    "    return new_number\n",
    "\n",
    "def convert_int_to_float(number):\n",
    "    new_number = float(number)\n",
    "    return new_number\n"
   ]
  },
  {
   "cell_type": "code",
   "execution_count": 2,
   "metadata": {},
   "outputs": [
    {
     "name": "stdout",
     "output_type": "stream",
     "text": [
      "The original number was 25.698 and the converted number is 25\n"
     ]
    }
   ],
   "source": [
    "number = float(input(\"Enter the floating point number :\"))\n",
    "\n",
    "answer = convert_float_to_int(number)\n",
    "\n",
    "print(f\"The original number was {number} and the converted number is {answer}\")"
   ]
  },
  {
   "cell_type": "code",
   "execution_count": 5,
   "metadata": {},
   "outputs": [
    {
     "name": "stdout",
     "output_type": "stream",
     "text": [
      "The original number was 59 and the converted number is 59.0\n"
     ]
    }
   ],
   "source": [
    "number = int(input(\"Enter the floating point number :\"))\n",
    "\n",
    "answer = convert_int_to_float(number)\n",
    "\n",
    "print(f\"The original number was {number} and the converted number is {answer}\")"
   ]
  },
  {
   "cell_type": "code",
   "execution_count": 8,
   "metadata": {},
   "outputs": [],
   "source": [
    "# write a program to convert the temperature to Celsius.\n",
    "# formula -> celsius = (farenheit-32)* (5/9)\n",
    "\n",
    "def temp_covert_to_celsisus(temp_farenheit):\n",
    "    converted_temp = round((temp_farenheit-32)*(5/9),2)\n",
    "\n",
    "    return converted_temp"
   ]
  },
  {
   "cell_type": "code",
   "execution_count": 9,
   "metadata": {},
   "outputs": [
    {
     "name": "stdout",
     "output_type": "stream",
     "text": [
      "The converted tempertaure is 309.44 degree celsisus \n"
     ]
    }
   ],
   "source": [
    "temp = float(input(\"Enter the Temperature in Degree Farenheit\"))\n",
    "\n",
    "answer = temp_covert_to_celsisus(temp)\n",
    "\n",
    "print(f\"The converted tempertaure is {answer} degree celsisus \")"
   ]
  },
  {
   "cell_type": "code",
   "execution_count": 16,
   "metadata": {},
   "outputs": [],
   "source": [
    "# calculate the sum of 5 subjects and their individual percentage\n",
    "def calculate_percentage( english, maths, hindi, science, sports):\n",
    "    sum_of_subjects= english+ hindi+maths+science+sports\n",
    "    percent =(sum_of_subjects/500 )*100\n",
    "    return percent\n"
   ]
  },
  {
   "cell_type": "code",
   "execution_count": 18,
   "metadata": {},
   "outputs": [
    {
     "name": "stdout",
     "output_type": "stream",
     "text": [
      "61.6 %\n"
     ]
    }
   ],
   "source": [
    "# user input \n",
    "english, maths, hindi, science, sports = map(float, input(\"Enter the marks obtained in Each subjects accordingly\").split(\" \"))\n",
    "percentage = calculate_percentage(english, maths, hindi, science, sports )\n",
    "print(percentage,\"%\")"
   ]
  },
  {
   "cell_type": "code",
   "execution_count": 15,
   "metadata": {},
   "outputs": [],
   "source": [
    "import math"
   ]
  },
  {
   "cell_type": "code",
   "execution_count": null,
   "metadata": {},
   "outputs": [],
   "source": []
  }
 ],
 "metadata": {
  "kernelspec": {
   "display_name": "Python 3",
   "language": "python",
   "name": "python3"
  },
  "language_info": {
   "codemirror_mode": {
    "name": "ipython",
    "version": 3
   },
   "file_extension": ".py",
   "mimetype": "text/x-python",
   "name": "python",
   "nbconvert_exporter": "python",
   "pygments_lexer": "ipython3",
   "version": "3.11.8"
  }
 },
 "nbformat": 4,
 "nbformat_minor": 2
}
