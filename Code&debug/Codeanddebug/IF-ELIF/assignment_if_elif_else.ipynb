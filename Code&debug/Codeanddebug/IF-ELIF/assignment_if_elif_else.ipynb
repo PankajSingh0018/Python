{
 "cells": [
  {
   "cell_type": "code",
   "execution_count": 1,
   "metadata": {},
   "outputs": [],
   "source": [
    "#Write a program to check if the number is ODD, EVEN or Equal to Zero.\n",
    "\n",
    "def check_number(number):\n",
    "    # conditions -> odd, even ,zero\n",
    "\n",
    "    if number ==0:\n",
    "        print(f\"The {number} is Zero\")\n",
    "    elif number %2 ==0:\n",
    "        print(f\"The {number} is Even\") \n",
    "\n",
    "    else:\n",
    "        print(f\"The {number} is Odd\")             \n",
    "              \n"
   ]
  },
  {
   "cell_type": "code",
   "execution_count": 3,
   "metadata": {},
   "outputs": [
    {
     "name": "stdout",
     "output_type": "stream",
     "text": [
      "The 2598763 is Odd\n"
     ]
    }
   ],
   "source": [
    "check_number(2598763)"
   ]
  },
  {
   "cell_type": "code",
   "execution_count": 9,
   "metadata": {},
   "outputs": [],
   "source": [
    "#Write a program to check if number is divisible by 2 and 3 but not 8.\n",
    "\n",
    "def check_number_divisibilty(number):\n",
    "    if number%2 ==0 and number%3 ==0 and number%8!= 0:\n",
    "        print(f\"The {number} is divisible by 2 , 3 but not 8\")\n",
    "    \n",
    "    elif number%2 ==0 and number%3 ==0 and number%8== 0:\n",
    "        print(f\"The {number} is divisible by 2 ,3, and 8\")\n"
   ]
  },
  {
   "cell_type": "code",
   "execution_count": 11,
   "metadata": {},
   "outputs": [
    {
     "name": "stdout",
     "output_type": "stream",
     "text": [
      "The 24 is divisible by 2 ,3, and 8\n"
     ]
    }
   ],
   "source": [
    "check_number_divisibilty(24)"
   ]
  },
  {
   "cell_type": "code",
   "execution_count": 21,
   "metadata": {},
   "outputs": [],
   "source": [
    "#Write a program to print the last digit of a number. (NOT A IF ELSE QUESTION)\n",
    "\n",
    "\"\"\"  \n",
    "Example 1\n",
    "Input: 45321\n",
    "Output: 1\n",
    "Example 2\n",
    "Input: 459094\n",
    "Output: 4\n",
    "\n",
    "\"\"\"\n",
    "\n",
    "\n",
    "def last_digit(number):\n",
    "    #type conversion\n",
    "    new_number = str(number)\n",
    "    # print(type(new_number))\n",
    "    print(new_number[-1])"
   ]
  },
  {
   "cell_type": "code",
   "execution_count": 22,
   "metadata": {},
   "outputs": [
    {
     "name": "stdout",
     "output_type": "stream",
     "text": [
      "1\n"
     ]
    }
   ],
   "source": [
    "last_digit(45321)"
   ]
  },
  {
   "cell_type": "code",
   "execution_count": 23,
   "metadata": {},
   "outputs": [
    {
     "name": "stdout",
     "output_type": "stream",
     "text": [
      "4\n"
     ]
    }
   ],
   "source": [
    "last_digit(459094)"
   ]
  },
  {
   "cell_type": "code",
   "execution_count": 24,
   "metadata": {},
   "outputs": [],
   "source": [
    "#Write a program to check if the last digit of a number is divisible by 5 or not\n",
    "\n",
    "def check_last_number_divisiblity(number):\n",
    "    #type casting to string\n",
    "    new_number = str(number)\n",
    "\n",
    "    # extracting the last number using slicing \n",
    "    last_digit = new_number[-1]\n",
    "\n",
    "    # converting back it into an integer value \n",
    "    new_last_digit = int(last_digit)\n",
    "\n",
    "    if new_last_digit ==5 :\n",
    "        print(f\"the last digit number {new_last_digit} is divisible by 5\")\n",
    "    else: \n",
    "        print(f\"the last digit number {new_last_digit} is not divisible by 5\")"
   ]
  },
  {
   "cell_type": "code",
   "execution_count": 25,
   "metadata": {},
   "outputs": [
    {
     "name": "stdout",
     "output_type": "stream",
     "text": [
      "the last digit number 5 is divisible by 5\n"
     ]
    }
   ],
   "source": [
    "check_last_number_divisiblity(459095)"
   ]
  },
  {
   "cell_type": "code",
   "execution_count": 1,
   "metadata": {},
   "outputs": [
    {
     "data": {
      "text/plain": [
       "'\\nWrite a program to calculate bill. Ask the final amount from the user.\\nYou have to give discount and print the final bill after discount.\\n50000 above - 30% discount\\n40000 - 49999 - 25% discount\\n30000 - 39999 - 20% discount\\n10000 - 29999 - 10% discount\\n1 - 9999 - No discount\\n\\n'"
      ]
     },
     "execution_count": 1,
     "metadata": {},
     "output_type": "execute_result"
    }
   ],
   "source": [
    "\"\"\"\n",
    "Write a program to calculate bill. Ask the final amount from the user.\n",
    "You have to give discount and print the final bill after discount.\n",
    "50000 above - 30% discount\n",
    "40000 - 49999 - 25% discount\n",
    "30000 - 39999 - 20% discount\n",
    "10000 - 29999 - 10% discount\n",
    "1 - 9999 - No discount\n",
    "\n",
    "\"\"\""
   ]
  },
  {
   "cell_type": "code",
   "execution_count": 5,
   "metadata": {},
   "outputs": [],
   "source": [
    "# function to calculate the bill amount post discount\n",
    "\n",
    "def calculate_bill(amount):\n",
    "    # calculating the discount on the bill amount \n",
    "    discount = calculate_discount(amount)\n",
    "    final_amount = amount - discount\n",
    "    return final_amount\n",
    "\n",
    "\n",
    "\n",
    "def calculate_discount(amount):\n",
    "    # calculating the discount on the bill amount\n",
    "    if amount> 50000:\n",
    "        discount= amount*0.3\n",
    "        return discount\n",
    "    elif amount >= 40000 and amount < 50000:\n",
    "        discount = amount*0.25\n",
    "    elif amount >= 30000 and amount < 40000:\n",
    "        discount = amount*0.2\n",
    "    elif amount >= 10000 and amount < 30000:\n",
    "        discount = amount*0.1\n",
    "    else:\n",
    "        discount = 0\n",
    "\n",
    "    return discount\n",
    "    \n",
    "\n"
   ]
  },
  {
   "cell_type": "code",
   "execution_count": 8,
   "metadata": {},
   "outputs": [
    {
     "name": "stdout",
     "output_type": "stream",
     "text": [
      "The final bill post discount is 56000.0\n"
     ]
    }
   ],
   "source": [
    "# taking the input from the user for the final amount\n",
    "final_amount = int(input(\"Enter the final amount of the bill:\"))\n",
    "\n",
    "# calling the calculate_bill function\n",
    "final_bill = calculate_bill(final_amount)\n",
    "\n",
    "print(f\"The final bill post discount is {final_bill}\")"
   ]
  },
  {
   "cell_type": "code",
   "execution_count": 9,
   "metadata": {},
   "outputs": [],
   "source": [
    "# Ask 4 numbers from user. Make sure all the numbers entered by user are distinct\n",
    "# Print the smallest number \n",
    "\n",
    "def check_smallest_number(number1, number2, number3, number4):\n",
    "    if number1 < number2 and number1 < number3 and number1 < number4:\n",
    "        print(f\"The smallest number is {number1}\")\n",
    "    elif number2 < number1 and number2 < number3 and number2 < number4:\n",
    "        print(f\"The smallest number is {number2}\")\n",
    "    elif number3 < number1 and number3 < number2 and number3 < number4:\n",
    "        print(f\"The smallest number is {number3}\")\n",
    "    elif number4 < number1 and number4 < number2 and number4 < number3:\n",
    "        print(f\"The smallest number is {number4}\")\n",
    "        "
   ]
  },
  {
   "cell_type": "code",
   "execution_count": 11,
   "metadata": {},
   "outputs": [],
   "source": [
    "number1, number2, number3, number4 = map (int,input(\"Enter the 4 numbers:\").split(\",\"))"
   ]
  },
  {
   "cell_type": "code",
   "execution_count": 14,
   "metadata": {},
   "outputs": [
    {
     "name": "stdout",
     "output_type": "stream",
     "text": [
      "The smallest number is 5\n"
     ]
    }
   ],
   "source": [
    "check_smallest_number(number1, number2, number3, number4)"
   ]
  },
  {
   "cell_type": "code",
   "execution_count": null,
   "metadata": {},
   "outputs": [],
   "source": []
  }
 ],
 "metadata": {
  "kernelspec": {
   "display_name": "Python 3",
   "language": "python",
   "name": "python3"
  },
  "language_info": {
   "codemirror_mode": {
    "name": "ipython",
    "version": 3
   },
   "file_extension": ".py",
   "mimetype": "text/x-python",
   "name": "python",
   "nbconvert_exporter": "python",
   "pygments_lexer": "ipython3",
   "version": "3.11.8"
  }
 },
 "nbformat": 4,
 "nbformat_minor": 2
}
