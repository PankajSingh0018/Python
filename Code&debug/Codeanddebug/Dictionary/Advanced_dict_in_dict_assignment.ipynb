{
 "cells": [
  {
   "cell_type": "code",
   "execution_count": 3,
   "metadata": {},
   "outputs": [],
   "source": [
    "# Q151. Given a list and dictionary, map each element of list with each item of dictionary, forming nested dictionary as value.\n",
    "\n",
    "test_dict = {\"pankaj\":45,\"coder\":55,\"raj\":99}\n",
    "test_list= [11,14,17]\n",
    "\n",
    "output= {11:{\"pankaj\":45}, 14: {\"coder\":55}, 17:{\"raj\":99}}"
   ]
  },
  {
   "cell_type": "code",
   "execution_count": 12,
   "metadata": {},
   "outputs": [
    {
     "name": "stdout",
     "output_type": "stream",
     "text": [
      "{11: {'pankaj': 45}, 14: {'coder': 55}, 17: {'raj': 99}}\n"
     ]
    }
   ],
   "source": [
    "test_dict = {\"pankaj\": 45, \"coder\": 55, \"raj\": 99}\n",
    "test_list = [11, 14, 17]\n",
    "\n",
    "# Ensure the lengths match to avoid errors\n",
    "if len(test_dict) == len(test_list):\n",
    "    output = {item: {key: value} for item, (key, value) in zip(test_list, test_dict.items())}\n",
    "else:\n",
    "    output = {}  # or handle error appropriately\n",
    "\n",
    "print(output)\n"
   ]
  },
  {
   "cell_type": "code",
   "execution_count": 18,
   "metadata": {},
   "outputs": [
    {
     "name": "stdout",
     "output_type": "stream",
     "text": [
      "{11: {'pankaj': 45}, 14: {'coder': 55}, 17: {'raj': 99}}\n"
     ]
    }
   ],
   "source": [
    "test_dict = {\"pankaj\": 45, \"coder\": 55, \"raj\": 99}\n",
    "test_list = [11, 14, 17]\n",
    "\n",
    "for list_item, (key,value) in zip(test_list, test_dict.items()):\n",
    "    output[list_item]= {key:value}\n",
    "\n",
    "print(output)"
   ]
  },
  {
   "cell_type": "code",
   "execution_count": 21,
   "metadata": {},
   "outputs": [],
   "source": [
    "student_marks = {\n",
    "    \"john\": {'marks':[80,85,90]},\n",
    "    \"alice\":{'marks':[75,88,92]},\n",
    "    \"bob\": {'marks':[90,92,88]}\n",
    "}\n",
    "\n",
    "# add Eva with marks [95,91,89]"
   ]
  },
  {
   "cell_type": "code",
   "execution_count": 22,
   "metadata": {},
   "outputs": [],
   "source": [
    "student_marks[\"Eva\"]= {'marks': [95,91,89]}"
   ]
  },
  {
   "cell_type": "code",
   "execution_count": 23,
   "metadata": {},
   "outputs": [
    {
     "name": "stdout",
     "output_type": "stream",
     "text": [
      "john {'marks': [80, 85, 90]}\n",
      "alice {'marks': [75, 88, 92]}\n",
      "bob {'marks': [90, 92, 88]}\n",
      "Eva {'marks': [95, 91, 89]}\n"
     ]
    }
   ],
   "source": [
    "for name, detail in student_marks.items():\n",
    "    print(name, detail)"
   ]
  },
  {
   "cell_type": "code",
   "execution_count": 24,
   "metadata": {},
   "outputs": [
    {
     "data": {
      "text/plain": [
       "{'john': {'marks': [80, 85, 90]},\n",
       " 'alice': {'marks': [75, 88, 92]},\n",
       " 'bob': {'marks': [90, 92, 88]},\n",
       " 'Eva': {'marks': [95, 91, 89]}}"
      ]
     },
     "execution_count": 24,
     "metadata": {},
     "output_type": "execute_result"
    }
   ],
   "source": [
    "student_marks"
   ]
  },
  {
   "cell_type": "code",
   "execution_count": 29,
   "metadata": {},
   "outputs": [],
   "source": [
    "import statistics"
   ]
  },
  {
   "cell_type": "code",
   "execution_count": 30,
   "metadata": {},
   "outputs": [
    {
     "name": "stdout",
     "output_type": "stream",
     "text": [
      "john\n",
      "85\n",
      "alice\n",
      "85\n",
      "bob\n",
      "90\n",
      "Eva\n",
      "91.66666666666667\n"
     ]
    }
   ],
   "source": [
    "# Write a python program that prints all the students name along with their average marks.\n",
    "\n",
    "for name, detail in student_marks.items():\n",
    "    print(name)\n",
    "    print(statistics.mean(detail[\"marks\"]))"
   ]
  },
  {
   "cell_type": "code",
   "execution_count": 31,
   "metadata": {},
   "outputs": [],
   "source": [
    "# Update the marks of \"John\" to [85, 88, 92] in the student_marks dictionary.\n",
    "\n",
    "student_marks[\"john\"][\"marks\"] = [85, 88, 92]"
   ]
  },
  {
   "cell_type": "code",
   "execution_count": 32,
   "metadata": {},
   "outputs": [
    {
     "data": {
      "text/plain": [
       "{'john': {'marks': [85, 88, 92]},\n",
       " 'alice': {'marks': [75, 88, 92]},\n",
       " 'bob': {'marks': [90, 92, 88]},\n",
       " 'Eva': {'marks': [95, 91, 89]}}"
      ]
     },
     "execution_count": 32,
     "metadata": {},
     "output_type": "execute_result"
    }
   ],
   "source": [
    "student_marks"
   ]
  },
  {
   "cell_type": "code",
   "execution_count": 48,
   "metadata": {},
   "outputs": [
    {
     "name": "stdout",
     "output_type": "stream",
     "text": [
      "Eva has scored 275 as the highest marks\n"
     ]
    }
   ],
   "source": [
    "# Write a program that displays the name of the student that has scored highest marks overall.\n",
    "highest_scorer = None\n",
    "highest_marks = 0\n",
    "for name, detail in student_marks.items():\n",
    "    total_marks= sum(detail['marks'])\n",
    "\n",
    "    if total_marks > highest_marks:\n",
    "        highest_marks = total_marks\n",
    "        highest_scorer= name\n",
    "    \n",
    "print(f\"{name} has scored {highest_marks} as the highest marks\")\n",
    "\n"
   ]
  },
  {
   "cell_type": "code",
   "execution_count": null,
   "metadata": {},
   "outputs": [],
   "source": []
  }
 ],
 "metadata": {
  "kernelspec": {
   "display_name": "Python 3",
   "language": "python",
   "name": "python3"
  },
  "language_info": {
   "codemirror_mode": {
    "name": "ipython",
    "version": 3
   },
   "file_extension": ".py",
   "mimetype": "text/x-python",
   "name": "python",
   "nbconvert_exporter": "python",
   "pygments_lexer": "ipython3",
   "version": "3.11.8"
  }
 },
 "nbformat": 4,
 "nbformat_minor": 2
}
