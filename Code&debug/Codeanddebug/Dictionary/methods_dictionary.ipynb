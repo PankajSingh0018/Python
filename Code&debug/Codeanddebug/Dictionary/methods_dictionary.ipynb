{
 "cells": [
  {
   "cell_type": "code",
   "execution_count": 5,
   "metadata": {},
   "outputs": [
    {
     "data": {
      "text/plain": [
       "{'Name': 'Pankaj', 12: [55, 22, 6589], 256.36: 'Singh', (32, 26): 'abcd'}"
      ]
     },
     "execution_count": 5,
     "metadata": {},
     "output_type": "execute_result"
    }
   ],
   "source": [
    "dic = {\n",
    "    \"Name\" : \"Pankaj\",\n",
    "    12: [55,22,6589],\n",
    "    256.36 : \"Singh\",\n",
    "    (32,26): \"abcd\"\n",
    "    }\n",
    "dic"
   ]
  },
  {
   "cell_type": "markdown",
   "metadata": {},
   "source": [
    "## Get and Add/ Remove / update key-vlaues"
   ]
  },
  {
   "cell_type": "code",
   "execution_count": 3,
   "metadata": {},
   "outputs": [
    {
     "name": "stdout",
     "output_type": "stream",
     "text": [
      "{'Name': 'Pankaj', 'age': 27, 'last_name': 'Singh'}\n"
     ]
    }
   ],
   "source": [
    "dic = {\n",
    "    \"Name\" : \"Pankaj\",\n",
    "    \"age\":27,\n",
    "    \"last_name\": \"Singh\"\n",
    "    }\n",
    "print(dic)"
   ]
  },
  {
   "cell_type": "code",
   "execution_count": 4,
   "metadata": {},
   "outputs": [
    {
     "name": "stdout",
     "output_type": "stream",
     "text": [
      "27\n",
      "Singh\n",
      "Pankaj\n"
     ]
    }
   ],
   "source": [
    "print(dic['age'])\n",
    "print(dic[\"last_name\"])\n",
    "print(dic[\"Name\"])"
   ]
  },
  {
   "cell_type": "code",
   "execution_count": 13,
   "metadata": {},
   "outputs": [
    {
     "name": "stdout",
     "output_type": "stream",
     "text": [
      "Pankaj\n"
     ]
    }
   ],
   "source": [
    "# methods \n",
    "r= dic.get('Name')\n",
    "print(r)"
   ]
  },
  {
   "cell_type": "code",
   "execution_count": 14,
   "metadata": {},
   "outputs": [
    {
     "name": "stdout",
     "output_type": "stream",
     "text": [
      "None\n"
     ]
    }
   ],
   "source": [
    "r= dic.get('Naame')\n",
    "print(r)"
   ]
  },
  {
   "cell_type": "code",
   "execution_count": 15,
   "metadata": {},
   "outputs": [
    {
     "name": "stdout",
     "output_type": "stream",
     "text": [
      "<class 'NoneType'>\n"
     ]
    }
   ],
   "source": [
    "print(type(r))"
   ]
  },
  {
   "cell_type": "code",
   "execution_count": 19,
   "metadata": {},
   "outputs": [
    {
     "name": "stdout",
     "output_type": "stream",
     "text": [
      "The key you have entered does not exists please verify\n"
     ]
    }
   ],
   "source": [
    "\"\"\" question - ask a key from the use and if the key exists in the dictionary \n",
    "and if it does not exist , return - The key does not exist\n",
    "\n",
    "\"\"\"\n",
    "\n",
    "k = input(\"Enter the key:\")\n",
    "\n",
    "for key, value in dic.items():\n",
    "    if key == k:\n",
    "        print(value)\n",
    "        break\n",
    "    else:\n",
    "        print(\"The key you have entered does not exists please verify\")\n",
    "        break"
   ]
  },
  {
   "cell_type": "code",
   "execution_count": 23,
   "metadata": {},
   "outputs": [
    {
     "name": "stdout",
     "output_type": "stream",
     "text": [
      "Singh\n"
     ]
    }
   ],
   "source": [
    "# using the .get method \n",
    "\n",
    "k = input(\"Enter the key, whose value you want to extract\")\n",
    "\n",
    "result= dic.get(k)\n",
    "\n",
    "if result is not None:\n",
    "    print(result)\n",
    "else:\n",
    "    print(\"The key you have entered does not exists, please verify\")"
   ]
  },
  {
   "cell_type": "code",
   "execution_count": 5,
   "metadata": {},
   "outputs": [
    {
     "data": {
      "text/plain": [
       "27"
      ]
     },
     "execution_count": 5,
     "metadata": {},
     "output_type": "execute_result"
    }
   ],
   "source": [
    "dic['age']"
   ]
  },
  {
   "cell_type": "code",
   "execution_count": 8,
   "metadata": {},
   "outputs": [
    {
     "data": {
      "text/plain": [
       "{'Name': 'Pankaj', 'age': 17, 'last_name': 'Singh'}"
      ]
     },
     "execution_count": 8,
     "metadata": {},
     "output_type": "execute_result"
    }
   ],
   "source": [
    "# update the values \n",
    "dic['age'] = 17\n",
    "dic"
   ]
  },
  {
   "cell_type": "code",
   "execution_count": 9,
   "metadata": {},
   "outputs": [
    {
     "data": {
      "text/plain": [
       "{'Name': 'Pankaj',\n",
       " 'age': 17,\n",
       " 'last_name': 'Singh',\n",
       " 'status': 'single',\n",
       " 'occupation': 'AI-Engineer'}"
      ]
     },
     "execution_count": 9,
     "metadata": {},
     "output_type": "execute_result"
    }
   ],
   "source": [
    "## update method \n",
    "\n",
    "## the .update method requires dictionary to take the parameters\n",
    "dic.update({'status':'single','occupation':\"AI-Engineer\"})\n",
    "dic"
   ]
  },
  {
   "cell_type": "code",
   "execution_count": 10,
   "metadata": {},
   "outputs": [
    {
     "data": {
      "text/plain": [
       "{'Name': 'Pankaj',\n",
       " 'last_name': 'Singh',\n",
       " 'status': 'single',\n",
       " 'occupation': 'AI-Engineer'}"
      ]
     },
     "execution_count": 10,
     "metadata": {},
     "output_type": "execute_result"
    }
   ],
   "source": [
    "# remove from dictionary\n",
    "# del & pop\n",
    "\n",
    "del dic['age']\n",
    "dic"
   ]
  },
  {
   "cell_type": "code",
   "execution_count": 11,
   "metadata": {},
   "outputs": [
    {
     "ename": "NameError",
     "evalue": "name 'dic' is not defined",
     "output_type": "error",
     "traceback": [
      "\u001b[1;31m---------------------------------------------------------------------------\u001b[0m",
      "\u001b[1;31mNameError\u001b[0m                                 Traceback (most recent call last)",
      "Cell \u001b[1;32mIn[11], line 2\u001b[0m\n\u001b[0;32m      1\u001b[0m \u001b[38;5;28;01mdel\u001b[39;00m dic\n\u001b[1;32m----> 2\u001b[0m \u001b[43mdic\u001b[49m\n",
      "\u001b[1;31mNameError\u001b[0m: name 'dic' is not defined"
     ]
    }
   ],
   "source": [
    "del dic # deleted the dictionary and will egt the error \n",
    "dic"
   ]
  },
  {
   "cell_type": "code",
   "execution_count": 19,
   "metadata": {},
   "outputs": [
    {
     "data": {
      "text/plain": [
       "{'Name': 'Pankaj',\n",
       " 'age': 17,\n",
       " 'last_name': 'Singh',\n",
       " 'status': 'single',\n",
       " 'occupation': 'AI-Engineer'}"
      ]
     },
     "execution_count": 19,
     "metadata": {},
     "output_type": "execute_result"
    }
   ],
   "source": [
    "# the pop method uses the key \n",
    "\n",
    "dic= {'Name': 'Pankaj',\n",
    " 'age': 17,\n",
    " 'last_name': 'Singh',\n",
    " 'status': 'single',\n",
    " 'occupation': 'AI-Engineer'}\n",
    "\n",
    "dic"
   ]
  },
  {
   "cell_type": "code",
   "execution_count": 13,
   "metadata": {},
   "outputs": [
    {
     "data": {
      "text/plain": [
       "{'Name': 'Pankaj',\n",
       " 'last_name': 'Singh',\n",
       " 'status': 'single',\n",
       " 'occupation': 'AI-Engineer'}"
      ]
     },
     "execution_count": 13,
     "metadata": {},
     "output_type": "execute_result"
    }
   ],
   "source": [
    "dic.pop(\"age\")\n",
    "dic"
   ]
  },
  {
   "cell_type": "code",
   "execution_count": 14,
   "metadata": {},
   "outputs": [
    {
     "ename": "TypeError",
     "evalue": "pop expected at least 1 argument, got 0",
     "output_type": "error",
     "traceback": [
      "\u001b[1;31m---------------------------------------------------------------------------\u001b[0m",
      "\u001b[1;31mTypeError\u001b[0m                                 Traceback (most recent call last)",
      "Cell \u001b[1;32mIn[14], line 1\u001b[0m\n\u001b[1;32m----> 1\u001b[0m \u001b[43mdic\u001b[49m\u001b[38;5;241;43m.\u001b[39;49m\u001b[43mpop\u001b[49m\u001b[43m(\u001b[49m\u001b[43m)\u001b[49m\n",
      "\u001b[1;31mTypeError\u001b[0m: pop expected at least 1 argument, got 0"
     ]
    }
   ],
   "source": [
    "dic.pop()"
   ]
  },
  {
   "cell_type": "code",
   "execution_count": 21,
   "metadata": {},
   "outputs": [
    {
     "data": {
      "text/plain": [
       "{'Name': 'Pankaj', 'age': 17, 'last_name': 'Singh', 'status': 'single'}"
      ]
     },
     "execution_count": 21,
     "metadata": {},
     "output_type": "execute_result"
    }
   ],
   "source": [
    "#popitem\n",
    "\n",
    "#pop item does not takes any argument and return the key value pair of the last item of the dictionary as a tuple\n",
    "\n",
    "dic.popitem()\n",
    "dic"
   ]
  },
  {
   "cell_type": "code",
   "execution_count": 22,
   "metadata": {},
   "outputs": [
    {
     "data": {
      "text/plain": [
       "{'Name': 'Pankaj', 'age': 17, 'last_name': 'Singh'}"
      ]
     },
     "execution_count": 22,
     "metadata": {},
     "output_type": "execute_result"
    }
   ],
   "source": [
    "dic.popitem()\n",
    "dic"
   ]
  },
  {
   "cell_type": "markdown",
   "metadata": {},
   "source": [
    "## Iterating key- Values "
   ]
  },
  {
   "cell_type": "code",
   "execution_count": 2,
   "metadata": {},
   "outputs": [],
   "source": [
    "dic = {'Name': 'Pankaj',\n",
    " 'last_name': 'Singh',\n",
    " 'status': 'single',\n",
    " 'occupation': 'AI-Engineer'}"
   ]
  },
  {
   "cell_type": "code",
   "execution_count": 3,
   "metadata": {},
   "outputs": [
    {
     "data": {
      "text/plain": [
       "dict_keys(['Name', 'last_name', 'status', 'occupation'])"
      ]
     },
     "execution_count": 3,
     "metadata": {},
     "output_type": "execute_result"
    }
   ],
   "source": [
    "# using simple .keys method\n",
    "# the method returns a data-structure of the dict_keys\n",
    "keys= dic.keys()\n",
    "keys\n"
   ]
  },
  {
   "cell_type": "code",
   "execution_count": 4,
   "metadata": {},
   "outputs": [
    {
     "name": "stdout",
     "output_type": "stream",
     "text": [
      "Name\n",
      "last_name\n",
      "status\n",
      "occupation\n"
     ]
    }
   ],
   "source": [
    "# using for loop \n",
    "for keys in dic.keys():\n",
    "    print(keys)"
   ]
  },
  {
   "cell_type": "code",
   "execution_count": 5,
   "metadata": {},
   "outputs": [
    {
     "name": "stdout",
     "output_type": "stream",
     "text": [
      "Pankaj\n",
      "Singh\n",
      "single\n",
      "AI-Engineer\n"
     ]
    }
   ],
   "source": [
    "# extracting the values using .keys()\n",
    "\n",
    "for key in dic.keys():\n",
    "    print(dic[key])"
   ]
  },
  {
   "cell_type": "code",
   "execution_count": 3,
   "metadata": {},
   "outputs": [
    {
     "name": "stdout",
     "output_type": "stream",
     "text": [
      "Name\n",
      "last_name\n",
      "status\n",
      "occupation\n"
     ]
    }
   ],
   "source": [
    "# print only the keys from the dictionary  \n",
    "\n",
    "#1 - For loop and .items() method\n",
    "for key, value in dic.items():\n",
    "    print(key)"
   ]
  },
  {
   "cell_type": "code",
   "execution_count": 8,
   "metadata": {},
   "outputs": [
    {
     "data": {
      "text/plain": [
       "dict_keys(['Name', 'last_name', 'status', 'occupation'])"
      ]
     },
     "execution_count": 8,
     "metadata": {},
     "output_type": "execute_result"
    }
   ],
   "source": []
  },
  {
   "cell_type": "code",
   "execution_count": 7,
   "metadata": {},
   "outputs": [
    {
     "data": {
      "text/plain": [
       "dict_keys"
      ]
     },
     "execution_count": 7,
     "metadata": {},
     "output_type": "execute_result"
    }
   ],
   "source": [
    "type(keys)"
   ]
  },
  {
   "cell_type": "code",
   "execution_count": 10,
   "metadata": {},
   "outputs": [
    {
     "name": "stdout",
     "output_type": "stream",
     "text": [
      "['Name', 'last_name', 'status', 'occupation']\n"
     ]
    }
   ],
   "source": [
    "key= [i for i in dic.keys()]\n",
    "print(key)"
   ]
  },
  {
   "cell_type": "code",
   "execution_count": 6,
   "metadata": {},
   "outputs": [
    {
     "data": {
      "text/plain": [
       "['Pankaj', 'Singh', 'single', 'AI-Engineer']"
      ]
     },
     "execution_count": 6,
     "metadata": {},
     "output_type": "execute_result"
    }
   ],
   "source": [
    "value = [v for v in dic.values()]\n",
    "value"
   ]
  },
  {
   "cell_type": "code",
   "execution_count": 13,
   "metadata": {},
   "outputs": [],
   "source": [
    "subject= {\n",
    "    \"history\": 37,\n",
    "    \"Maths\":55,\n",
    "    \"English\":59,\n",
    "    \"Science\": 66\n",
    "    }\n",
    "\n",
    "# I need to find the total marks obtained "
   ]
  },
  {
   "cell_type": "code",
   "execution_count": 14,
   "metadata": {},
   "outputs": [
    {
     "name": "stdout",
     "output_type": "stream",
     "text": [
      "The total marks obtained is 217\n"
     ]
    }
   ],
   "source": [
    "total = 0\n",
    "\n",
    "for key in subject.keys():\n",
    "    total = total + subject[key]\n",
    "\n",
    "print(f'The total marks obtained is {total}')"
   ]
  },
  {
   "cell_type": "code",
   "execution_count": 16,
   "metadata": {},
   "outputs": [
    {
     "name": "stdout",
     "output_type": "stream",
     "text": [
      "217\n"
     ]
    }
   ],
   "source": [
    "total_marks = 0\n",
    "\n",
    "for value in subject.values():\n",
    "    # print(value)\n",
    "\n",
    "    total_marks = total_marks + value \n",
    "\n",
    "print(total_marks)\n"
   ]
  },
  {
   "cell_type": "code",
   "execution_count": 19,
   "metadata": {},
   "outputs": [
    {
     "data": {
      "text/plain": [
       "' \\noutput -\\nName -> Pankaj\\nlast_name -> Singh\\nstatus -> single \\noccupation -> AI-Engineer \\n\\n'"
      ]
     },
     "execution_count": 19,
     "metadata": {},
     "output_type": "execute_result"
    }
   ],
   "source": [
    "\"\"\" \n",
    "output -\n",
    "Name -> Pankaj\n",
    "last_name -> Singh\n",
    "status -> single \n",
    "occupation -> AI-Engineer \n",
    "\n",
    "\"\"\""
   ]
  },
  {
   "cell_type": "code",
   "execution_count": 20,
   "metadata": {},
   "outputs": [
    {
     "name": "stdout",
     "output_type": "stream",
     "text": [
      "Name->Pankaj\n",
      "last_name->Singh\n",
      "status->single\n",
      "occupation->AI-Engineer\n"
     ]
    }
   ],
   "source": [
    "dic = {'Name': 'Pankaj',\n",
    " 'last_name': 'Singh',\n",
    " 'status': 'single',\n",
    " 'occupation': 'AI-Engineer'}\n",
    "\n",
    "var = '->'\n",
    "\n",
    "for key, value in dic.items():\n",
    "    print(key + var + value)"
   ]
  },
  {
   "cell_type": "code",
   "execution_count": 26,
   "metadata": {},
   "outputs": [
    {
     "name": "stdout",
     "output_type": "stream",
     "text": [
      "Name -> Pankaj\n",
      "last_name -> Singh\n",
      "status -> single\n",
      "occupation -> AI-Engineer\n"
     ]
    }
   ],
   "source": [
    "for key,value in dic.items():\n",
    "    print(f\"{key} -> {value}\")"
   ]
  },
  {
   "cell_type": "code",
   "execution_count": 24,
   "metadata": {},
   "outputs": [
    {
     "data": {
      "text/plain": [
       "[('Name', 'Pankaj'),\n",
       " ('last_name', 'Singh'),\n",
       " ('status', 'single'),\n",
       " ('occupation', 'AI-Engineer')]"
      ]
     },
     "execution_count": 24,
     "metadata": {},
     "output_type": "execute_result"
    }
   ],
   "source": [
    "l = [(key, value) for (key, value) in dic.items()]\n",
    "l"
   ]
  },
  {
   "cell_type": "code",
   "execution_count": 25,
   "metadata": {},
   "outputs": [
    {
     "name": "stdout",
     "output_type": "stream",
     "text": [
      "['Name->Pankaj', 'last_name->Singh', 'status->single', 'occupation->AI-Engineer']\n"
     ]
    }
   ],
   "source": [
    "l= [(f\"{key}->{value}\") for (key, value) in dic.items()]\n",
    "print(l)"
   ]
  },
  {
   "cell_type": "code",
   "execution_count": null,
   "metadata": {},
   "outputs": [],
   "source": []
  }
 ],
 "metadata": {
  "kernelspec": {
   "display_name": "Python 3",
   "language": "python",
   "name": "python3"
  },
  "language_info": {
   "codemirror_mode": {
    "name": "ipython",
    "version": 3
   },
   "file_extension": ".py",
   "mimetype": "text/x-python",
   "name": "python",
   "nbconvert_exporter": "python",
   "pygments_lexer": "ipython3",
   "version": "3.11.8"
  }
 },
 "nbformat": 4,
 "nbformat_minor": 2
}
