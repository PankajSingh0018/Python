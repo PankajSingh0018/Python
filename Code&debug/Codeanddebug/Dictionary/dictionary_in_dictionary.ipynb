{
 "cells": [
  {
   "cell_type": "code",
   "execution_count": 4,
   "metadata": {},
   "outputs": [],
   "source": [
    "\"\"\" \n",
    "Output -\n",
    "\n",
    "'pankaj' - 425\n",
    "'prachi'- 700\n",
    "'ankit'- 400\n",
    "\n",
    "\"\"\"\n",
    "\n",
    "\n",
    "student = {\n",
    "    'pankaj': {\n",
    "        'roll_number':420,\n",
    "        'gender':\"Male\",\n",
    "        'physics': 98,\n",
    "        \"chemistry\": 88,\n",
    "        \"Maths\": 78,\n",
    "        \"Computer\": 94\n",
    "    },\n",
    "\n",
    "    'prachi' : {\n",
    "        'roll_number':421,\n",
    "        'gender':\"Female\",\n",
    "        'physics': 99,\n",
    "        \"chemistry\": 98,\n",
    "        \"Maths\": 98,\n",
    "        \"Computer\": 97\n",
    "    },\n",
    "\n",
    "    'ankit': {\n",
    "        'roll_number':422,\n",
    "        'gender':\"Male\",\n",
    "        'physics': 88,\n",
    "        \"chemistry\": 98,\n",
    "        \"Maths\": 38,\n",
    "        \"Computer\": 44\n",
    "    }\n",
    "\n",
    "}"
   ]
  },
  {
   "cell_type": "code",
   "execution_count": 9,
   "metadata": {},
   "outputs": [
    {
     "name": "stdout",
     "output_type": "stream",
     "text": [
      "<class 'dict'>\n"
     ]
    }
   ],
   "source": [
    "print(type(student['pankaj']))"
   ]
  },
  {
   "cell_type": "code",
   "execution_count": 10,
   "metadata": {},
   "outputs": [
    {
     "data": {
      "text/plain": [
       "358"
      ]
     },
     "execution_count": 10,
     "metadata": {},
     "output_type": "execute_result"
    }
   ],
   "source": [
    "total_marks = student['pankaj']['physics']+ student['pankaj']['chemistry']+ student['pankaj']['Maths']+student['pankaj']['Computer']\n",
    "total_marks"
   ]
  },
  {
   "cell_type": "code",
   "execution_count": 24,
   "metadata": {},
   "outputs": [
    {
     "name": "stdout",
     "output_type": "stream",
     "text": [
      "pankaj -> 358 has Male as a gender\n",
      "prachi -> 392 has Female as a gender\n",
      "ankit -> 268 has Male as a gender\n"
     ]
    }
   ],
   "source": [
    "for k, val in student.items():\n",
    "    total_marks = val[\"physics\"]+ val[\"Maths\"]+val[\"chemistry\"]+val[\"Computer\"]\n",
    "    gender = val['gender']\n",
    "    print(f\"{k} -> {total_marks} has {gender} as a gender\")"
   ]
  },
  {
   "cell_type": "code",
   "execution_count": 46,
   "metadata": {},
   "outputs": [],
   "source": [
    "# new question \n",
    "\n",
    "student_data = {\n",
    "\n",
    "    \"pankaj\": {\n",
    "        \"roll_number\": 420,\n",
    "        \"gender\":\"Male\",\n",
    "        \"marks\": [78,88,98,48,68]\n",
    "    },\n",
    "    \n",
    "    \"prachi\": {\n",
    "        \"roll_number\": 421,\n",
    "        \"gender\":\"Female\",\n",
    "        \"marks\": [98,98,99,97,98]\n",
    "    }\n",
    "    \n",
    "    }"
   ]
  },
  {
   "cell_type": "code",
   "execution_count": 47,
   "metadata": {},
   "outputs": [
    {
     "name": "stdout",
     "output_type": "stream",
     "text": [
      "870\n"
     ]
    }
   ],
   "source": [
    "total = 0\n",
    "\n",
    "for name, details in student_data.items():\n",
    "    # total_marks = [i+i for i in details['marks']]\n",
    "    # print(total_marks)\n",
    "    for mark in details['marks']:\n",
    "        total = total+ mark\n",
    "\n",
    "print(total)"
   ]
  },
  {
   "cell_type": "code",
   "execution_count": 72,
   "metadata": {},
   "outputs": [
    {
     "name": "stdout",
     "output_type": "stream",
     "text": [
      "360\n",
      "490\n"
     ]
    }
   ],
   "source": [
    "student_data = {\n",
    "\n",
    "    \"pankaj\": {\n",
    "        \"roll_number\": 420,\n",
    "        \"gender\":\"Male\",\n",
    "        \"marks\": [78,88,98,28,68]\n",
    "    },\n",
    "    \n",
    "    \"prachi\": {\n",
    "        \"roll_number\": 421,\n",
    "        \"gender\":\"Female\",\n",
    "        \"marks\": [98,98,99,97,98]\n",
    "    }\n",
    "    \n",
    "    }\n",
    "\n",
    "for name, details in student_data.items():\n",
    "    total = sum(details['marks'])\n",
    "    \n",
    "    print(total)"
   ]
  },
  {
   "cell_type": "code",
   "execution_count": 73,
   "metadata": {},
   "outputs": [
    {
     "name": "stdout",
     "output_type": "stream",
     "text": [
      "pankaj got 360 as total marks\n",
      "prachi got 490 as total marks\n"
     ]
    }
   ],
   "source": [
    "for name, detail in student_data.items():\n",
    "\n",
    "    total_marks = sum(detail['marks'])\n",
    "    print(f\"{name} got {total_marks} as total marks\")"
   ]
  },
  {
   "cell_type": "code",
   "execution_count": 74,
   "metadata": {},
   "outputs": [],
   "source": [
    "#advanced question, same above question solve it without using the sum function "
   ]
  },
  {
   "cell_type": "code",
   "execution_count": 79,
   "metadata": {},
   "outputs": [
    {
     "name": "stdout",
     "output_type": "stream",
     "text": [
      "pankaj\n",
      "360\n",
      "prachi\n",
      "490\n"
     ]
    }
   ],
   "source": [
    "for name, detail in student_data.items():\n",
    "    print(name)\n",
    "    mark = detail['marks']\n",
    "    total= 0\n",
    "    for element in mark:\n",
    "        total = total+ element\n",
    "    \n",
    "    print(total)"
   ]
  },
  {
   "cell_type": "code",
   "execution_count": null,
   "metadata": {},
   "outputs": [],
   "source": []
  },
  {
   "cell_type": "code",
   "execution_count": 57,
   "metadata": {},
   "outputs": [],
   "source": [
    "# dictionary in dictionary in dictionary \n",
    "\n",
    "student_data = {\n",
    "\n",
    "    \"pankaj\": {\n",
    "        \"roll_number\": 420,\n",
    "        \"gender\":\"Male\",\n",
    "        \"marks\": {\n",
    "            'physics':78,\n",
    "            \"chemistry\":88,\n",
    "            \"maths\":98,\n",
    "            \"computer\":28,\n",
    "            \"English\":68}\n",
    "    },\n",
    "    \n",
    "    \"prachi\": {\n",
    "        \"roll_number\": 421,\n",
    "        \"gender\":\"Female\",\n",
    "        \"marks\": {\n",
    "            'physics':98,\n",
    "            \"chemistry\":88,\n",
    "            \"maths\":96,\n",
    "            \"computer\":10,\n",
    "            \"English\":99\n",
    "            \n",
    "            }\n",
    "    }\n",
    "    \n",
    "    }"
   ]
  },
  {
   "cell_type": "code",
   "execution_count": 69,
   "metadata": {},
   "outputs": [
    {
     "name": "stdout",
     "output_type": "stream",
     "text": [
      "The total marks obtained by pankaj is 360\n",
      "The total marks obtained by prachi is 391\n"
     ]
    }
   ],
   "source": [
    "for name,details in student_data.items():\n",
    "    # print(name)\n",
    "    # print(details['marks'])\n",
    "\n",
    "    total_marks= details['marks']['physics']+details['marks']['chemistry']+details['marks']['maths']+details['marks']['computer']+details['marks']['English']\n",
    "\n",
    "    print(f\"The total marks obtained by {name} is {total_marks}\")"
   ]
  },
  {
   "cell_type": "code",
   "execution_count": null,
   "metadata": {},
   "outputs": [],
   "source": [
    "for name,details in student_data.items():\n",
    "    # print(name)\n",
    "    # print(details['marks'])\n",
    "\n",
    "    total_marks= details['marks']['physics']+details['marks']['chemistry']+details['marks']['maths']+details['marks']['computer']+details['marks']['English']\n",
    "\n",
    "    print(f\"The total marks obtained by {name} is {total_marks}\")"
   ]
  }
 ],
 "metadata": {
  "kernelspec": {
   "display_name": "Python 3",
   "language": "python",
   "name": "python3"
  },
  "language_info": {
   "codemirror_mode": {
    "name": "ipython",
    "version": 3
   },
   "file_extension": ".py",
   "mimetype": "text/x-python",
   "name": "python",
   "nbconvert_exporter": "python",
   "pygments_lexer": "ipython3",
   "version": "3.11.8"
  }
 },
 "nbformat": 4,
 "nbformat_minor": 2
}
