{
 "cells": [
  {
   "cell_type": "code",
   "execution_count": 14,
   "metadata": {},
   "outputs": [
    {
     "name": "stdout",
     "output_type": "stream",
     "text": [
      "Maths : 98\n",
      "English : 94\n",
      "Science : 94\n",
      "Hindi : 92\n",
      "EVS : 96\n"
     ]
    }
   ],
   "source": [
    "# Ask the subject Name and marks from the user and keep adding it to the dictionary\n",
    "\n",
    "dic={}\n",
    "\n",
    "number_of_sub = int(input(\"Enter the number of Subjects:\"))\n",
    "\n",
    "# n = int(number_of_sub)\n",
    "i =0\n",
    "\n",
    "while i< number_of_sub:\n",
    "    subject = str(input(\"Enter the subject Name: \"))\n",
    "    marks = int(input(\"Enter the marks :\"))\n",
    "\n",
    "    if subject is not dic:\n",
    "        dic[subject]= marks\n",
    "\n",
    "    else:\n",
    "        pass\n",
    "\n",
    "    i = i+1\n",
    "\n",
    "\n",
    "\n",
    "\n",
    "for subject, marks in dic.items():\n",
    "    print(subject, \":\" , marks)"
   ]
  },
  {
   "cell_type": "code",
   "execution_count": 15,
   "metadata": {},
   "outputs": [
    {
     "data": {
      "text/plain": [
       "{'Maths': 98, 'English': 94, 'Science': 94, 'Hindi': 92, 'EVS': 96}"
      ]
     },
     "execution_count": 15,
     "metadata": {},
     "output_type": "execute_result"
    }
   ],
   "source": [
    "dic"
   ]
  },
  {
   "cell_type": "code",
   "execution_count": 27,
   "metadata": {},
   "outputs": [
    {
     "name": "stdout",
     "output_type": "stream",
     "text": [
      "{'a': 5, 'b': 10, 'c': 15, 'd': 20, 'e': 25, 'f': 30, 'g': 35, 'h': 65, 'i': 50}\n"
     ]
    }
   ],
   "source": [
    "l1= [5,10,15,20,25,30,35,65,50]\n",
    "l2= ['a','b','c','d','e','f','g','h','i','j']\n",
    "\n",
    "dic ={}\n",
    "\n",
    "for i in range(0,len(l1)):\n",
    "    dic[l2[i]]= l1[i]\n",
    "\n",
    "\n",
    "print(dic)"
   ]
  },
  {
   "cell_type": "code",
   "execution_count": 30,
   "metadata": {},
   "outputs": [
    {
     "data": {
      "text/plain": [
       "{'a': 5,\n",
       " 'b': 10,\n",
       " 'c': 15,\n",
       " 'd': 20,\n",
       " 'e': 25,\n",
       " 'f': 30,\n",
       " 'g': 35,\n",
       " 'h': 65,\n",
       " 'i': 50}"
      ]
     },
     "execution_count": 30,
     "metadata": {},
     "output_type": "execute_result"
    }
   ],
   "source": [
    "## using zip function \n",
    "l1= [5,10,15,20,25,30,35,65,50]\n",
    "l2= ['a','b','c','d','e','f','g','h','i','j']\n",
    "\n",
    "dicc= dict(zip(l2,l1))\n",
    "dicc"
   ]
  },
  {
   "cell_type": "code",
   "execution_count": 32,
   "metadata": {},
   "outputs": [],
   "source": [
    "# unzipping the dictionary using zip function \n",
    "l2, l1 = zip(*dicc.items())"
   ]
  },
  {
   "cell_type": "code",
   "execution_count": 33,
   "metadata": {},
   "outputs": [
    {
     "name": "stdout",
     "output_type": "stream",
     "text": [
      "('a', 'b', 'c', 'd', 'e', 'f', 'g', 'h', 'i')\n",
      "(5, 10, 15, 20, 25, 30, 35, 65, 50)\n"
     ]
    }
   ],
   "source": [
    "print(l2)\n",
    "print(l1)"
   ]
  },
  {
   "cell_type": "code",
   "execution_count": 55,
   "metadata": {},
   "outputs": [
    {
     "name": "stdout",
     "output_type": "stream",
     "text": [
      "hello I am pankaj singh i am a data scientist with four years of experience\n"
     ]
    }
   ],
   "source": [
    "# Ask a string from user. Display the dictionary where each key is a character and value is the frequency of that character that comes in that string.\n",
    "\n",
    "\n",
    "strin= (input(\"Enter the string whose char count you want to find\"))\n",
    "print(strin)\n",
    "dic = {}\n",
    "count= 1\n",
    "for char in strin:\n",
    "    if char not in dic:\n",
    "        dic[char]= 1\n",
    "    else:\n",
    "        dic[char]= count+1\n"
   ]
  },
  {
   "cell_type": "code",
   "execution_count": 56,
   "metadata": {},
   "outputs": [
    {
     "data": {
      "text/plain": [
       "{'h': 2,\n",
       " 'e': 2,\n",
       " 'l': 2,\n",
       " 'o': 2,\n",
       " ' ': 2,\n",
       " 'I': 1,\n",
       " 'a': 2,\n",
       " 'm': 2,\n",
       " 'p': 2,\n",
       " 'n': 2,\n",
       " 'k': 1,\n",
       " 'j': 1,\n",
       " 's': 2,\n",
       " 'i': 2,\n",
       " 'g': 1,\n",
       " 'd': 1,\n",
       " 't': 2,\n",
       " 'c': 2,\n",
       " 'w': 1,\n",
       " 'f': 2,\n",
       " 'u': 1,\n",
       " 'r': 2,\n",
       " 'y': 1,\n",
       " 'x': 1}"
      ]
     },
     "execution_count": 56,
     "metadata": {},
     "output_type": "execute_result"
    }
   ],
   "source": [
    "dic"
   ]
  },
  {
   "cell_type": "code",
   "execution_count": 57,
   "metadata": {},
   "outputs": [],
   "source": [
    "# Write a Python program to combine two dictionary by adding values for common keys.\n",
    "dic1= {'a':100, 'b':200,'c':300}\n",
    "dic2={'a':400,'b':5500,'c':10}"
   ]
  },
  {
   "cell_type": "code",
   "execution_count": 60,
   "metadata": {},
   "outputs": [
    {
     "name": "stdout",
     "output_type": "stream",
     "text": [
      "{'a': 500, 'b': 5700, 'c': 310}\n"
     ]
    }
   ],
   "source": [
    "dic3={}\n",
    "for key in dic1.keys():\n",
    "    if key in dic2:\n",
    "        dic3[key]= dic1[key]+dic2[key]\n",
    "\n",
    "print(dic3)"
   ]
  }
 ],
 "metadata": {
  "kernelspec": {
   "display_name": "Python 3",
   "language": "python",
   "name": "python3"
  },
  "language_info": {
   "codemirror_mode": {
    "name": "ipython",
    "version": 3
   },
   "file_extension": ".py",
   "mimetype": "text/x-python",
   "name": "python",
   "nbconvert_exporter": "python",
   "pygments_lexer": "ipython3",
   "version": "3.11.8"
  }
 },
 "nbformat": 4,
 "nbformat_minor": 2
}
