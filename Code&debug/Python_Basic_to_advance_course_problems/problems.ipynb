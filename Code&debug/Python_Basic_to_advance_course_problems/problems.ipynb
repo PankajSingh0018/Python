{
 "cells": [
  {
   "cell_type": "markdown",
   "metadata": {},
   "source": [
    "### Python Problems Encountered \n"
   ]
  },
  {
   "cell_type": "code",
   "execution_count": 4,
   "metadata": {},
   "outputs": [],
   "source": [
    "# Question - write a function to check get the product of all the numbers present in a string "
   ]
  },
  {
   "cell_type": "code",
   "execution_count": 10,
   "metadata": {},
   "outputs": [],
   "source": [
    "def product(input_string):\n",
    "    mul=1\n",
    "    for char in input_string:\n",
    "        # print(char)\n",
    "        if char.isdigit():\n",
    "            mul *=int(char)\n",
    "        else:\n",
    "            continue\n",
    "    return mul"
   ]
  },
  {
   "cell_type": "code",
   "execution_count": 11,
   "metadata": {},
   "outputs": [
    {
     "name": "stdout",
     "output_type": "stream",
     "text": [
      "The product of all the numbers present in the string is : 31104\n"
     ]
    }
   ],
   "source": [
    "string= \"123abce@98o98\"\n",
    "answer = product(string)\n",
    "\n",
    "print(f\"The product of all the numbers present in the string is : {answer}\")"
   ]
  },
  {
   "cell_type": "code",
   "execution_count": 22,
   "metadata": {},
   "outputs": [],
   "source": [
    "# write a function to count the occurrence of the vowels within a string \n",
    "def count_vowels(input_string):\n",
    "    vowels = \"aeiou\"\n",
    "    alpha= []\n",
    "    count =0\n",
    "    for char in input_string:\n",
    "        # print(char)\n",
    "        if char.isalpha():\n",
    "            alpha.append(char)\n",
    "            \n",
    "            if char.lower() in vowels:\n",
    "                # print(char)\n",
    "                count+=1\n",
    "    \n",
    "    return count\n"
   ]
  },
  {
   "cell_type": "code",
   "execution_count": 23,
   "metadata": {},
   "outputs": [
    {
     "name": "stdout",
     "output_type": "stream",
     "text": [
      "Number of vowels in the given string is: 3\n"
     ]
    }
   ],
   "source": [
    "string= \"123abce@98o98\"\n",
    "answer = count_vowels(string)\n",
    "print(\"Number of vowels in the given string is:\", answer)"
   ]
  },
  {
   "cell_type": "code",
   "execution_count": 50,
   "metadata": {},
   "outputs": [],
   "source": [
    "# create a dictionary of the vowels and their count from the string \n",
    "def create_dict_of_vowels(input_string):\n",
    "    vowels = \"aeiou\"\n",
    "    dictionary={}\n",
    "\n",
    "    for char in input_string:\n",
    "        if char.isalpha():\n",
    "            # print(char)\n",
    "            if char.lower() in vowels:\n",
    "                # print(char)\n",
    "                if char.lower() not in dictionary:\n",
    "                    print(char)\n",
    "                    dictionary[char.lower()] =1\n",
    "                else:\n",
    "                    dictionary[char.lower()]+= 1\n",
    "                \n",
    "            \n",
    "    return dictionary\n"
   ]
  },
  {
   "cell_type": "code",
   "execution_count": 51,
   "metadata": {},
   "outputs": [
    {
     "name": "stdout",
     "output_type": "stream",
     "text": [
      "a\n",
      "e\n",
      "o\n",
      "i\n",
      "u\n",
      "Number of vowels in the given string is: {'a': 2, 'e': 2, 'o': 2, 'i': 1, 'u': 1}\n"
     ]
    }
   ],
   "source": [
    "string= \"123abce@98oaeoiu98\"\n",
    "answer = create_dict_of_vowels(string)\n",
    "print(\"Number of vowels in the given string is:\", answer)"
   ]
  },
  {
   "cell_type": "code",
   "execution_count": null,
   "metadata": {},
   "outputs": [],
   "source": []
  }
 ],
 "metadata": {
  "kernelspec": {
   "display_name": "Python 3",
   "language": "python",
   "name": "python3"
  },
  "language_info": {
   "codemirror_mode": {
    "name": "ipython",
    "version": 3
   },
   "file_extension": ".py",
   "mimetype": "text/x-python",
   "name": "python",
   "nbconvert_exporter": "python",
   "pygments_lexer": "ipython3",
   "version": "3.11.8"
  }
 },
 "nbformat": 4,
 "nbformat_minor": 2
}
