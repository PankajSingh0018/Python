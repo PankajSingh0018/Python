{
 "cells": [
  {
   "cell_type": "markdown",
   "metadata": {},
   "source": [
    "## File Handling - Iterator and Generators"
   ]
  },
  {
   "cell_type": "code",
   "execution_count": 2,
   "metadata": {},
   "outputs": [],
   "source": [
    "## File Handling "
   ]
  },
  {
   "cell_type": "code",
   "execution_count": 4,
   "metadata": {},
   "outputs": [
    {
     "name": "stdout",
     "output_type": "stream",
     "text": [
      " Volume in drive C is Windows\n",
      " Volume Serial Number is 96E0-2891\n",
      "\n",
      " Directory of c:\\Users\\singh\\OneDrive\\Desktop\\Python concepts\\File_handling\n",
      "\n",
      "20-08-2023  18:03    <DIR>          .\n",
      "20-08-2023  17:53    <DIR>          ..\n",
      "20-08-2023  18:02             1,610 file_handling.ipynb\n",
      "20-08-2023  18:03                 0 readme.md\n",
      "               2 File(s)          1,610 bytes\n",
      "               2 Dir(s)  140,645,814,272 bytes free\n"
     ]
    }
   ],
   "source": [
    "# showing the list of all the files in the directory \n",
    "%ls"
   ]
  },
  {
   "cell_type": "code",
   "execution_count": 14,
   "metadata": {},
   "outputs": [
    {
     "name": "stdout",
     "output_type": "stream",
     "text": [
      "c:\\Users\\singh\\OneDrive\\Desktop\\Python concepts\\File_handling\n"
     ]
    }
   ],
   "source": [
    "# getting the current directory\n",
    "import os\n",
    "current_directory = os.getcwd()\n",
    "print(current_directory)\n"
   ]
  },
  {
   "cell_type": "code",
   "execution_count": 7,
   "metadata": {},
   "outputs": [],
   "source": [
    "## command to use in terminal to change the current directory \n",
    "## cd "
   ]
  },
  {
   "cell_type": "code",
   "execution_count": 15,
   "metadata": {},
   "outputs": [],
   "source": [
    "# Let's open the test.txt file\n",
    "f= open('test.txt')"
   ]
  },
  {
   "cell_type": "code",
   "execution_count": 16,
   "metadata": {},
   "outputs": [
    {
     "data": {
      "text/plain": [
       "<_io.TextIOWrapper name='test.txt' mode='r' encoding='cp1252'>"
      ]
     },
     "execution_count": 16,
     "metadata": {},
     "output_type": "execute_result"
    }
   ],
   "source": [
    "f"
   ]
  },
  {
   "cell_type": "code",
   "execution_count": 24,
   "metadata": {},
   "outputs": [],
   "source": [
    "# Let's now close the file \n",
    "f.close()"
   ]
  },
  {
   "cell_type": "code",
   "execution_count": 42,
   "metadata": {},
   "outputs": [],
   "source": [
    "# Let's read the file contents\n",
    "f = open(r\"c:\\Users\\singh\\OneDrive\\Desktop\\Python concepts\\File_handling\\test.txt\",'r')"
   ]
  },
  {
   "cell_type": "code",
   "execution_count": 37,
   "metadata": {},
   "outputs": [
    {
     "data": {
      "text/plain": [
       "'I am writing the file handling tutorial from I neuron \\nI will be creating a ipynb file contaning all the function for file handling \\n'"
      ]
     },
     "execution_count": 37,
     "metadata": {},
     "output_type": "execute_result"
    }
   ],
   "source": [
    "# Reading the file using the \".read()\" method\n",
    "f.read()"
   ]
  },
  {
   "cell_type": "code",
   "execution_count": 38,
   "metadata": {},
   "outputs": [
    {
     "data": {
      "text/plain": [
       "''"
      ]
     },
     "execution_count": 38,
     "metadata": {},
     "output_type": "execute_result"
    }
   ],
   "source": [
    "# Here the cursor or the pointer is at the end of the file \n",
    "f.read()"
   ]
  },
  {
   "cell_type": "code",
   "execution_count": 57,
   "metadata": {},
   "outputs": [
    {
     "data": {
      "text/plain": [
       "'Hi My'"
      ]
     },
     "execution_count": 57,
     "metadata": {},
     "output_type": "execute_result"
    }
   ],
   "source": [
    "# Let's bring the pointer at some index but we have to make sure that the pointer should be at the begining of the file\n",
    "f = open(r\"c:\\Users\\singh\\OneDrive\\Desktop\\Python concepts\\File_handling\\test.txt\",'r')\n",
    "f.read(5)"
   ]
  },
  {
   "cell_type": "code",
   "execution_count": 58,
   "metadata": {},
   "outputs": [
    {
     "data": {
      "text/plain": [
       "5"
      ]
     },
     "execution_count": 58,
     "metadata": {},
     "output_type": "execute_result"
    }
   ],
   "source": [
    "# Let's check where the pointer is currently at in the file \n",
    "f.tell()"
   ]
  },
  {
   "cell_type": "code",
   "execution_count": 59,
   "metadata": {},
   "outputs": [
    {
     "data": {
      "text/plain": [
       "0"
      ]
     },
     "execution_count": 59,
     "metadata": {},
     "output_type": "execute_result"
    }
   ],
   "source": [
    "## Let's bring the pointer back to the begining of the file\n",
    "f.seek(0)"
   ]
  },
  {
   "cell_type": "code",
   "execution_count": 60,
   "metadata": {},
   "outputs": [
    {
     "data": {
      "text/plain": [
       "'Hi My Name is Pankaj Singh\\nI am a Data Scientist , currently working on NLP \\nMy short term goal is to get a NLP engineer\\nThis is my file handling testing document '"
      ]
     },
     "execution_count": 60,
     "metadata": {},
     "output_type": "execute_result"
    }
   ],
   "source": [
    "f.read()"
   ]
  },
  {
   "cell_type": "code",
   "execution_count": 61,
   "metadata": {},
   "outputs": [
    {
     "data": {
      "text/plain": [
       "166"
      ]
     },
     "execution_count": 61,
     "metadata": {},
     "output_type": "execute_result"
    }
   ],
   "source": [
    "f.tell()"
   ]
  },
  {
   "cell_type": "code",
   "execution_count": 62,
   "metadata": {},
   "outputs": [],
   "source": [
    "# Let's write something back to the file \n",
    "## this will overwrite the previous data and we will be getting only new data on reading the file post closing the file after writing \n",
    "f= open(r\"c:\\Users\\singh\\OneDrive\\Desktop\\Python concepts\\File_handling\\test.txt\",'w')\n",
    "f.write(\"I am writing from the script that means I am updating my raw data\")\n",
    "f.close()"
   ]
  },
  {
   "cell_type": "code",
   "execution_count": 63,
   "metadata": {},
   "outputs": [],
   "source": [
    "# let's veiw the contents of the file\n",
    "f= open(\"test.txt\",'r')"
   ]
  },
  {
   "cell_type": "code",
   "execution_count": 64,
   "metadata": {},
   "outputs": [
    {
     "data": {
      "text/plain": [
       "'I am writing from the script that means I am updating my raw data'"
      ]
     },
     "execution_count": 64,
     "metadata": {},
     "output_type": "execute_result"
    }
   ],
   "source": [
    "f.read()"
   ]
  },
  {
   "cell_type": "code",
   "execution_count": 67,
   "metadata": {},
   "outputs": [],
   "source": [
    "## Let's now add more text to the file without replacing the current one \n",
    "f= open(r\"c:\\Users\\singh\\OneDrive\\Desktop\\Python concepts\\File_handling\\test.txt\",'a')\n",
    "f.write(\"I am now in the append mode where I am testing the append mode to check if this method does not replaces my raw data\")\n",
    "f.close()\n"
   ]
  },
  {
   "cell_type": "code",
   "execution_count": 69,
   "metadata": {},
   "outputs": [
    {
     "data": {
      "text/plain": [
       "'I am writing from the script that means I am updating my raw dataI am now in the append mode where I am testing the append mode to check if this method does not replaces my raw dataI am now in the append mode where I am testing the append mode to check if this method does not replaces my raw data'"
      ]
     },
     "execution_count": 69,
     "metadata": {},
     "output_type": "execute_result"
    }
   ],
   "source": [
    "f= open(r\"c:\\Users\\singh\\OneDrive\\Desktop\\Python concepts\\File_handling\\test.txt\",'r')\n",
    "f.read()\n"
   ]
  },
  {
   "cell_type": "code",
   "execution_count": 70,
   "metadata": {},
   "outputs": [],
   "source": [
    "f.close()"
   ]
  },
  {
   "cell_type": "code",
   "execution_count": 79,
   "metadata": {},
   "outputs": [],
   "source": [
    "# Opening the file in with the aliasing \n",
    "# the file will closed automatically after performing the operations on the file\n",
    "with open(\"requirements.txt\",'a') as f:\n",
    "    f.write(\"pandas \\nnumpy \\nmatplotlib\")"
   ]
  },
  {
   "cell_type": "code",
   "execution_count": 80,
   "metadata": {},
   "outputs": [],
   "source": [
    "f= open(\"requirements.txt\",'r')"
   ]
  },
  {
   "cell_type": "code",
   "execution_count": 81,
   "metadata": {},
   "outputs": [
    {
     "data": {
      "text/plain": [
       "'pandas \\nnumpy \\nmatplotlib'"
      ]
     },
     "execution_count": 81,
     "metadata": {},
     "output_type": "execute_result"
    }
   ],
   "source": [
    "f.read()"
   ]
  },
  {
   "cell_type": "code",
   "execution_count": 78,
   "metadata": {},
   "outputs": [],
   "source": [
    "f.close()"
   ]
  },
  {
   "cell_type": "code",
   "execution_count": 82,
   "metadata": {},
   "outputs": [],
   "source": [
    "## Let's now add text to the readme file \n",
    "with open(\"readme.md\",'a') as f:\n",
    "    f.write(\"This is the readme file for my File Handling testing project. \\nThis tutorial has been written by Pankaj Singh\")"
   ]
  },
  {
   "cell_type": "markdown",
   "metadata": {},
   "source": [
    "#### File handling functionality or the modes \n",
    "\n",
    "- Read - **\"r\"** - read the file \n",
    "- Write - **\"w\"** - write/ overwrite on the file\n",
    "- Append - **\"a\"** - add more text to the file without overwriting \n",
    "- Read and Write - **\"r+\"** - read and write the file\n",
    "- Read and Append - **\"a+\"** - read and append the file\n",
    "- Write and Append - **\"w+\"** - write and append the file"
   ]
  },
  {
   "cell_type": "code",
   "execution_count": 98,
   "metadata": {},
   "outputs": [
    {
     "name": "stdout",
     "output_type": "stream",
     "text": [
      "There is some issue with the code division by zero\n"
     ]
    }
   ],
   "source": [
    "\n",
    "try: \n",
    "    a,b = map(int, input(\"Enter the numbers\").split(\" \"))\n",
    "    c = a/b \n",
    "\n",
    "except ArithmeticError as e:\n",
    "    print(\"There is some issue with the code\", e)\n",
    "    # creating a file to store the error and storing the error \n",
    "    f= open(\"error.txt\",'w+')\n",
    "    f.write(str(e))\n",
    "    \n",
    "    f.read()\n",
    "\n",
    "else: \n",
    "    print(\"Our Try block is successful\")\n",
    "    \n",
    "    try:\n",
    "        f= open(\"test1.txt\", 'w+')\n",
    "        f.write(\" Try block is successful\")\n",
    "        f.read()\n",
    "    except:\n",
    "        print(\"There is an issue with my Try block \")\n",
    "        \n",
    "    "
   ]
  },
  {
   "cell_type": "code",
   "execution_count": 100,
   "metadata": {},
   "outputs": [
    {
     "name": "stdout",
     "output_type": "stream",
     "text": [
      "Error file is not present [Errno 2] No such file or directory: 'errr.txt'\n"
     ]
    }
   ],
   "source": [
    "## write a program to check whether if the error.txt file is present or not\n",
    "try: \n",
    "    f = open(\"errr.txt\",'r')\n",
    "    f.read()\n",
    "    print(\"Error file is present\")\n",
    "except FileNotFoundError  as e :\n",
    "    print(\"Error file is not present\", e)\n",
    "    f= open(\"file_present.txt\",'w+')\n",
    "    f.write(str(e))\n",
    "    f.read()"
   ]
  },
  {
   "cell_type": "code",
   "execution_count": null,
   "metadata": {},
   "outputs": [],
   "source": [
    "## check the file size \n",
    "## count the number of line in the file "
   ]
  },
  {
   "cell_type": "code",
   "execution_count": 13,
   "metadata": {},
   "outputs": [],
   "source": [
    "f= open(\"requirements.txt\", 'w+')"
   ]
  },
  {
   "cell_type": "code",
   "execution_count": 14,
   "metadata": {},
   "outputs": [
    {
     "data": {
      "text/plain": [
       "27"
      ]
     },
     "execution_count": 14,
     "metadata": {},
     "output_type": "execute_result"
    }
   ],
   "source": [
    "f.write(\"scikit-learn \\npandas \\nnumpy\")"
   ]
  },
  {
   "cell_type": "code",
   "execution_count": 16,
   "metadata": {},
   "outputs": [],
   "source": [
    "f.close()"
   ]
  },
  {
   "cell_type": "code",
   "execution_count": null,
   "metadata": {},
   "outputs": [],
   "source": []
  }
 ],
 "metadata": {
  "kernelspec": {
   "display_name": "Python 3",
   "language": "python",
   "name": "python3"
  },
  "language_info": {
   "codemirror_mode": {
    "name": "ipython",
    "version": 3
   },
   "file_extension": ".py",
   "mimetype": "text/x-python",
   "name": "python",
   "nbconvert_exporter": "python",
   "pygments_lexer": "ipython3",
   "version": "3.11.8"
  },
  "orig_nbformat": 4
 },
 "nbformat": 4,
 "nbformat_minor": 2
}
