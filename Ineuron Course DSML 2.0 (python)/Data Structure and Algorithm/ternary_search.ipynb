{
 "cells": [
  {
   "cell_type": "markdown",
   "metadata": {},
   "source": [
    "## Ternary Search "
   ]
  },
  {
   "cell_type": "code",
   "execution_count": 14,
   "metadata": {},
   "outputs": [
    {
     "name": "stdout",
     "output_type": "stream",
     "text": [
      "False\n"
     ]
    }
   ],
   "source": [
    "## defning the function without using recursion\n",
    "\n",
    "def ternary_search(arr,l,r,target):\n",
    "    while l<=r:\n",
    "    #creating the two mid value \n",
    "        mid_1 = l+ (r-l)//3\n",
    "        mid_2 = r- (r-l)//3    \n",
    "\n",
    "        #checking the conditions if the target matches the mid1 or mid2 value \n",
    "\n",
    "        if target == arr[mid_1] or target == arr[mid_2]:\n",
    "            return True \n",
    "        \n",
    "        elif target < arr[mid_1]:\n",
    "            # update the right index for the 1st sub-part\n",
    "            r = mid_1-1\n",
    "        \n",
    "        elif target > arr[mid_2]:\n",
    "            # updating the left index only for the 3rd Sub part\n",
    "            l = mid_2+1\n",
    "        \n",
    "        else:\n",
    "            # updating both the pointers for the 2nd Sub part\n",
    "            l,r = mid_1+1, mid_2-1\n",
    "        \n",
    "\n",
    "    return False\n",
    "\n",
    "\n",
    "\n",
    "\n",
    "## Driver code \n",
    "arr = [1,2,3,4,5,6,7,8,9,10]\n",
    "\n",
    "l=0\n",
    "right = len(arr)-1\n",
    "target = 11\n",
    "\n",
    "## function calling \n",
    "result = ternary_search(arr, l, right, target)\n",
    "print(result)\n"
   ]
  },
  {
   "cell_type": "code",
   "execution_count": 15,
   "metadata": {},
   "outputs": [
    {
     "name": "stdout",
     "output_type": "stream",
     "text": [
      "The element is present at -1th index of the array\n"
     ]
    }
   ],
   "source": [
    "# finding the value using Ternary search with recusrion \n",
    "\n",
    "def ternary_search( arr, l, r, target):\n",
    "\n",
    "    ## iterating over the length of the array\n",
    "    while l<= r:\n",
    "\n",
    "        ## creating two mid values\n",
    "        mid1 = l+ (r-l)//3\n",
    "        mid2= r - (r-l)//3\n",
    "\n",
    "        ## checking if the mid1 or mid2 value matches the target \n",
    "        if target == arr[mid1]: \n",
    "            return mid1\n",
    "        elif target == arr[mid2]:\n",
    "            return mid2\n",
    "        \n",
    "        ## First Search Space\n",
    "        elif target < arr[mid1]:\n",
    "            # calling the function again with the updated parameters\n",
    "            return ternary_search(arr,l,mid1-1,target) \n",
    "        \n",
    "        ## Third Search space \n",
    "        elif target> arr[mid2]:\n",
    "            # calling the function again with the updated parameters\n",
    "            return ternary_search(arr, mid2+1, r, target)\n",
    "        \n",
    "        ## Second Search Space\n",
    "        else:\n",
    "            return ternary_search(arr,mid1+1,mid2-1, target)\n",
    "        \n",
    "    \n",
    "    return -1\n",
    "\n",
    "\n",
    "## Driver code \n",
    "arr = [1,2,3,4,5,6,7,8,9,10]\n",
    "\n",
    "l=0\n",
    "right = len(arr)-1\n",
    "target = 22\n",
    "\n",
    "## function calling \n",
    "result = ternary_search(arr, l, right, target)\n",
    "print(f\"The element is present at {result}th index of the array\")"
   ]
  },
  {
   "cell_type": "code",
   "execution_count": null,
   "metadata": {},
   "outputs": [],
   "source": []
  }
 ],
 "metadata": {
  "kernelspec": {
   "display_name": "Python 3",
   "language": "python",
   "name": "python3"
  },
  "language_info": {
   "codemirror_mode": {
    "name": "ipython",
    "version": 3
   },
   "file_extension": ".py",
   "mimetype": "text/x-python",
   "name": "python",
   "nbconvert_exporter": "python",
   "pygments_lexer": "ipython3",
   "version": "3.11.5"
  }
 },
 "nbformat": 4,
 "nbformat_minor": 2
}
