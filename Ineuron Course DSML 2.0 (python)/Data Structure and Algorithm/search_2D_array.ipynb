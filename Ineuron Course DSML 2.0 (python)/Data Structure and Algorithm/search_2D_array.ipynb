{
 "cells": [
  {
   "cell_type": "markdown",
   "metadata": {},
   "source": [
    "### Searching In 2D array "
   ]
  },
  {
   "cell_type": "code",
   "execution_count": 6,
   "metadata": {},
   "outputs": [
    {
     "name": "stdout",
     "output_type": "stream",
     "text": [
      "True\n"
     ]
    }
   ],
   "source": [
    "## function definition \n",
    "def binary_search_2D_array(matrix, target):\n",
    "    # calculating the number of rows\n",
    "    m = len(matrix)\n",
    "\n",
    "    # calcualte the number of columns \n",
    "    n = len(matrix[0])\n",
    "\n",
    "    #creating two pointers \n",
    "    left, right = 0, m*n-1\n",
    "\n",
    "    while left<= right:\n",
    "        #mid value\n",
    "        mid = left+(right - left)//2\n",
    "        \n",
    "        #extracting the elements from the 2D array \n",
    "        # row = mid // number of columns 'n'\n",
    "        # cloumn = mid % number of column 'n'\n",
    "        mid_element = matrix[mid//n][mid%n]\n",
    "\n",
    "        #checking if mid_element is what the target is \n",
    "        if mid_element == target:\n",
    "            return True\n",
    "        elif target< mid_element:\n",
    "            # updating the right pointer\n",
    "            right = mid-1\n",
    "        else:\n",
    "            left = mid+1\n",
    "    \n",
    "    return False\n",
    "\n",
    "## Driver Code\n",
    "matrix = [[1,3,5,7],[10,11,16,20],[23,30,34,60]]\n",
    "target = 20\n",
    "\n",
    "## function calling \n",
    "\n",
    "result= binary_search_2D_array(matrix, target)\n",
    "\n",
    "print(result)"
   ]
  },
  {
   "cell_type": "code",
   "execution_count": null,
   "metadata": {},
   "outputs": [],
   "source": []
  }
 ],
 "metadata": {
  "kernelspec": {
   "display_name": "Python 3",
   "language": "python",
   "name": "python3"
  },
  "language_info": {
   "codemirror_mode": {
    "name": "ipython",
    "version": 3
   },
   "file_extension": ".py",
   "mimetype": "text/x-python",
   "name": "python",
   "nbconvert_exporter": "python",
   "pygments_lexer": "ipython3",
   "version": "3.11.5"
  }
 },
 "nbformat": 4,
 "nbformat_minor": 2
}
