{
 "cells": [
  {
   "cell_type": "code",
   "execution_count": 9,
   "metadata": {},
   "outputs": [
    {
     "name": "stdout",
     "output_type": "stream",
     "text": [
      "[7, 50, 75, 85, 90, 95, 100, 100, 110]\n"
     ]
    }
   ],
   "source": [
    "# function definition \n",
    "def insertion_sort(arr):\n",
    "    n= len(arr)\n",
    "    for i in range(1,n):\n",
    "        # storing the current element\n",
    "        key = arr[i]\n",
    "        # decrementing the pointer \n",
    "        j = i-1\n",
    "\n",
    "        while j>= 0 and key < arr[j]:\n",
    "            arr[j+1] = arr[j]\n",
    "            j = j-1\n",
    "        \n",
    "        arr[j+1] = key\n",
    "\n",
    "    return arr\n",
    "\n",
    "## Driver code \n",
    "arr = [75,90,100,95,85,50,100,110,7]\n",
    "\n",
    "# calling function \n",
    "result = insertion_sort(arr)\n",
    "\n",
    "print(result)\n"
   ]
  },
  {
   "cell_type": "code",
   "execution_count": null,
   "metadata": {},
   "outputs": [],
   "source": []
  }
 ],
 "metadata": {
  "kernelspec": {
   "display_name": "Python 3",
   "language": "python",
   "name": "python3"
  },
  "language_info": {
   "codemirror_mode": {
    "name": "ipython",
    "version": 3
   },
   "file_extension": ".py",
   "mimetype": "text/x-python",
   "name": "python",
   "nbconvert_exporter": "python",
   "pygments_lexer": "ipython3",
   "version": "3.11.5"
  }
 },
 "nbformat": 4,
 "nbformat_minor": 2
}
