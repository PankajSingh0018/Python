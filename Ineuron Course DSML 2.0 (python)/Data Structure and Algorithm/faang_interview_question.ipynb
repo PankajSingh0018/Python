{
 "cells": [
  {
   "cell_type": "code",
   "execution_count": 9,
   "metadata": {},
   "outputs": [
    {
     "name": "stdout",
     "output_type": "stream",
     "text": [
      "19\n",
      "7 2\n"
     ]
    }
   ],
   "source": [
    "# Best time to buy and sell the Stocks \n",
    "## function definition \n",
    "\n",
    "## Time complexity - O(n)\n",
    "## Space Complexity - O(1)\n",
    "def find_max_profit(prices):\n",
    "\n",
    "    #initializing min value and max value \n",
    "    min_price = float('inf') # initializing the min_price as infinity of float\n",
    "    max_profit = 0\n",
    "\n",
    "    # iterating over the numbers of the list\n",
    "    for i in range( len(prices)):\n",
    "        if prices[i] < min_price:\n",
    "            min_price = prices[i]\n",
    "            min_price_day = i\n",
    "        elif prices[i] - min_price > max_profit:\n",
    "            max_profit= prices[i] - min_price\n",
    "            max_price_day= i\n",
    "        \n",
    "    \n",
    "    return (max_profit, min_price_day, max_price_day)\n",
    "\n",
    "\n",
    "\n",
    "\n",
    "## Driver code \n",
    "\n",
    "prices = [7,1,5,3,6,4,20]\n",
    "\n",
    "# function calling \n",
    "maxProfit, min_price_day, max_price_day = find_max_profit(prices)\n",
    "\n",
    "print(maxProfit)\n",
    "\n",
    "print(max_price_day+1,min_price_day+1)"
   ]
  },
  {
   "cell_type": "code",
   "execution_count": 11,
   "metadata": {},
   "outputs": [
    {
     "name": "stdout",
     "output_type": "stream",
     "text": [
      "Given Points are non Collinear\n"
     ]
    }
   ],
   "source": [
    "# Collinear Points \n",
    "# approach 1 - slope concept , slope of two points should be equal\n",
    "def iscollinear(x1,x2,x3,y1,y2,y3):\n",
    "\n",
    "    if( y2-y1)*(x3-x2)== (y3-y2)*(x2-x1):\n",
    "        print(\"Yes Given Points are collinear\")\n",
    "    else:\n",
    "        print(\"Given Points are non Collinear\")\n",
    "\n",
    "    return None\n",
    "\n",
    "## Driver code \n",
    "x1,x2,x3,y1,y2,y3= 1,2,3,6,0,9\n",
    "\n",
    "iscollinear(x1,x2,x3,y1,y2,y3)\n"
   ]
  },
  {
   "cell_type": "code",
   "execution_count": 13,
   "metadata": {},
   "outputs": [
    {
     "name": "stdout",
     "output_type": "stream",
     "text": [
      "Given Points are non Collinear\n"
     ]
    }
   ],
   "source": [
    "#approach number two - Area of triangle =0\n",
    "#Time complexity - O(1)\n",
    "# Space Complexity -O(1)\n",
    "def iscollinear(x1,x2,x3,y1,y2,y3):\n",
    "\n",
    "    area_of_triangle = 0.5*( x1*(y2-y3)+x2*(y3-y1)+x3*(y1-y2))\n",
    "\n",
    "    if area_of_triangle == 0:\n",
    "        print(\"Yes Given Points are collinear\")\n",
    "    else:\n",
    "        print(\"Given Points are non Collinear\")\n",
    "\n",
    "    return None\n",
    "\n",
    "## Driver code \n",
    "x1,x2,x3,y1,y2,y3= 1,2,3,6,0,9\n",
    "\n",
    "iscollinear(x1,x2,x3,y1,y2,y3)"
   ]
  },
  {
   "cell_type": "code",
   "execution_count": 1,
   "metadata": {},
   "outputs": [
    {
     "name": "stdout",
     "output_type": "stream",
     "text": [
      "Counter({2: 4, 1: 3})\n",
      "2\n"
     ]
    }
   ],
   "source": [
    "## Problem Majority Element\n",
    "\n",
    "\n",
    "## Approach 2 - Hashing / Dictionary\n",
    "\n",
    "#Time complexity - O(n)\n",
    "# Space complexity - O(n)\n",
    "from collections import Counter\n",
    "# function definition\n",
    "def majority_elements(nums):\n",
    "    counts= Counter(nums)\n",
    "    print(counts)\n",
    "    return max(counts.keys(), key= counts.get)\n",
    "\n",
    "\n",
    "\n",
    "\n",
    "## driver code \n",
    "nums = [ 2,2,1,1,1,2,2 ]\n",
    "\n",
    "result = majority_elements(nums)\n",
    "\n",
    "print(result)\n"
   ]
  },
  {
   "cell_type": "code",
   "execution_count": 4,
   "metadata": {},
   "outputs": [
    {
     "name": "stdout",
     "output_type": "stream",
     "text": [
      "Majority element is  2\n"
     ]
    }
   ],
   "source": [
    "## Problem Majority Element\n",
    "# T(n)= O(n)\n",
    "\n",
    "## Approach 3 - Boyer More Voting Algorthim\n",
    "\n",
    "def findcandidate(nums):\n",
    "    count = 0\n",
    "    candidate = None\n",
    "    for num in nums:\n",
    "        if count == 0:\n",
    "            candidate = num\n",
    "        count += (1 if num== candidate else -1)\n",
    "\n",
    "    return candidate\n",
    "\n",
    "def ismajority(nums, candidate):\n",
    "    count = 0\n",
    "    for num in nums:\n",
    "        if num == candidate:\n",
    "            count += 1\n",
    "\n",
    "    return (1 if count > len(nums)//2 else 0)\n",
    "\n",
    "# function definition\n",
    "def majority_elements(nums):\n",
    "    candidate = findcandidate(nums)\n",
    "    if ismajority(nums, candidate):\n",
    "        print(\"Majority element is \", candidate)\n",
    "    else:\n",
    "        print(\"No Majority element\")\n",
    "\n",
    "\n",
    "## driver code \n",
    "nums = [ 2,2,1,1,1,2,2 ]\n",
    "\n",
    "majority_elements(nums)\n"
   ]
  },
  {
   "cell_type": "code",
   "execution_count": null,
   "metadata": {},
   "outputs": [],
   "source": []
  }
 ],
 "metadata": {
  "kernelspec": {
   "display_name": "Python 3",
   "language": "python",
   "name": "python3"
  },
  "language_info": {
   "codemirror_mode": {
    "name": "ipython",
    "version": 3
   },
   "file_extension": ".py",
   "mimetype": "text/x-python",
   "name": "python",
   "nbconvert_exporter": "python",
   "pygments_lexer": "ipython3",
   "version": "3.11.5"
  }
 },
 "nbformat": 4,
 "nbformat_minor": 2
}
