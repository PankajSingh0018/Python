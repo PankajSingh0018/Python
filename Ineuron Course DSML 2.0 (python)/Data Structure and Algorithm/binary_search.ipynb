{
 "cells": [
  {
   "cell_type": "code",
   "execution_count": 27,
   "metadata": {},
   "outputs": [
    {
     "name": "stdout",
     "output_type": "stream",
     "text": [
      "searching element is present at the index is at 5\n"
     ]
    }
   ],
   "source": [
    "## METHOD 1- USING RECUSION\n",
    "\n",
    "## Implementation of binary array\n",
    "## Function definition \n",
    "\n",
    "def binary_search(arr, i, j,x):\n",
    "\n",
    "    ## sorting the array \n",
    "    arr.sort()\n",
    "\n",
    "    ## calculating the mid value \n",
    "    \n",
    "    while i<=j:\n",
    "        mid = i+(j-i)//2\n",
    "        ##putting up the three conditions\n",
    "        if arr[mid]==x:\n",
    "            return mid\n",
    "        elif arr[mid]< x:\n",
    "            ## using recursion\n",
    "            return binary_search(arr,mid+1, j,x)\n",
    "        else:\n",
    "            return binary_search(arr,i, mid-1,x)\n",
    "    ## searching element is not present\n",
    "    return -1\n",
    "\n",
    "\n",
    "## driver code \n",
    "arr =[2,5,4,8,6,989,23,5476,56,89]\n",
    "x= 23\n",
    "i =0\n",
    "j=len(arr)-1\n",
    "\n",
    "#function call \n",
    "result = binary_search(arr,i,j,x)\n",
    "print(f\"searching element is present at the index is at {result}\")"
   ]
  },
  {
   "cell_type": "code",
   "execution_count": 8,
   "metadata": {},
   "outputs": [
    {
     "name": "stdout",
     "output_type": "stream",
     "text": [
      "searching element is present at the index is at 2\n"
     ]
    }
   ],
   "source": [
    "## METHOD 2 - Wihtout using Recursion\n",
    "\n",
    "## Implementation of binary array\n",
    "## Function definition \n",
    "\n",
    "def binary_search(arr, i, j,x):\n",
    "\n",
    "    ## sorting the array \n",
    "    arr.sort()\n",
    "\n",
    "    \n",
    "    while i<=j:\n",
    "\n",
    "        ## calculating the mid value \n",
    "        mid = i+(j-i)//2\n",
    "\n",
    "        ##putting up the three conditions\n",
    "        if arr[mid]==x:\n",
    "            return mid\n",
    "        elif arr[mid]< x:\n",
    "            ## update the i parameter\n",
    "            i = mid+1\n",
    "        else:\n",
    "            ## update the j parameter\n",
    "            j= mid-1\n",
    "    ## searching element is not present\n",
    "    return -1\n",
    "\n",
    "\n",
    "## driver code \n",
    "arr =[1,3,5,6]\n",
    "x= 5\n",
    "i =0\n",
    "j=len(arr)-1\n",
    "\n",
    "#function call \n",
    "result = binary_search(arr,i,j,x)\n",
    "print(\"searching element is present at the index is at\", result)"
   ]
  },
  {
   "cell_type": "markdown",
   "metadata": {},
   "source": [
    "## Searching Interview Problems"
   ]
  },
  {
   "cell_type": "code",
   "execution_count": 3,
   "metadata": {},
   "outputs": [
    {
     "data": {
      "text/plain": [
       "2"
      ]
     },
     "execution_count": 3,
     "metadata": {},
     "output_type": "execute_result"
    }
   ],
   "source": [
    "# using linear search \n",
    "def search( nums,target):\n",
    "    for i in range(len(nums)):\n",
    "        if nums[i]== target:\n",
    "            return i\n",
    "        \n",
    "nums =[1,3,5,6]\n",
    "target=5\n",
    "search(nums, target)\n"
   ]
  },
  {
   "cell_type": "code",
   "execution_count": 11,
   "metadata": {},
   "outputs": [],
   "source": [
    "# using binary search algorithm \n",
    "\n",
    "def sh(nums, target):\n",
    "    # generate variables for searching \n",
    "    i = 0\n",
    "    j = len(nums)-1\n",
    "\n",
    "    # iterating over the length of the array \n",
    "\n",
    "    while i<=j:\n",
    "        # finding the middle index of the array \n",
    "        mid = i+(j-i)// 2\n",
    "\n",
    "        #putting up the three conditions\n",
    "        if nums[mid]==target:\n",
    "            return mid\n",
    "        elif nums[mid]< target:\n",
    "            ## update the i parameter\n",
    "            i = mid+1\n",
    "        else:\n",
    "            ## update the j parameter\n",
    "            j= mid-1\n",
    "\n",
    "        return -1\n",
    "    "
   ]
  },
  {
   "cell_type": "code",
   "execution_count": 12,
   "metadata": {},
   "outputs": [
    {
     "data": {
      "text/plain": [
       "-1"
      ]
     },
     "execution_count": 12,
     "metadata": {},
     "output_type": "execute_result"
    }
   ],
   "source": [
    "nums =[1,3,5,6]\n",
    "target=5\n",
    "sh(nums,target)"
   ]
  },
  {
   "cell_type": "code",
   "execution_count": null,
   "metadata": {},
   "outputs": [],
   "source": []
  }
 ],
 "metadata": {
  "kernelspec": {
   "display_name": "Python 3",
   "language": "python",
   "name": "python3"
  },
  "language_info": {
   "codemirror_mode": {
    "name": "ipython",
    "version": 3
   },
   "file_extension": ".py",
   "mimetype": "text/x-python",
   "name": "python",
   "nbconvert_exporter": "python",
   "pygments_lexer": "ipython3",
   "version": "3.11.5"
  },
  "orig_nbformat": 4
 },
 "nbformat": 4,
 "nbformat_minor": 2
}
