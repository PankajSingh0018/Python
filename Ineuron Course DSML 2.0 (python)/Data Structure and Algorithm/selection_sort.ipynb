{
 "cells": [
  {
   "cell_type": "code",
   "execution_count": 11,
   "metadata": {},
   "outputs": [
    {
     "name": "stdout",
     "output_type": "stream",
     "text": [
      "[19, 27, 38, 45, 50, 79, 29]\n"
     ]
    }
   ],
   "source": [
    "## Time complexity : O(n^2)\n",
    "## function definition \n",
    "def selection_sort(arr):\n",
    "    n = len(arr)\n",
    "    # creating the for loop to iterate over the length of the array\n",
    "    for i in range(0,n):\n",
    "        min_index = i\n",
    "\n",
    "        # checking if the element at the index of min is smaller or not\n",
    "        for j in range(i+1, n-1):\n",
    "            if arr[min_index]> arr[j]:\n",
    "            # updating the min_index\n",
    "                min_index = j\n",
    "        # swapping the elements\n",
    "        arr[min_index], arr[i]= arr[i], arr[min_index]    \n",
    "\n",
    "    return arr\n",
    "\n",
    "\n",
    "# driver code \n",
    "arr = [50,38,45,79,19,27,29]\n",
    "\n",
    "# function calling \n",
    "result = selection_sort(arr)\n",
    "\n",
    "print(result)"
   ]
  },
  {
   "cell_type": "code",
   "execution_count": null,
   "metadata": {},
   "outputs": [],
   "source": []
  }
 ],
 "metadata": {
  "kernelspec": {
   "display_name": "Python 3",
   "language": "python",
   "name": "python3"
  },
  "language_info": {
   "codemirror_mode": {
    "name": "ipython",
    "version": 3
   },
   "file_extension": ".py",
   "mimetype": "text/x-python",
   "name": "python",
   "nbconvert_exporter": "python",
   "pygments_lexer": "ipython3",
   "version": "3.11.5"
  }
 },
 "nbformat": 4,
 "nbformat_minor": 2
}
