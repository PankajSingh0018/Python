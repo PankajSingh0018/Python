{
 "cells": [
  {
   "cell_type": "markdown",
   "metadata": {},
   "source": [
    "## Inheritance"
   ]
  },
  {
   "cell_type": "markdown",
   "metadata": {},
   "source": [
    "### Single Inheritance"
   ]
  },
  {
   "cell_type": "code",
   "execution_count": 1,
   "metadata": {},
   "outputs": [],
   "source": [
    "class Parent:\n",
    "    # method inside the class+\n",
    "    def func1(self):\n",
    "        print(\"Hello from the Parent Class\")\n",
    "\n",
    "class Child(Parent):\n",
    "    def func2(self):\n",
    "        print(\"Hello Child\")"
   ]
  },
  {
   "cell_type": "code",
   "execution_count": 2,
   "metadata": {},
   "outputs": [],
   "source": [
    "c= Child()"
   ]
  },
  {
   "cell_type": "code",
   "execution_count": 3,
   "metadata": {},
   "outputs": [
    {
     "name": "stdout",
     "output_type": "stream",
     "text": [
      "Hello from the Parent Class\n"
     ]
    }
   ],
   "source": [
    "# accessing the parent class method using the object of the child class\n",
    "c.func1()"
   ]
  },
  {
   "cell_type": "code",
   "execution_count": 4,
   "metadata": {},
   "outputs": [
    {
     "name": "stdout",
     "output_type": "stream",
     "text": [
      "Hello Child\n"
     ]
    }
   ],
   "source": [
    "c.func2()"
   ]
  },
  {
   "cell_type": "markdown",
   "metadata": {},
   "source": [
    "## Multiple Inheritance"
   ]
  },
  {
   "cell_type": "code",
   "execution_count": 5,
   "metadata": {},
   "outputs": [],
   "source": [
    "class Parent1:\n",
    "    def func1(self):\n",
    "        print(\"Hello this is Parent 1\")\n",
    "\n",
    "class Parent2:\n",
    "    def func2(self):\n",
    "        print(\"Hey this is Parent 2\")\n",
    "\n",
    "\n",
    "class Child(Parent1, Parent2):\n",
    "    def func3(self):\n",
    "        print(\"This is the child\")"
   ]
  },
  {
   "cell_type": "code",
   "execution_count": 6,
   "metadata": {},
   "outputs": [],
   "source": [
    "# creating the object of the child class\n",
    "ch= Child()"
   ]
  },
  {
   "cell_type": "code",
   "execution_count": 7,
   "metadata": {},
   "outputs": [
    {
     "name": "stdout",
     "output_type": "stream",
     "text": [
      "Hello this is Parent 1\n"
     ]
    }
   ],
   "source": [
    "# accessing the function of the Parent 1 class\n",
    "ch.func1()"
   ]
  },
  {
   "cell_type": "code",
   "execution_count": 8,
   "metadata": {},
   "outputs": [
    {
     "name": "stdout",
     "output_type": "stream",
     "text": [
      "Hey this is Parent 2\n"
     ]
    }
   ],
   "source": [
    "# accessing the function of the Parent 2 Class\n",
    "ch.func2()"
   ]
  },
  {
   "cell_type": "code",
   "execution_count": 9,
   "metadata": {},
   "outputs": [
    {
     "name": "stdout",
     "output_type": "stream",
     "text": [
      "This is the child\n"
     ]
    }
   ],
   "source": [
    "# accessing the function from  the Child class\n",
    "ch.func3()"
   ]
  },
  {
   "cell_type": "code",
   "execution_count": 10,
   "metadata": {},
   "outputs": [],
   "source": [
    "# new example \n",
    "#Parent class 1\n",
    "class Batch_number:\n",
    "    batch_number = \"\"\n",
    "    # parameterized constructor for initilaizing the methods and the attributes\n",
    "    def __init__(self,a,b,c): # three attributes has been passed to the constructor\n",
    "        self.a = a\n",
    "        self.b = b \n",
    "        self.c = c\n",
    "    \n",
    "    def batch(self):\n",
    "        print(self.batch_number)\n",
    "\n",
    "# Parent class 2\n",
    "class Course_name:\n",
    "    course_name =\"\"\n",
    "    # parameterized constructor for initilaizing the methods and the attributes\n",
    "    def __init__(self):\n",
    "        print(self.course_name)\n",
    "\n",
    "# child Class \n",
    "class Student(Batch_number,Course_name): # inheriting the attributes from both the Parent class\n",
    "    def show_details(self):\n",
    "\n",
    "        print(\"Batch:\", self.batch_number, \"\\nCourse:\", self.course_name)"
   ]
  },
  {
   "cell_type": "code",
   "execution_count": 11,
   "metadata": {},
   "outputs": [
    {
     "ename": "TypeError",
     "evalue": "Batch_number.__init__() missing 3 required positional arguments: 'a', 'b', and 'c'",
     "output_type": "error",
     "traceback": [
      "\u001b[1;31m---------------------------------------------------------------------------\u001b[0m",
      "\u001b[1;31mTypeError\u001b[0m                                 Traceback (most recent call last)",
      "Cell \u001b[1;32mIn[11], line 1\u001b[0m\n\u001b[1;32m----> 1\u001b[0m St\u001b[38;5;241m=\u001b[39m \u001b[43mStudent\u001b[49m\u001b[43m(\u001b[49m\u001b[43m)\u001b[49m \u001b[38;5;66;03m# initializing the object of the child class\u001b[39;00m\n",
      "\u001b[1;31mTypeError\u001b[0m: Batch_number.__init__() missing 3 required positional arguments: 'a', 'b', and 'c'"
     ]
    }
   ],
   "source": [
    "St= Student() # initializing the object of the child class"
   ]
  },
  {
   "cell_type": "code",
   "execution_count": 18,
   "metadata": {},
   "outputs": [],
   "source": [
    "St= Student(4,5,6) # correct way of initializing the class"
   ]
  },
  {
   "cell_type": "code",
   "execution_count": 13,
   "metadata": {},
   "outputs": [],
   "source": [
    "# setting the batch number using the Child class object\n",
    "St.batch_number=\"2\""
   ]
  },
  {
   "cell_type": "code",
   "execution_count": 14,
   "metadata": {},
   "outputs": [],
   "source": [
    "St.course_name=\"DataScience\""
   ]
  },
  {
   "cell_type": "code",
   "execution_count": 15,
   "metadata": {},
   "outputs": [
    {
     "name": "stdout",
     "output_type": "stream",
     "text": [
      "2\n"
     ]
    }
   ],
   "source": [
    "St.batch()"
   ]
  },
  {
   "cell_type": "code",
   "execution_count": 16,
   "metadata": {},
   "outputs": [
    {
     "name": "stdout",
     "output_type": "stream",
     "text": [
      "Batch: 2 \n",
      "Course: DataScience\n"
     ]
    }
   ],
   "source": [
    "St.show_details()"
   ]
  },
  {
   "cell_type": "code",
   "execution_count": 24,
   "metadata": {},
   "outputs": [],
   "source": [
    "class Person:\n",
    "    # non-parameterized constructor for initializing the properties and the attributes\n",
    "    def __init__(self):\n",
    "        self.person_name = \"Pankaj\"\n",
    "        self.age = 27\n",
    "\n",
    "    def person_details(self):\n",
    "        print(\"Person Name:\", self.person_name)\n",
    "        print(\"Person Age:\", self.age)\n",
    "\n",
    "class Company:\n",
    "        # non-parameterized constructor for initializing the properties and the attributes\n",
    "    def __init__(self):\n",
    "        self.company_name = \"Velocis\"\n",
    "        self.company_address = \"Noida\"\n",
    "\n",
    "    def company_details(self):\n",
    "        print(\"Company Name:\", self.company_name)\n",
    "        print(\"Company Address:\", self.company_address)\n",
    "\n",
    "\n",
    "class Employee(Person, Company):\n",
    "    # non-parameterized constructor for initializing the properties and the attributes\n",
    "\n",
    "    def __init__(self):\n",
    "        # calling the constructor of the parent class to make the attributes accessible by the child class\n",
    "        Person.__init__(self)\n",
    "        Company.__init__(self)\n",
    "        \n",
    "    def show_employee_details(self):\n",
    "        print(f\"The Person Name is:{self.person_name} with age as {self.age} years\")\n",
    "\n",
    "        print(f\"The Person works for{self.company_name} located at {self.company_address}\")\n"
   ]
  },
  {
   "cell_type": "code",
   "execution_count": 20,
   "metadata": {},
   "outputs": [],
   "source": [
    "comp= Company()"
   ]
  },
  {
   "cell_type": "code",
   "execution_count": 21,
   "metadata": {},
   "outputs": [
    {
     "name": "stdout",
     "output_type": "stream",
     "text": [
      "Company Name: Velocis\n",
      "Company Address: Noida\n"
     ]
    }
   ],
   "source": [
    "comp.company_details()"
   ]
  },
  {
   "cell_type": "code",
   "execution_count": 25,
   "metadata": {},
   "outputs": [],
   "source": [
    "emp =Employee()"
   ]
  },
  {
   "cell_type": "code",
   "execution_count": 26,
   "metadata": {},
   "outputs": [
    {
     "name": "stdout",
     "output_type": "stream",
     "text": [
      "The Person Name is:Pankaj with age as 27 years\n",
      "The Person works forVelocis located at Noida\n"
     ]
    }
   ],
   "source": [
    "emp.show_employee_details()"
   ]
  },
  {
   "cell_type": "code",
   "execution_count": 27,
   "metadata": {},
   "outputs": [],
   "source": [
    "class Person:\n",
    "    \n",
    "    def __init__(self):\n",
    "        self.person_name = \"Pankaj\"\n",
    "        self.age = 27\n",
    "\n",
    "    def person_details(self):\n",
    "        print(\"Person Name:\", self.person_name)\n",
    "        print(\"Person Age:\", self.age)\n",
    "\n",
    "class Company:\n",
    "    def __init__(self):\n",
    "        self.company_name = \"Velocis\"\n",
    "        self.company_address = \"Noida\"\n",
    "\n",
    "    def company_details(self):\n",
    "        print(\"Company Name:\", self.company_name)\n",
    "        print(\"Company Address:\", self.company_address)\n",
    "\n",
    "\n",
    "class Employee(Person, Company):\n",
    "    def __init__(self):\n",
    "        # calling the constructor of the parent class to make the attributes accessible by the child class\n",
    "        # Person.__init__(self)\n",
    "        # Company.__init__(self)\n",
    "\n",
    "        super().__init__(self.person_name, self.age, self.company_name, self.company_address)\n",
    "\n",
    "    def show_employee_details(self):\n",
    "        print(f\"The Person Name is:{self.person_name} with age as {self.age} years\")\n",
    "\n",
    "        print(f\"The Person works for{self.company_name} located at {self.company_address}\")\n"
   ]
  },
  {
   "cell_type": "code",
   "execution_count": 28,
   "metadata": {},
   "outputs": [],
   "source": [
    "comp= Company()"
   ]
  },
  {
   "cell_type": "code",
   "execution_count": 29,
   "metadata": {},
   "outputs": [
    {
     "name": "stdout",
     "output_type": "stream",
     "text": [
      "Company Name: Velocis\n",
      "Company Address: Noida\n"
     ]
    }
   ],
   "source": [
    "comp.company_details()"
   ]
  },
  {
   "cell_type": "code",
   "execution_count": 30,
   "metadata": {},
   "outputs": [
    {
     "ename": "AttributeError",
     "evalue": "'Employee' object has no attribute 'person_name'",
     "output_type": "error",
     "traceback": [
      "\u001b[1;31m---------------------------------------------------------------------------\u001b[0m",
      "\u001b[1;31mAttributeError\u001b[0m                            Traceback (most recent call last)",
      "Cell \u001b[1;32mIn[30], line 1\u001b[0m\n\u001b[1;32m----> 1\u001b[0m emp \u001b[38;5;241m=\u001b[39m\u001b[43mEmployee\u001b[49m\u001b[43m(\u001b[49m\u001b[43m)\u001b[49m\n",
      "Cell \u001b[1;32mIn[27], line 27\u001b[0m, in \u001b[0;36mEmployee.__init__\u001b[1;34m(self)\u001b[0m\n\u001b[0;32m     22\u001b[0m \u001b[38;5;28;01mdef\u001b[39;00m \u001b[38;5;21m__init__\u001b[39m(\u001b[38;5;28mself\u001b[39m):\n\u001b[0;32m     23\u001b[0m     \u001b[38;5;66;03m# calling the constructor of the parent class to make the attributes accessible by the child class\u001b[39;00m\n\u001b[0;32m     24\u001b[0m     \u001b[38;5;66;03m# Person.__init__(self)\u001b[39;00m\n\u001b[0;32m     25\u001b[0m     \u001b[38;5;66;03m# Company.__init__(self)\u001b[39;00m\n\u001b[1;32m---> 27\u001b[0m     \u001b[38;5;28msuper\u001b[39m()\u001b[38;5;241m.\u001b[39m\u001b[38;5;21m__init__\u001b[39m(\u001b[38;5;28;43mself\u001b[39;49m\u001b[38;5;241;43m.\u001b[39;49m\u001b[43mperson_name\u001b[49m, \u001b[38;5;28mself\u001b[39m\u001b[38;5;241m.\u001b[39mage, \u001b[38;5;28mself\u001b[39m\u001b[38;5;241m.\u001b[39mcompany_name, \u001b[38;5;28mself\u001b[39m\u001b[38;5;241m.\u001b[39mcompany_address)\n",
      "\u001b[1;31mAttributeError\u001b[0m: 'Employee' object has no attribute 'person_name'"
     ]
    }
   ],
   "source": [
    "emp =Employee()"
   ]
  },
  {
   "cell_type": "markdown",
   "metadata": {},
   "source": [
    "The super() function in Python is used to call methods from a parent class from within a method of a child class. This is particularly useful in object-oriented programming for several reasons:\n",
    "\n",
    "- Access Parent Class Methods: It allows you to access methods in a parent class that have been overridden in a child class. This is useful if you want to extend or modify the behavior of a parent class method rather than completely replace it.\n",
    "\n",
    "- Avoid Explicit Parent Class References: By using super(), you can avoid explicitly naming the parent class. This makes the code more maintainable and flexible, reducing the impact of future changes to the class inheritance hierarchy.\n",
    "\n",
    "- Support for Multiple Inheritance: In the context of multiple inheritance, super() can be used to ensure that the correct next parent class method is called according to the method resolution order (MRO). MRO is the order in which Python looks for methods in a hierarchy of classes. It ensures that every class in the inheritance hierarchy is only visited once.\n",
    "\n",
    "\n",
    "How super() is Used ? \n",
    "- super() can be used in several ways, depending on what you need to achieve:\n",
    "\n",
    "- Calling Parent Class Constructor: Commonly used in the constructor (__init__) method to ensure that the parent class is correctly initialized before doing more specific initializations in the child class.\n",
    "\n",
    "- Calling Overridden Methods: If a child class overrides a method from a parent class but still needs to run the parent's method code, super() is used.\n",
    "\n",
    "\n",
    "Where to Use super()\n",
    "\n",
    "- Use super() whenever you need to refer to a parent class without naming it explicitly, especially in constructors and overridden methods. This applies in single and multiple inheritance scenarios. In the latter, super() is particularly important because it correctly handles calling methods across a potentially complex class hierarchy.\n"
   ]
  },
  {
   "cell_type": "markdown",
   "metadata": {},
   "source": [
    "## Multi-level Inheritance"
   ]
  },
  {
   "cell_type": "code",
   "execution_count": null,
   "metadata": {},
   "outputs": [],
   "source": [
    "class Test1:\n",
    "    def a(self):\n",
    "        print(\"We are inside Test 1 class\")\n",
    "\n",
    "\n",
    "class Test2(Test1):\n",
    "    def b(self):\n",
    "        print(\"We are currently in Test 2 class\")\n",
    "\n",
    "class Test3(Test2):\n",
    "\n",
    "    def c(self):\n",
    "        print(\"We are in the class Test3\")"
   ]
  },
  {
   "cell_type": "code",
   "execution_count": null,
   "metadata": {},
   "outputs": [],
   "source": [
    "t= Test3()"
   ]
  },
  {
   "cell_type": "code",
   "execution_count": null,
   "metadata": {},
   "outputs": [],
   "source": [
    "# accessing the Parent Class attritbutes and methods using the Object of child Class\n",
    "t.a()"
   ]
  },
  {
   "cell_type": "code",
   "execution_count": null,
   "metadata": {},
   "outputs": [],
   "source": [
    "class Vehicle:\n",
    "    def info(self):\n",
    "        print(\"Inside the Vehicle Class\")\n",
    "\n",
    "class Car(Vehicle):\n",
    "    def car_info(self):\n",
    "        print(\"Inside the car Class\")\n",
    "\n",
    "class Sports_Car(Car):\n",
    "    def sports_car(self):\n",
    "        print(\"Inside the Sport Car Class\")"
   ]
  },
  {
   "cell_type": "code",
   "execution_count": null,
   "metadata": {},
   "outputs": [],
   "source": [
    "spc = Sports_Car()"
   ]
  },
  {
   "cell_type": "code",
   "execution_count": null,
   "metadata": {},
   "outputs": [],
   "source": [
    "spc.info()"
   ]
  },
  {
   "cell_type": "code",
   "execution_count": null,
   "metadata": {},
   "outputs": [],
   "source": [
    "class Phones:\n",
    "    def __init__(self, brand, model, price):\n",
    "        self.brand = brand\n",
    "        self.model = model\n",
    "        self.price= price\n",
    "    \n",
    "    def specifications(self):\n",
    "        return(\"Brand\", self.brand, \"Price\", self.price)\n",
    "    \n",
    "    def Type_of_phone(self):\n",
    "\n",
    "        if self.price > 25000:\n",
    "            return(\"This is a Budget phone\")\n",
    "        \n",
    "        else: \n",
    "            return(\"This is a mid range Phone\")\n",
    "        \n",
    "class Smart_phone(Phones):\n",
    "    def __init__(self, brand, model, price, ram,storage):\n",
    "        super().__init__(brand, model, price) # initializing the parameters from the preceding parent class\n",
    "\n",
    "        self.ram= ram\n",
    "        self.storage = storage\n",
    "\n",
    "\n",
    "class Flagship_phone(Smart_phone):\n",
    "\n",
    "    def __init__(self, brand, model, price, ram,storage,front_camera, back_camera,display):\n",
    "        super().__init__(brand, model, price, ram, storage)\n",
    "        self.front_camera = front_camera\n",
    "        self.back_camera = back_camera\n",
    "        self.display = display"
   ]
  },
  {
   "cell_type": "code",
   "execution_count": null,
   "metadata": {},
   "outputs": [],
   "source": [
    "f1= Flagship_phone()"
   ]
  },
  {
   "cell_type": "code",
   "execution_count": null,
   "metadata": {},
   "outputs": [],
   "source": [
    "f2= Flagship_phone(\"Samsung\", \"S3\",60000,24,256,\"yes\", \"yes\",\"yes\")"
   ]
  },
  {
   "cell_type": "code",
   "execution_count": null,
   "metadata": {},
   "outputs": [],
   "source": [
    "f2.Type_of_phone()"
   ]
  },
  {
   "cell_type": "code",
   "execution_count": null,
   "metadata": {},
   "outputs": [],
   "source": [
    "f2.specifications()"
   ]
  },
  {
   "cell_type": "code",
   "execution_count": null,
   "metadata": {},
   "outputs": [],
   "source": [
    "f2.front_camera"
   ]
  },
  {
   "cell_type": "code",
   "execution_count": null,
   "metadata": {},
   "outputs": [],
   "source": [
    "f2.price"
   ]
  },
  {
   "cell_type": "code",
   "execution_count": null,
   "metadata": {},
   "outputs": [],
   "source": [
    "f2.specifications()"
   ]
  },
  {
   "cell_type": "markdown",
   "metadata": {},
   "source": [
    "## Heirarichal Inheritance"
   ]
  },
  {
   "cell_type": "code",
   "execution_count": null,
   "metadata": {},
   "outputs": [],
   "source": [
    "class Vehicle:\n",
    "    def info(self):\n",
    "        print(\"This is the Parent Class Vehicle\")\n",
    "\n",
    "class Car(Vehicle):\n",
    "    def car_info(self,name):\n",
    "        print(\"Car Name\", name)\n",
    "\n",
    "\n",
    "class Truck(Vehicle):\n",
    "    def truck_info(self, name):\n",
    "        print(\"Truck Name\",name)\n",
    "\n",
    "class Bus(Vehicle):\n",
    "    def bus_info(self, name):\n",
    "\n",
    "        print(\"Bus Name\",name)"
   ]
  },
  {
   "cell_type": "code",
   "execution_count": null,
   "metadata": {},
   "outputs": [],
   "source": [
    "c1= Car()"
   ]
  },
  {
   "cell_type": "code",
   "execution_count": null,
   "metadata": {},
   "outputs": [],
   "source": [
    "c1.info()"
   ]
  },
  {
   "cell_type": "code",
   "execution_count": null,
   "metadata": {},
   "outputs": [],
   "source": [
    "c1.car_info(\"abc\")"
   ]
  },
  {
   "cell_type": "code",
   "execution_count": null,
   "metadata": {},
   "outputs": [],
   "source": [
    "B1= Bus()\n",
    "B1.info()"
   ]
  },
  {
   "cell_type": "code",
   "execution_count": null,
   "metadata": {},
   "outputs": [],
   "source": [
    "t1= Truck()\n"
   ]
  },
  {
   "cell_type": "code",
   "execution_count": null,
   "metadata": {},
   "outputs": [],
   "source": [
    "t1.truck_info(\"Tata\")"
   ]
  },
  {
   "cell_type": "markdown",
   "metadata": {},
   "source": [
    "## Super \n",
    "\n",
    "1 - Super() is used when we need to build the classes that extends the functionality of the previously build classes.\n",
    "\n",
    "2 - Super function in python is used to access the methods of immediate parent class."
   ]
  },
  {
   "cell_type": "code",
   "execution_count": null,
   "metadata": {},
   "outputs": [],
   "source": [
    "class Company:\n",
    "    def company_name(self):\n",
    "        return \"ineuron\"\n",
    "    \n",
    "class Employee(Company):\n",
    "\n",
    "    def info(self):\n",
    "        comapny_name = super().company_name()\n",
    "        print(f\"I work at {comapny_name} \")"
   ]
  },
  {
   "cell_type": "code",
   "execution_count": null,
   "metadata": {},
   "outputs": [],
   "source": [
    "emp = Employee()"
   ]
  },
  {
   "cell_type": "code",
   "execution_count": null,
   "metadata": {},
   "outputs": [],
   "source": [
    "emp.company_name()"
   ]
  },
  {
   "cell_type": "code",
   "execution_count": null,
   "metadata": {},
   "outputs": [],
   "source": [
    "emp.info()"
   ]
  },
  {
   "cell_type": "markdown",
   "metadata": {},
   "source": [
    "- When we initialize a child class in python we can call **super()._ _ init _ _()** method , this initializes the parent class object into child class"
   ]
  },
  {
   "cell_type": "code",
   "execution_count": null,
   "metadata": {},
   "outputs": [],
   "source": [
    "class Parent:\n",
    "    def __init__(self,v1,v2):\n",
    "        self.v1= v1\n",
    "        self.v2= v2\n",
    "\n",
    "class Child(Parent):\n",
    "    def __init__(self,v1,v2,v3):\n",
    "        super().__init__(v1,v2)# initializing the parent class object into the child class\n",
    "        self.v3= v3\n"
   ]
  },
  {
   "cell_type": "code",
   "execution_count": null,
   "metadata": {},
   "outputs": [],
   "source": [
    "c1= Child(1,2,3)"
   ]
  },
  {
   "cell_type": "code",
   "execution_count": null,
   "metadata": {},
   "outputs": [],
   "source": [
    "c1.v1"
   ]
  },
  {
   "cell_type": "code",
   "execution_count": 35,
   "metadata": {},
   "outputs": [],
   "source": [
    "class Parent:\n",
    "    def __init__(self):\n",
    "        print(\"THis is the parent class\")\n",
    "\n",
    "class Parent1:\n",
    "    def __init__(self):\n",
    "        print(\"THis is the parent1 class\")\n",
    "\n",
    "class Parent2:\n",
    "    \n",
    "    def __init__(self):\n",
    "        print(\"THis is the parent2 class\")\n",
    "\n",
    "\n",
    "\n",
    "class Child(Parent1,Parent2,Parent):\n",
    "    def __init__(self):\n",
    "        super().__init__()\n"
   ]
  },
  {
   "cell_type": "code",
   "execution_count": 36,
   "metadata": {},
   "outputs": [
    {
     "name": "stdout",
     "output_type": "stream",
     "text": [
      "THis is the parent1 class\n"
     ]
    }
   ],
   "source": [
    "ch= Child()\n",
    "# Here it should print -> This is the parent1 class"
   ]
  },
  {
   "cell_type": "code",
   "execution_count": 37,
   "metadata": {},
   "outputs": [],
   "source": [
    "class Parent:\n",
    "    def __init__(self):\n",
    "        print(\"THis is the parent class\")\n",
    "\n",
    "class Parent1:\n",
    "    def __init__(self):\n",
    "        print(\"THis is the parent1 class\")\n",
    "    \n",
    "    def func(self):\n",
    "        print(\"This is the function of Parent1 class\")\n",
    "\n",
    "class Parent2:\n",
    "    \n",
    "    def __init__(self):\n",
    "        print(\"THis is the parent2 class\")\n",
    "    \n",
    "\n",
    "class Child(Parent,Parent1,Parent2):\n",
    "    def __init__(self):\n",
    "        super().__init__()"
   ]
  },
  {
   "cell_type": "code",
   "execution_count": 38,
   "metadata": {},
   "outputs": [
    {
     "name": "stdout",
     "output_type": "stream",
     "text": [
      "THis is the parent class\n"
     ]
    }
   ],
   "source": [
    "ch1= Child()"
   ]
  },
  {
   "cell_type": "code",
   "execution_count": 39,
   "metadata": {},
   "outputs": [
    {
     "name": "stdout",
     "output_type": "stream",
     "text": [
      "This is the function of Parent1 class\n"
     ]
    }
   ],
   "source": [
    "ch1.func()"
   ]
  },
  {
   "cell_type": "code",
   "execution_count": null,
   "metadata": {},
   "outputs": [],
   "source": []
  }
 ],
 "metadata": {
  "kernelspec": {
   "display_name": "Python 3",
   "language": "python",
   "name": "python3"
  },
  "language_info": {
   "codemirror_mode": {
    "name": "ipython",
    "version": 3
   },
   "file_extension": ".py",
   "mimetype": "text/x-python",
   "name": "python",
   "nbconvert_exporter": "python",
   "pygments_lexer": "ipython3",
   "version": "3.11.8"
  }
 },
 "nbformat": 4,
 "nbformat_minor": 2
}
