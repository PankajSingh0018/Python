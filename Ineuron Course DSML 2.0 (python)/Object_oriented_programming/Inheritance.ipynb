{
 "cells": [
  {
   "cell_type": "markdown",
   "metadata": {},
   "source": [
    "## Inheritance"
   ]
  },
  {
   "cell_type": "markdown",
   "metadata": {},
   "source": [
    "### Single Inheritance"
   ]
  },
  {
   "cell_type": "code",
   "execution_count": null,
   "metadata": {},
   "outputs": [],
   "source": [
    "class Parent:\n",
    "\n",
    "    def func1(self):\n",
    "        print(\"Hello from the Parent Class\")\n",
    "\n",
    "class Child(Parent):\n",
    "    def func2(self):\n",
    "        print(\"Hello Child\")"
   ]
  },
  {
   "cell_type": "code",
   "execution_count": null,
   "metadata": {},
   "outputs": [],
   "source": [
    "c= Child()"
   ]
  },
  {
   "cell_type": "code",
   "execution_count": null,
   "metadata": {},
   "outputs": [],
   "source": [
    "# accessing the parent class method using the object of the child class\n",
    "c.func1()"
   ]
  },
  {
   "cell_type": "code",
   "execution_count": null,
   "metadata": {},
   "outputs": [],
   "source": [
    "c.func2()"
   ]
  },
  {
   "cell_type": "markdown",
   "metadata": {},
   "source": [
    "## Multiple Inheritance"
   ]
  },
  {
   "cell_type": "code",
   "execution_count": null,
   "metadata": {},
   "outputs": [],
   "source": [
    "class Parent1:\n",
    "    def func1(self):\n",
    "        print(\"Hello this is Parent 1\")\n",
    "\n",
    "class Parent2:\n",
    "    def func2(self):\n",
    "        print(\"Hey this is Parent 2\")\n",
    "\n",
    "\n",
    "class Child(Parent1, Parent2):\n",
    "    def func3(self):\n",
    "        print(\"This is the child\")"
   ]
  },
  {
   "cell_type": "code",
   "execution_count": null,
   "metadata": {},
   "outputs": [],
   "source": [
    "# creating the object of the child class\n",
    "ch= Child()"
   ]
  },
  {
   "cell_type": "code",
   "execution_count": null,
   "metadata": {},
   "outputs": [],
   "source": [
    "# accessing the function of the Parent 1 class\n",
    "ch.func1()"
   ]
  },
  {
   "cell_type": "code",
   "execution_count": null,
   "metadata": {},
   "outputs": [],
   "source": [
    "# accessing the function of the Parent 2 Class\n",
    "ch.func2()"
   ]
  },
  {
   "cell_type": "code",
   "execution_count": null,
   "metadata": {},
   "outputs": [],
   "source": [
    "# accessing the function from  the Child class\n",
    "ch.func3()"
   ]
  },
  {
   "cell_type": "code",
   "execution_count": null,
   "metadata": {},
   "outputs": [],
   "source": [
    "# new example \n",
    "#Parent class 1\n",
    "class Batch_number:\n",
    "    batch_number = \"\"\n",
    "    def __init__(self,a,b,c):\n",
    "        self.a = a\n",
    "        self.b = b \n",
    "        self.c = c\n",
    "    \n",
    "    def batch(self):\n",
    "        print(self.batch_number)\n",
    "\n",
    "# Parent class 2\n",
    "class Course_name:\n",
    "    course_name =\"\"\n",
    "\n",
    "    def __init__(self):\n",
    "        print(self.course_name)\n",
    "\n",
    "# child Class \n",
    "\n",
    "class Student(Batch_number,Course_name): # inheriting the attributes from both the Parent class\n",
    "    def show_details(self):\n",
    "\n",
    "        print(\"Batch:\", self.batch_number, \"\\nCourse:\", self.course_name)"
   ]
  },
  {
   "cell_type": "code",
   "execution_count": null,
   "metadata": {},
   "outputs": [],
   "source": [
    "St= Student()"
   ]
  },
  {
   "cell_type": "code",
   "execution_count": null,
   "metadata": {},
   "outputs": [],
   "source": [
    "St= Student(4,5,6)"
   ]
  },
  {
   "cell_type": "code",
   "execution_count": null,
   "metadata": {},
   "outputs": [],
   "source": [
    "# setting the batch number using the Child class object\n",
    "St.batch_number=\"2\""
   ]
  },
  {
   "cell_type": "code",
   "execution_count": null,
   "metadata": {},
   "outputs": [],
   "source": [
    "St.course_name=\"DataScience\""
   ]
  },
  {
   "cell_type": "code",
   "execution_count": null,
   "metadata": {},
   "outputs": [],
   "source": [
    "St.batch()"
   ]
  },
  {
   "cell_type": "code",
   "execution_count": null,
   "metadata": {},
   "outputs": [],
   "source": [
    "St.show_details()"
   ]
  },
  {
   "cell_type": "code",
   "execution_count": null,
   "metadata": {},
   "outputs": [],
   "source": [
    "class Person:\n",
    "    \n",
    "    def __init__(self):\n",
    "        self.person_name = \"Pankaj\"\n",
    "        self.age = 27\n",
    "\n",
    "    def person_details(self):\n",
    "        print(\"Person Name:\", self.person_name)\n",
    "        print(\"Person Age:\", self.age)\n",
    "\n",
    "class Company:\n",
    "    def __init__(self):\n",
    "        self.company_name = \"Velocis\"\n",
    "        self.company_address = \"Noida\"\n",
    "\n",
    "    def company_details(self):\n",
    "        print(\"Company Name:\", self.company_name)\n",
    "        print(\"Company Address:\", self.company_address)\n",
    "\n",
    "\n",
    "class Employee(Person, Company):\n",
    "    def __init__(self):\n",
    "        # calling the constructor of the parent class to make the attributes accessible by the child class\n",
    "        Person.__init__(self)\n",
    "        Company.__init__(self)\n",
    "    def show_employee_details(self):\n",
    "        print(f\"The Person Name is:{self.person_name} with age as {self.age} years\")\n",
    "\n",
    "        print(f\"The Person works for{self.company_name} located at {self.company_address}\")\n"
   ]
  },
  {
   "cell_type": "code",
   "execution_count": null,
   "metadata": {},
   "outputs": [],
   "source": [
    "comp= Company()"
   ]
  },
  {
   "cell_type": "code",
   "execution_count": null,
   "metadata": {},
   "outputs": [],
   "source": [
    "comp.company_details()"
   ]
  },
  {
   "cell_type": "code",
   "execution_count": null,
   "metadata": {},
   "outputs": [],
   "source": [
    "emp =Employee()"
   ]
  },
  {
   "cell_type": "code",
   "execution_count": null,
   "metadata": {},
   "outputs": [],
   "source": [
    "emp.show_employee_details()"
   ]
  },
  {
   "cell_type": "code",
   "execution_count": null,
   "metadata": {},
   "outputs": [],
   "source": [
    "class Person:\n",
    "    \n",
    "    def __init__(self):\n",
    "        self.person_name = \"Pankaj\"\n",
    "        self.age = 27\n",
    "\n",
    "    def person_details(self):\n",
    "        print(\"Person Name:\", self.person_name)\n",
    "        print(\"Person Age:\", self.age)\n",
    "\n",
    "class Company:\n",
    "    def __init__(self):\n",
    "        self.company_name = \"Velocis\"\n",
    "        self.company_address = \"Noida\"\n",
    "\n",
    "    def company_details(self):\n",
    "        print(\"Company Name:\", self.company_name)\n",
    "        print(\"Company Address:\", self.company_address)\n",
    "\n",
    "\n",
    "class Employee(Person, Company):\n",
    "    def __init__(self):\n",
    "        # calling the constructor of the parent class to make the attributes accessible by the child class\n",
    "        # Person.__init__(self)\n",
    "        # Company.__init__(self)\n",
    "\n",
    "        super().__init__(self.person_name, self.age, self.company_name, self.company_address)\n",
    "\n",
    "    def show_employee_details(self):\n",
    "        print(f\"The Person Name is:{self.person_name} with age as {self.age} years\")\n",
    "\n",
    "        print(f\"The Person works for{self.company_name} located at {self.company_address}\")\n"
   ]
  },
  {
   "cell_type": "code",
   "execution_count": null,
   "metadata": {},
   "outputs": [],
   "source": [
    "comp= Company()"
   ]
  },
  {
   "cell_type": "code",
   "execution_count": null,
   "metadata": {},
   "outputs": [],
   "source": [
    "comp.company_details()"
   ]
  },
  {
   "cell_type": "code",
   "execution_count": null,
   "metadata": {},
   "outputs": [],
   "source": [
    "emp =Employee()"
   ]
  },
  {
   "cell_type": "markdown",
   "metadata": {},
   "source": [
    "The super() function in Python is used to call methods from a parent class from within a method of a child class. This is particularly useful in object-oriented programming for several reasons:\n",
    "\n",
    "- Access Parent Class Methods: It allows you to access methods in a parent class that have been overridden in a child class. This is useful if you want to extend or modify the behavior of a parent class method rather than completely replace it.\n",
    "\n",
    "- Avoid Explicit Parent Class References: By using super(), you can avoid explicitly naming the parent class. This makes the code more maintainable and flexible, reducing the impact of future changes to the class inheritance hierarchy.\n",
    "\n",
    "- Support for Multiple Inheritance: In the context of multiple inheritance, super() can be used to ensure that the correct next parent class method is called according to the method resolution order (MRO). MRO is the order in which Python looks for methods in a hierarchy of classes. It ensures that every class in the inheritance hierarchy is only visited once.\n",
    "\n",
    "\n",
    "How super() is Used ? \n",
    "- super() can be used in several ways, depending on what you need to achieve:\n",
    "\n",
    "- Calling Parent Class Constructor: Commonly used in the constructor (__init__) method to ensure that the parent class is correctly initialized before doing more specific initializations in the child class.\n",
    "\n",
    "- Calling Overridden Methods: If a child class overrides a method from a parent class but still needs to run the parent's method code, super() is used.\n",
    "\n",
    "\n",
    "Where to Use super()\n",
    "\n",
    "- Use super() whenever you need to refer to a parent class without naming it explicitly, especially in constructors and overridden methods. This applies in single and multiple inheritance scenarios. In the latter, super() is particularly important because it correctly handles calling methods across a potentially complex class hierarchy.\n"
   ]
  },
  {
   "cell_type": "markdown",
   "metadata": {},
   "source": [
    "## Multi-level Inheritance"
   ]
  },
  {
   "cell_type": "code",
   "execution_count": null,
   "metadata": {},
   "outputs": [],
   "source": [
    "class Test1:\n",
    "    def a(self):\n",
    "        print(\"We are inside Test 1 class\")\n",
    "\n",
    "\n",
    "class Test2(Test1):\n",
    "    def b(self):\n",
    "        print(\"We are currently in Test 2 class\")\n",
    "\n",
    "class Test3(Test2):\n",
    "\n",
    "    def c(self):\n",
    "        print(\"We are in the class Test3\")"
   ]
  },
  {
   "cell_type": "code",
   "execution_count": null,
   "metadata": {},
   "outputs": [],
   "source": [
    "t= Test3()"
   ]
  },
  {
   "cell_type": "code",
   "execution_count": null,
   "metadata": {},
   "outputs": [],
   "source": [
    "# accessing the Parent Class attritbutes and methods using the Object of child Class\n",
    "t.a()"
   ]
  },
  {
   "cell_type": "code",
   "execution_count": null,
   "metadata": {},
   "outputs": [],
   "source": [
    "class Vehicle:\n",
    "    def info(self):\n",
    "        print(\"Inside the Vehicle Class\")\n",
    "\n",
    "class Car(Vehicle):\n",
    "    def car_info(self):\n",
    "        print(\"Inside the car Class\")\n",
    "\n",
    "class Sports_Car(Car):\n",
    "    def sports_car(self):\n",
    "        print(\"Inside the Sport Car Class\")"
   ]
  },
  {
   "cell_type": "code",
   "execution_count": null,
   "metadata": {},
   "outputs": [],
   "source": [
    "spc = Sports_Car()"
   ]
  },
  {
   "cell_type": "code",
   "execution_count": null,
   "metadata": {},
   "outputs": [],
   "source": [
    "spc.info()"
   ]
  },
  {
   "cell_type": "code",
   "execution_count": null,
   "metadata": {},
   "outputs": [],
   "source": [
    "class Phones:\n",
    "    def __init__(self, brand, model, price):\n",
    "        self.brand = brand\n",
    "        self.model = model\n",
    "        self.price= price\n",
    "    \n",
    "    def specifications(self):\n",
    "        return(\"Brand\", self.brand, \"Price\", self.price)\n",
    "    \n",
    "    def Type_of_phone(self):\n",
    "\n",
    "        if self.price > 25000:\n",
    "            return(\"This is a Budget phone\")\n",
    "        \n",
    "        else: \n",
    "            return(\"This is a mid range Phone\")\n",
    "        \n",
    "class Smart_phone(Phones):\n",
    "    def __init__(self, brand, model, price, ram,storage):\n",
    "        super().__init__(brand, model, price) # initializing the parameters from the preceding parent class\n",
    "\n",
    "        self.ram= ram\n",
    "        self.storage = storage\n",
    "\n",
    "\n",
    "class Flagship_phone(Smart_phone):\n",
    "\n",
    "    def __init__(self, brand, model, price, ram,storage,front_camera, back_camera,display):\n",
    "        super().__init__(brand, model, price, ram, storage)\n",
    "        self.front_camera = front_camera\n",
    "        self.back_camera = back_camera\n",
    "        self.display = display"
   ]
  },
  {
   "cell_type": "code",
   "execution_count": null,
   "metadata": {},
   "outputs": [],
   "source": [
    "f1= Flagship_phone()"
   ]
  },
  {
   "cell_type": "code",
   "execution_count": null,
   "metadata": {},
   "outputs": [],
   "source": [
    "f2= Flagship_phone(\"Samsung\", \"S3\",60000,24,256,\"yes\", \"yes\",\"yes\")"
   ]
  },
  {
   "cell_type": "code",
   "execution_count": null,
   "metadata": {},
   "outputs": [],
   "source": [
    "f2.Type_of_phone()"
   ]
  },
  {
   "cell_type": "code",
   "execution_count": null,
   "metadata": {},
   "outputs": [],
   "source": [
    "f2.specifications()"
   ]
  },
  {
   "cell_type": "code",
   "execution_count": null,
   "metadata": {},
   "outputs": [],
   "source": [
    "f2.front_camera"
   ]
  },
  {
   "cell_type": "code",
   "execution_count": null,
   "metadata": {},
   "outputs": [],
   "source": [
    "f2.price"
   ]
  },
  {
   "cell_type": "code",
   "execution_count": null,
   "metadata": {},
   "outputs": [],
   "source": [
    "f2.specifications()"
   ]
  },
  {
   "cell_type": "markdown",
   "metadata": {},
   "source": [
    "## Heirarichal Inheritance"
   ]
  },
  {
   "cell_type": "code",
   "execution_count": null,
   "metadata": {},
   "outputs": [],
   "source": [
    "class Vehicle:\n",
    "    def info(self):\n",
    "        print(\"This is the Parent Class Vehicle\")\n",
    "\n",
    "class Car(Vehicle):\n",
    "    def car_info(self,name):\n",
    "        print(\"Car Name\", name)\n",
    "\n",
    "\n",
    "class Truck(Vehicle):\n",
    "    def truck_info(self, name):\n",
    "        print(\"Truck Name\",name)\n",
    "\n",
    "class Bus(Vehicle):\n",
    "    def bus_info(self, name):\n",
    "\n",
    "        print(\"Bus Name\",name)"
   ]
  },
  {
   "cell_type": "code",
   "execution_count": null,
   "metadata": {},
   "outputs": [],
   "source": [
    "c1= Car()"
   ]
  },
  {
   "cell_type": "code",
   "execution_count": null,
   "metadata": {},
   "outputs": [],
   "source": [
    "c1.info()"
   ]
  },
  {
   "cell_type": "code",
   "execution_count": null,
   "metadata": {},
   "outputs": [],
   "source": [
    "c1.car_info(\"abc\")"
   ]
  },
  {
   "cell_type": "code",
   "execution_count": null,
   "metadata": {},
   "outputs": [],
   "source": [
    "B1= Bus()\n",
    "B1.info()"
   ]
  },
  {
   "cell_type": "code",
   "execution_count": null,
   "metadata": {},
   "outputs": [],
   "source": [
    "t1= Truck()\n"
   ]
  },
  {
   "cell_type": "code",
   "execution_count": null,
   "metadata": {},
   "outputs": [],
   "source": [
    "t1.truck_info(\"Tata\")"
   ]
  },
  {
   "cell_type": "markdown",
   "metadata": {},
   "source": [
    "## Super \n",
    "\n",
    "1 - Super() is used when we need to build the classes that extends the functionality of the previously build classes.\n",
    "\n",
    "2 - Super function in python is used to access the methods of immediate parent class."
   ]
  },
  {
   "cell_type": "code",
   "execution_count": null,
   "metadata": {},
   "outputs": [],
   "source": [
    "class Company:\n",
    "    def company_name(self):\n",
    "        return \"ineuron\"\n",
    "    \n",
    "class Employee(Company):\n",
    "\n",
    "    def info(self):\n",
    "        comapny_name = super().company_name()\n",
    "        print(f\"I work at {comapny_name} \")"
   ]
  },
  {
   "cell_type": "code",
   "execution_count": null,
   "metadata": {},
   "outputs": [],
   "source": [
    "emp = Employee()"
   ]
  },
  {
   "cell_type": "code",
   "execution_count": null,
   "metadata": {},
   "outputs": [],
   "source": [
    "emp.company_name()"
   ]
  },
  {
   "cell_type": "code",
   "execution_count": null,
   "metadata": {},
   "outputs": [],
   "source": [
    "emp.info()"
   ]
  },
  {
   "cell_type": "markdown",
   "metadata": {},
   "source": [
    "- When we initialize a child class in python we can call super().__init__() method , this initializes the parent class object into child class"
   ]
  },
  {
   "cell_type": "code",
   "execution_count": null,
   "metadata": {},
   "outputs": [],
   "source": [
    "class Parent:\n",
    "    def __init__(self,v1,v2):\n",
    "        self.v1= v1\n",
    "        self.v2= v2\n",
    "\n",
    "class Child(Parent):\n",
    "    def __init__(self,v1,v2,v3):\n",
    "        super().__init__(v1,v2)# initializing the parent class object into the child class\n",
    "        self.v3= v3\n"
   ]
  },
  {
   "cell_type": "code",
   "execution_count": null,
   "metadata": {},
   "outputs": [],
   "source": [
    "c1= Child(1,2,3)"
   ]
  },
  {
   "cell_type": "code",
   "execution_count": null,
   "metadata": {},
   "outputs": [],
   "source": [
    "c1.v1"
   ]
  },
  {
   "cell_type": "code",
   "execution_count": 3,
   "metadata": {},
   "outputs": [],
   "source": [
    "class Parent:\n",
    "    def __init__(self):\n",
    "        print(\"THis is the parent class\")\n",
    "\n",
    "class Parent1:\n",
    "    def __init__(self):\n",
    "        print(\"THis is the parent1 class\")\n",
    "\n",
    "class Parent2:\n",
    "    \n",
    "    def __init__(self):\n",
    "        print(\"THis is the parent2 class\")\n",
    "\n",
    "\n",
    "\n",
    "class Child(Parent1,Parent2,Parent):\n",
    "    def __init__(self):\n",
    "        super().__init__()\n"
   ]
  },
  {
   "cell_type": "code",
   "execution_count": 4,
   "metadata": {},
   "outputs": [
    {
     "name": "stdout",
     "output_type": "stream",
     "text": [
      "THis is the parent1 class\n"
     ]
    }
   ],
   "source": [
    "ch= Child()\n",
    "# Here it should print -> This is the parent2 class"
   ]
  },
  {
   "cell_type": "code",
   "execution_count": 5,
   "metadata": {},
   "outputs": [],
   "source": [
    "class Parent:\n",
    "    def __init__(self):\n",
    "        print(\"THis is the parent class\")\n",
    "\n",
    "class Parent1:\n",
    "    def __init__(self):\n",
    "        print(\"THis is the parent1 class\")\n",
    "\n",
    "class Parent2:\n",
    "    \n",
    "    def __init__(self):\n",
    "        print(\"THis is the parent2 class\")\n",
    "    \n",
    "\n",
    "class Child(Parent,Parent1,Parent2):\n",
    "    def __init__(self):\n",
    "        super().__init__()"
   ]
  },
  {
   "cell_type": "code",
   "execution_count": 6,
   "metadata": {},
   "outputs": [
    {
     "name": "stdout",
     "output_type": "stream",
     "text": [
      "THis is the parent class\n"
     ]
    }
   ],
   "source": [
    "ch1= Child()"
   ]
  },
  {
   "cell_type": "code",
   "execution_count": null,
   "metadata": {},
   "outputs": [],
   "source": []
  }
 ],
 "metadata": {
  "kernelspec": {
   "display_name": "Python 3",
   "language": "python",
   "name": "python3"
  },
  "language_info": {
   "codemirror_mode": {
    "name": "ipython",
    "version": 3
   },
   "file_extension": ".py",
   "mimetype": "text/x-python",
   "name": "python",
   "nbconvert_exporter": "python",
   "pygments_lexer": "ipython3",
   "version": "3.11.8"
  }
 },
 "nbformat": 4,
 "nbformat_minor": 2
}
