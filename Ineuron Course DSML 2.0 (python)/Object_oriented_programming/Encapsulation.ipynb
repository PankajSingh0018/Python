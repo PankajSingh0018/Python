{
 "cells": [
  {
   "cell_type": "code",
   "execution_count": 1,
   "metadata": {},
   "outputs": [],
   "source": [
    "class Employee():\n",
    "\n",
    "    # initializing the constructor without any parameters\n",
    "    def __init__(self):\n",
    "        self.name = \"Pankaj Singh\"\n",
    "        self._emp_id = \"PS116\"  # protected member\n",
    "        self.gender = \"Male\"\n",
    "        self.__reporting_manager= \"Ankit Malhotra\" # private member\n",
    "    \n",
    "    # initializing a method to show the details \n",
    "\n",
    "    def show_employee_details(self):\n",
    "        print(f\"The employee Name is: {self.name} and has a gender: {self.gender}\")\n",
    "\n",
    "    \n",
    "    # initializing method to try access the public and private members\n",
    "    def show_private_protected_members(self):\n",
    "        print(f\"The employee code is : {self._emp_id}\")\n",
    "        print(f\"The reporting manager of the employee is {self.__reporting_manager}\")"
   ]
  },
  {
   "cell_type": "code",
   "execution_count": 2,
   "metadata": {},
   "outputs": [],
   "source": [
    "# creating an object of the class \n",
    "employee1= Employee()"
   ]
  },
  {
   "cell_type": "code",
   "execution_count": 3,
   "metadata": {},
   "outputs": [
    {
     "name": "stdout",
     "output_type": "stream",
     "text": [
      "The employee Name is: Pankaj Singh and has a gender: Male\n"
     ]
    }
   ],
   "source": [
    "# accessing the public members\n",
    "employee1.show_employee_details()"
   ]
  },
  {
   "cell_type": "code",
   "execution_count": 4,
   "metadata": {},
   "outputs": [
    {
     "name": "stdout",
     "output_type": "stream",
     "text": [
      "The employee code is : PS116\n",
      "The reporting manager of the employee is Ankit Malhotra\n"
     ]
    }
   ],
   "source": [
    "# trying to access the private and protected members\n",
    "employee1.show_private_protected_members()"
   ]
  },
  {
   "cell_type": "code",
   "execution_count": 5,
   "metadata": {},
   "outputs": [],
   "source": [
    "class Employee():\n",
    "\n",
    "    # initializing the constructor without any parameters\n",
    "    def __init__(self,name, emp_id, gender,reproting_manager):\n",
    "        self.name = name\n",
    "        self._emp_id = emp_id # protected member, won't be accessible directly by the object of the class [ Data hidden from the user]\n",
    "        self.gender = gender\n",
    "        self.__reporting_manager= reproting_manager # private member, won't be accessible directly by the object of the class [ Data hidden from the user]\n",
    "    \n",
    "    # initializing a method to show the details \n",
    "\n",
    "    def show_employee_details(self):\n",
    "        print(f\"The employee Name is: {self.name} and has a gender: {self.gender}\")\n",
    "\n",
    "    \n",
    "    # initializing method to try access the public and private members\n",
    "    def show_private_protected_members(self):\n",
    "        print(f\"The employee code is : {self._emp_id}\")\n",
    "        print(f\"The reporting manager of the employee is {self.__reporting_manager}\")"
   ]
  },
  {
   "cell_type": "code",
   "execution_count": 6,
   "metadata": {},
   "outputs": [],
   "source": [
    "emp= Employee(\"Pankaj\", \"PS1126L\",\"Male\",\"Ankit\")"
   ]
  },
  {
   "cell_type": "code",
   "execution_count": 7,
   "metadata": {},
   "outputs": [
    {
     "name": "stdout",
     "output_type": "stream",
     "text": [
      "The employee code is : PS1126L\n",
      "The reporting manager of the employee is Ankit\n"
     ]
    }
   ],
   "source": [
    "emp.show_private_protected_members()"
   ]
  },
  {
   "cell_type": "code",
   "execution_count": 8,
   "metadata": {},
   "outputs": [],
   "source": [
    "class Rectangle():\n",
    "    def __init__(self):\n",
    "\n",
    "        self.__length =5\n",
    "        self._breadth= 3\n",
    "\n",
    "        print(f\"The length of the rectangle is {self.__length}\")\n",
    "        print(f\"The breadth of the rectangle is {self._breadth}\")"
   ]
  },
  {
   "cell_type": "code",
   "execution_count": 9,
   "metadata": {},
   "outputs": [
    {
     "name": "stdout",
     "output_type": "stream",
     "text": [
      "The length of the rectangle is 5\n",
      "The breadth of the rectangle is 3\n"
     ]
    }
   ],
   "source": [
    "# creating an object of the class and accessing the instances\n",
    "\n",
    "rect= Rectangle()"
   ]
  },
  {
   "cell_type": "markdown",
   "metadata": {},
   "source": [
    "Since we have initialized the object and the instances are within the class , we are able to access both the private and protected instances.\n"
   ]
  },
  {
   "cell_type": "code",
   "execution_count": 10,
   "metadata": {},
   "outputs": [
    {
     "data": {
      "text/plain": [
       "3"
      ]
     },
     "execution_count": 10,
     "metadata": {},
     "output_type": "execute_result"
    }
   ],
   "source": [
    "rect._breadth\n",
    "# since it is protected instance, we are able to access it throught the object as well"
   ]
  },
  {
   "cell_type": "code",
   "execution_count": 11,
   "metadata": {},
   "outputs": [
    {
     "ename": "AttributeError",
     "evalue": "'Rectangle' object has no attribute '__length'",
     "output_type": "error",
     "traceback": [
      "\u001b[1;31m---------------------------------------------------------------------------\u001b[0m",
      "\u001b[1;31mAttributeError\u001b[0m                            Traceback (most recent call last)",
      "Cell \u001b[1;32mIn[11], line 1\u001b[0m\n\u001b[1;32m----> 1\u001b[0m \u001b[43mrect\u001b[49m\u001b[38;5;241;43m.\u001b[39;49m\u001b[43m__length\u001b[49m\n\u001b[0;32m      2\u001b[0m \u001b[38;5;66;03m# since the instance is a privated instance, the object can't access it and thus getting an attribute error since it is not able to find that particular instance\u001b[39;00m\n",
      "\u001b[1;31mAttributeError\u001b[0m: 'Rectangle' object has no attribute '__length'"
     ]
    }
   ],
   "source": [
    "rect.__length\n",
    "# since the instance is a privated instance, the object can't access it and thus getting an attribute error since it is not able to find that particular instance"
   ]
  },
  {
   "cell_type": "code",
   "execution_count": 14,
   "metadata": {},
   "outputs": [
    {
     "name": "stdout",
     "output_type": "stream",
     "text": [
      "The length of the rectangle is 5\n",
      "The breadth of the rectangle is 3\n"
     ]
    },
    {
     "data": {
      "text/plain": [
       "5"
      ]
     },
     "execution_count": 14,
     "metadata": {},
     "output_type": "execute_result"
    }
   ],
   "source": [
    "react = Rectangle()\n",
    "\n",
    "# accessing the private and protected members \n",
    "react._Rectangle__length\n",
    "\n",
    "# this method is called Name Mangling"
   ]
  },
  {
   "cell_type": "code",
   "execution_count": 15,
   "metadata": {},
   "outputs": [],
   "source": [
    "class Test():\n",
    "    # Parameterized constructor \n",
    "    def __init__(self,a,b,c):\n",
    "        self.a= a\n",
    "        self._b = b # protected member\n",
    "        self.__C= c # private member\n",
    "        # print(f\"protected member: {self._b}, private member :{self.__C}\")\n",
    "    #method to access the private and protected members\n",
    "    def access_private_protected(self):\n",
    "        print(f\"The protected member is {self._b}\")\n",
    "        print(f\"The private member is {self.__C}\")\n"
   ]
  },
  {
   "cell_type": "code",
   "execution_count": 16,
   "metadata": {},
   "outputs": [],
   "source": [
    "t1= Test(1,2,3)\n",
    "\n",
    "# the protected and the private member are accessible because they are under the constructor"
   ]
  },
  {
   "cell_type": "code",
   "execution_count": 17,
   "metadata": {},
   "outputs": [
    {
     "name": "stdout",
     "output_type": "stream",
     "text": [
      "The protected member is 2\n",
      "The private member is 3\n"
     ]
    }
   ],
   "source": [
    "#Accessing the private and the protected members using \"Method/function\"\n",
    "t1.access_private_protected()\n"
   ]
  },
  {
   "cell_type": "code",
   "execution_count": 20,
   "metadata": {},
   "outputs": [
    {
     "data": {
      "text/plain": [
       "4"
      ]
     },
     "execution_count": 20,
     "metadata": {},
     "output_type": "execute_result"
    }
   ],
   "source": [
    "# Accessing the Private and protected members using \"Name Mangling\"\n",
    "t2=Test(2,3,4)\n",
    "t2._Test__C"
   ]
  },
  {
   "cell_type": "code",
   "execution_count": 21,
   "metadata": {},
   "outputs": [],
   "source": [
    "class Tyres:\n",
    "    # parameterized constructor for initializing the methods and the attributes\n",
    "    def __init__(self,branch,belted_bias,opt_press):\n",
    "        self.branch = branch\n",
    "        self.belted_bias = belted_bias\n",
    "        self.opt_press = opt_press\n",
    "\n",
    "    def __str__(self) -> str:\n",
    "        return (\"Tyres: \\n \\t Branch :\"+ self.branch+\n",
    "                \"\\n \\t Belted Bias :\"+ str(self.belted_bias)+\n",
    "                \"\\n \\t Optimal Pressure :\" + str(self.opt_press)\n",
    "                )\n",
    "    \n",
    "\n",
    "class Engine:\n",
    "    # parameterized constructor for initializing the methods and the attributes\n",
    "    def __init__(self, fuel_type,noise_level):\n",
    "        self.fuel_type = fuel_type\n",
    "        self.noise_level= noise_level\n",
    "\n",
    "    def __str__(self) -> str:\n",
    "        return (\"Engine: \\n \\t Fuel Type :\"+ self.fuel_type +\n",
    "                \"\\n \\t Noise Level :\"+ str(self.noise_level)\n",
    "                )\n",
    "\n",
    "class Body:\n",
    "    # parameterized constructor for initilaizing the methods and the attributes\n",
    "    def __init__(self,size):\n",
    "        self.size = size\n",
    "    \n",
    "    def __str__(self) -> str:\n",
    "        return (\"Body: \\n \\t Size :\" + self.size)\n",
    "    \n",
    "\n",
    "class Car: \n",
    "    # parameterized constructor for initializing the methods and the attributes\n",
    "    def __init__(self, tyres, engine, body): # This class is showcasing the concept of Composition in OOPS \n",
    "        self.tyres= tyres\n",
    "        self.engine= engine\n",
    "        self.body = body \n",
    "\n",
    "    def __str__(self) -> str: # returns a string \n",
    "        return (str(self.tyres) + \"\\n\" + str(self.engine) + \"\\n\" + str(self.body))\n",
    "    "
   ]
  },
  {
   "cell_type": "code",
   "execution_count": 22,
   "metadata": {},
   "outputs": [],
   "source": [
    "# intializing the objects and passing the parameters to the construction\n",
    "t= Tyres(\"Bangalore\", True, 2.5) \n",
    "e= Engine(\"Petrol\",56.8)\n",
    "b = Body(\"SUV\")\n",
    "c = Car(t,e,b)"
   ]
  },
  {
   "cell_type": "code",
   "execution_count": 6,
   "metadata": {},
   "outputs": [
    {
     "name": "stdout",
     "output_type": "stream",
     "text": [
      "Tyres: \n",
      " \t Branch :Bangalore\n",
      " \t Belted Bias :True\n",
      " \t Optimal Pressure :2.5\n",
      "Engine: \n",
      " \t Fuel Type :Petrol\n",
      " \t Noise Level :56.8\n",
      "Body: \n",
      " \t Size :SUV\n"
     ]
    }
   ],
   "source": [
    "print(c)"
   ]
  },
  {
   "cell_type": "code",
   "execution_count": 7,
   "metadata": {},
   "outputs": [
    {
     "data": {
      "text/plain": [
       "'Bangalore'"
      ]
     },
     "execution_count": 7,
     "metadata": {},
     "output_type": "execute_result"
    }
   ],
   "source": [
    "t.branch"
   ]
  }
 ],
 "metadata": {
  "kernelspec": {
   "display_name": "Python 3",
   "language": "python",
   "name": "python3"
  },
  "language_info": {
   "codemirror_mode": {
    "name": "ipython",
    "version": 3
   },
   "file_extension": ".py",
   "mimetype": "text/x-python",
   "name": "python",
   "nbconvert_exporter": "python",
   "pygments_lexer": "ipython3",
   "version": "3.11.8"
  }
 },
 "nbformat": 4,
 "nbformat_minor": 2
}
